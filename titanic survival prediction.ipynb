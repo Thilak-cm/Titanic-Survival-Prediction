{
  "metadata": {
    "kernelspec": {
      "language": "python",
      "display_name": "Python 3",
      "name": "python3"
    },
    "language_info": {
      "pygments_lexer": "ipython3",
      "nbconvert_exporter": "python",
      "version": "3.6.4",
      "file_extension": ".py",
      "codemirror_mode": {
        "name": "ipython",
        "version": 3
      },
      "name": "python",
      "mimetype": "text/x-python"
    }
  },
  "nbformat_minor": 4,
  "nbformat": 4,
  "cells": [
    {
      "cell_type": "code",
      "source": "# This Python 3 environment comes with many helpful analytics libraries installed\n# It is defined by the kaggle/python Docker image: https://github.com/kaggle/docker-python\n# For example, here's several helpful packages to load\n\nimport numpy as np # linear algebra\nimport pandas as pd # data processing, CSV file I/O (e.g. pd.read_csv)\n\n# Input data files are available in the read-only \"../input/\" directory\n# For example, running this (by clicking run or pressing Shift+Enter) will list all files under the input directory\n\nimport os\nfor dirname, _, filenames in os.walk('/kaggle/input'):\n    for filename in filenames:\n        print(os.path.join(dirname, filename))\n\n# You can write up to 20GB to the current directory (/kaggle/working/) that gets preserved as output when you create a version using \"Save & Run All\" \n# You can also write temporary files to /kaggle/temp/, but they won't be saved outside of the current session",
      "metadata": {
        "_uuid": "8f2839f25d086af736a60e9eeb907d3b93b6e0e5",
        "_cell_guid": "b1076dfc-b9ad-4769-8c92-a6c4dae69d19",
        "execution": {
          "iopub.status.busy": "2022-06-12T11:22:06.197276Z",
          "iopub.execute_input": "2022-06-12T11:22:06.197693Z",
          "iopub.status.idle": "2022-06-12T11:22:06.205113Z",
          "shell.execute_reply.started": "2022-06-12T11:22:06.197659Z",
          "shell.execute_reply": "2022-06-12T11:22:06.204116Z"
        },
        "trusted": true
      },
      "execution_count": null,
      "outputs": []
    },
    {
      "cell_type": "code",
      "source": "pip install dabl",
      "metadata": {
        "execution": {
          "iopub.status.busy": "2022-06-12T11:22:06.209473Z",
          "iopub.execute_input": "2022-06-12T11:22:06.210191Z",
          "iopub.status.idle": "2022-06-12T11:22:15.504453Z",
          "shell.execute_reply.started": "2022-06-12T11:22:06.210151Z",
          "shell.execute_reply": "2022-06-12T11:22:15.503233Z"
        },
        "trusted": true
      },
      "execution_count": null,
      "outputs": []
    },
    {
      "cell_type": "code",
      "source": "import pandas as pd\nimport numpy as np\nimport seaborn as sns\nimport matplotlib.pyplot as plt\nimport dabl\nfrom sklearn.model_selection import train_test_split\nfrom sklearn.impute import KNNImputer\nfrom sklearn.ensemble import RandomForestClassifier\nfrom xgboost import XGBClassifier\nfrom sklearn.neighbors import KNeighborsClassifier\nfrom keras.models import Sequential\nfrom keras.layers import Dense, Dropout\nfrom keras.callbacks import EarlyStopping\n\n\nfrom sklearn.metrics import classification_report, confusion_matrix\n\n%matplotlib inline",
      "metadata": {
        "execution": {
          "iopub.status.busy": "2022-06-12T11:23:47.363711Z",
          "iopub.execute_input": "2022-06-12T11:23:47.364103Z",
          "iopub.status.idle": "2022-06-12T11:23:47.372845Z",
          "shell.execute_reply.started": "2022-06-12T11:23:47.364073Z",
          "shell.execute_reply": "2022-06-12T11:23:47.371990Z"
        },
        "trusted": true
      },
      "execution_count": null,
      "outputs": []
    },
    {
      "cell_type": "code",
      "source": "train_df = pd.read_csv(\"/kaggle/input/titanic/train.csv\")\ntest_df = pd.read_csv('/kaggle/input/titanic/test.csv')",
      "metadata": {
        "execution": {
          "iopub.status.busy": "2022-06-12T11:22:15.516733Z",
          "iopub.execute_input": "2022-06-12T11:22:15.517161Z",
          "iopub.status.idle": "2022-06-12T11:22:15.541147Z",
          "shell.execute_reply.started": "2022-06-12T11:22:15.517121Z",
          "shell.execute_reply": "2022-06-12T11:22:15.540377Z"
        },
        "trusted": true
      },
      "execution_count": null,
      "outputs": []
    },
    {
      "cell_type": "markdown",
      "source": "# EDA",
      "metadata": {}
    },
    {
      "cell_type": "code",
      "source": "train_df.head()",
      "metadata": {
        "execution": {
          "iopub.status.busy": "2022-06-12T11:22:15.542733Z",
          "iopub.execute_input": "2022-06-12T11:22:15.543232Z",
          "iopub.status.idle": "2022-06-12T11:22:15.569558Z",
          "shell.execute_reply.started": "2022-06-12T11:22:15.543202Z",
          "shell.execute_reply": "2022-06-12T11:22:15.568778Z"
        },
        "trusted": true
      },
      "execution_count": null,
      "outputs": []
    },
    {
      "cell_type": "code",
      "source": "train_df.info()",
      "metadata": {
        "execution": {
          "iopub.status.busy": "2022-06-12T11:22:15.570995Z",
          "iopub.execute_input": "2022-06-12T11:22:15.571611Z",
          "iopub.status.idle": "2022-06-12T11:22:15.597681Z",
          "shell.execute_reply.started": "2022-06-12T11:22:15.571557Z",
          "shell.execute_reply": "2022-06-12T11:22:15.596594Z"
        },
        "trusted": true
      },
      "execution_count": null,
      "outputs": []
    },
    {
      "cell_type": "code",
      "source": "train_df.drop(['PassengerId', 'Name'], axis=1, inplace=True)",
      "metadata": {
        "execution": {
          "iopub.status.busy": "2022-06-12T11:22:15.598802Z",
          "iopub.execute_input": "2022-06-12T11:22:15.599211Z",
          "iopub.status.idle": "2022-06-12T11:22:15.605587Z",
          "shell.execute_reply.started": "2022-06-12T11:22:15.599180Z",
          "shell.execute_reply": "2022-06-12T11:22:15.604937Z"
        },
        "trusted": true
      },
      "execution_count": null,
      "outputs": []
    },
    {
      "cell_type": "code",
      "source": "train_df.describe().T",
      "metadata": {
        "execution": {
          "iopub.status.busy": "2022-06-12T11:22:15.606492Z",
          "iopub.execute_input": "2022-06-12T11:22:15.607349Z",
          "iopub.status.idle": "2022-06-12T11:22:15.645848Z",
          "shell.execute_reply.started": "2022-06-12T11:22:15.607321Z",
          "shell.execute_reply": "2022-06-12T11:22:15.644923Z"
        },
        "trusted": true
      },
      "execution_count": null,
      "outputs": []
    },
    {
      "cell_type": "code",
      "source": "sns.countplot(x=train_df['Survived'], palette='pastel')",
      "metadata": {
        "execution": {
          "iopub.status.busy": "2022-06-12T11:22:15.648827Z",
          "iopub.execute_input": "2022-06-12T11:22:15.649467Z",
          "iopub.status.idle": "2022-06-12T11:22:15.829993Z",
          "shell.execute_reply.started": "2022-06-12T11:22:15.649437Z",
          "shell.execute_reply": "2022-06-12T11:22:15.829221Z"
        },
        "trusted": true
      },
      "execution_count": null,
      "outputs": []
    },
    {
      "cell_type": "code",
      "source": "def make_countplot(train_df, col):\n    sns.countplot(x=train_df['Survived'], palette='pastel', hue=train_df[col])\n    plt.tight_layout(rect=(0, 0, 1.2, 1.2))\n    plt.show()\n#     plt.tight_layout(rect=(0, 0, 1.2, 1.2))\n    return None",
      "metadata": {
        "execution": {
          "iopub.status.busy": "2022-06-12T11:22:15.830929Z",
          "iopub.execute_input": "2022-06-12T11:22:15.831330Z",
          "iopub.status.idle": "2022-06-12T11:22:15.836518Z",
          "shell.execute_reply.started": "2022-06-12T11:22:15.831303Z",
          "shell.execute_reply": "2022-06-12T11:22:15.835406Z"
        },
        "trusted": true
      },
      "execution_count": null,
      "outputs": []
    },
    {
      "cell_type": "code",
      "source": "df = train_df.drop(['Age', 'Fare', 'Ticket', 'Cabin'], axis=1)\nfor col in df.columns:\n    make_countplot(df, col)\n",
      "metadata": {
        "execution": {
          "iopub.status.busy": "2022-06-12T11:22:15.839059Z",
          "iopub.execute_input": "2022-06-12T11:22:15.839663Z",
          "iopub.status.idle": "2022-06-12T11:22:17.203513Z",
          "shell.execute_reply.started": "2022-06-12T11:22:15.839633Z",
          "shell.execute_reply": "2022-06-12T11:22:17.202801Z"
        },
        "trusted": true
      },
      "execution_count": null,
      "outputs": []
    },
    {
      "cell_type": "code",
      "source": "df = train_df",
      "metadata": {
        "execution": {
          "iopub.status.busy": "2022-06-12T11:22:17.204596Z",
          "iopub.execute_input": "2022-06-12T11:22:17.205078Z",
          "iopub.status.idle": "2022-06-12T11:22:17.209086Z",
          "shell.execute_reply.started": "2022-06-12T11:22:17.205048Z",
          "shell.execute_reply": "2022-06-12T11:22:17.208352Z"
        },
        "trusted": true
      },
      "execution_count": null,
      "outputs": []
    },
    {
      "cell_type": "code",
      "source": "plt.pie(df['Sex'].value_counts(), labels=['Male', 'Female'], autopct='%.2f')\nplt.axis('equal')\nplt.show()",
      "metadata": {
        "execution": {
          "iopub.status.busy": "2022-06-12T11:22:17.210236Z",
          "iopub.execute_input": "2022-06-12T11:22:17.210907Z",
          "iopub.status.idle": "2022-06-12T11:22:17.319697Z",
          "shell.execute_reply.started": "2022-06-12T11:22:17.210875Z",
          "shell.execute_reply": "2022-06-12T11:22:17.318703Z"
        },
        "trusted": true
      },
      "execution_count": null,
      "outputs": []
    },
    {
      "cell_type": "code",
      "source": "sns.violinplot(x=train_df['Fare'])\nsns.boxplot(x=train_df['Fare'], color='orange')\nplt.show()\nsns.histplot(x=train_df['Fare'], bins=20, kde=True, color='purple')",
      "metadata": {
        "execution": {
          "iopub.status.busy": "2022-06-12T11:22:17.321515Z",
          "iopub.execute_input": "2022-06-12T11:22:17.322234Z",
          "iopub.status.idle": "2022-06-12T11:22:17.736794Z",
          "shell.execute_reply.started": "2022-06-12T11:22:17.322188Z",
          "shell.execute_reply": "2022-06-12T11:22:17.735754Z"
        },
        "trusted": true
      },
      "execution_count": null,
      "outputs": []
    },
    {
      "cell_type": "code",
      "source": "pp = sns.pairplot(df, size=1.8, aspect=1.8, diag_kind='kde', diag_kws=dict(shade=True))\nfig = pp.fig\nfig.subplots_adjust(top=0.83, wspace=0.33)",
      "metadata": {
        "execution": {
          "iopub.status.busy": "2022-06-12T11:22:17.738071Z",
          "iopub.execute_input": "2022-06-12T11:22:17.738408Z",
          "iopub.status.idle": "2022-06-12T11:22:23.720699Z",
          "shell.execute_reply.started": "2022-06-12T11:22:17.738378Z",
          "shell.execute_reply": "2022-06-12T11:22:23.715818Z"
        },
        "trusted": true
      },
      "execution_count": null,
      "outputs": []
    },
    {
      "cell_type": "code",
      "source": "sns.jointplot(x=df['Fare'], y=df['Age'])",
      "metadata": {
        "execution": {
          "iopub.status.busy": "2022-06-12T11:22:23.721618Z",
          "iopub.execute_input": "2022-06-12T11:22:23.721943Z",
          "iopub.status.idle": "2022-06-12T11:22:24.368822Z",
          "shell.execute_reply.started": "2022-06-12T11:22:23.721896Z",
          "shell.execute_reply": "2022-06-12T11:22:24.367903Z"
        },
        "trusted": true
      },
      "execution_count": null,
      "outputs": []
    },
    {
      "cell_type": "code",
      "source": "df[df['Fare'] > 200]",
      "metadata": {
        "execution": {
          "iopub.status.busy": "2022-06-12T11:22:24.370120Z",
          "iopub.execute_input": "2022-06-12T11:22:24.371065Z",
          "iopub.status.idle": "2022-06-12T11:22:24.390370Z",
          "shell.execute_reply.started": "2022-06-12T11:22:24.371021Z",
          "shell.execute_reply": "2022-06-12T11:22:24.389421Z"
        },
        "trusted": true
      },
      "execution_count": null,
      "outputs": []
    },
    {
      "cell_type": "code",
      "source": "idx = df[df['Fare'] > 500].index \ndf.drop(idx, inplace=True)",
      "metadata": {
        "execution": {
          "iopub.status.busy": "2022-06-12T11:22:24.392099Z",
          "iopub.execute_input": "2022-06-12T11:22:24.392795Z",
          "iopub.status.idle": "2022-06-12T11:22:24.403874Z",
          "shell.execute_reply.started": "2022-06-12T11:22:24.392753Z",
          "shell.execute_reply": "2022-06-12T11:22:24.402686Z"
        },
        "trusted": true
      },
      "execution_count": null,
      "outputs": []
    },
    {
      "cell_type": "code",
      "source": "idx = df[df['Age'] < 1].index\ndf.drop(idx, inplace=True)",
      "metadata": {
        "execution": {
          "iopub.status.busy": "2022-06-12T11:22:24.405624Z",
          "iopub.execute_input": "2022-06-12T11:22:24.406313Z",
          "iopub.status.idle": "2022-06-12T11:22:24.421308Z",
          "shell.execute_reply.started": "2022-06-12T11:22:24.406271Z",
          "shell.execute_reply": "2022-06-12T11:22:24.420465Z"
        },
        "trusted": true
      },
      "execution_count": null,
      "outputs": []
    },
    {
      "cell_type": "code",
      "source": "dabl.plot(df.drop('Survived', axis=1), df['Survived'])",
      "metadata": {
        "execution": {
          "iopub.status.busy": "2022-06-12T11:22:24.422691Z",
          "iopub.execute_input": "2022-06-12T11:22:24.423191Z",
          "iopub.status.idle": "2022-06-12T11:22:28.347036Z",
          "shell.execute_reply.started": "2022-06-12T11:22:24.423162Z",
          "shell.execute_reply": "2022-06-12T11:22:28.345828Z"
        },
        "trusted": true
      },
      "execution_count": null,
      "outputs": []
    },
    {
      "cell_type": "markdown",
      "source": "### 0 -> did not survive\n### 1 -> survived",
      "metadata": {
        "execution": {
          "iopub.status.busy": "2022-06-12T08:53:49.53529Z",
          "iopub.execute_input": "2022-06-12T08:53:49.536229Z",
          "iopub.status.idle": "2022-06-12T08:53:49.542539Z",
          "shell.execute_reply.started": "2022-06-12T08:53:49.536194Z",
          "shell.execute_reply": "2022-06-12T08:53:49.541065Z"
        }
      }
    },
    {
      "cell_type": "markdown",
      "source": "# Imputation",
      "metadata": {}
    },
    {
      "cell_type": "code",
      "source": "df.isna().sum()[df.isna().sum() != 0]",
      "metadata": {
        "execution": {
          "iopub.status.busy": "2022-06-12T11:22:28.348386Z",
          "iopub.execute_input": "2022-06-12T11:22:28.348820Z",
          "iopub.status.idle": "2022-06-12T11:22:28.360516Z",
          "shell.execute_reply.started": "2022-06-12T11:22:28.348788Z",
          "shell.execute_reply": "2022-06-12T11:22:28.359522Z"
        },
        "trusted": true
      },
      "execution_count": null,
      "outputs": []
    },
    {
      "cell_type": "code",
      "source": "df['Cabin'].value_counts().sum()",
      "metadata": {
        "execution": {
          "iopub.status.busy": "2022-06-12T11:22:28.361825Z",
          "iopub.execute_input": "2022-06-12T11:22:28.362669Z",
          "iopub.status.idle": "2022-06-12T11:22:28.376453Z",
          "shell.execute_reply.started": "2022-06-12T11:22:28.362628Z",
          "shell.execute_reply": "2022-06-12T11:22:28.375141Z"
        },
        "trusted": true
      },
      "execution_count": null,
      "outputs": []
    },
    {
      "cell_type": "markdown",
      "source": "there are only 202 filled values in Cabin column, 686 values are NaN values",
      "metadata": {}
    },
    {
      "cell_type": "code",
      "source": "df.drop('Cabin', axis=1, inplace=True)",
      "metadata": {
        "execution": {
          "iopub.status.busy": "2022-06-12T11:22:28.377676Z",
          "iopub.execute_input": "2022-06-12T11:22:28.378366Z",
          "iopub.status.idle": "2022-06-12T11:22:28.386975Z",
          "shell.execute_reply.started": "2022-06-12T11:22:28.378332Z",
          "shell.execute_reply": "2022-06-12T11:22:28.385983Z"
        },
        "trusted": true
      },
      "execution_count": null,
      "outputs": []
    },
    {
      "cell_type": "code",
      "source": "imputer = KNNImputer()\nx = imputer.fit_transform(df.select_dtypes(exclude='object'))\ndf_filled = pd.DataFrame(data=x, columns=df.select_dtypes(exclude='object').columns)",
      "metadata": {
        "execution": {
          "iopub.status.busy": "2022-06-12T11:22:28.388081Z",
          "iopub.execute_input": "2022-06-12T11:22:28.388409Z",
          "iopub.status.idle": "2022-06-12T11:22:28.427618Z",
          "shell.execute_reply.started": "2022-06-12T11:22:28.388383Z",
          "shell.execute_reply": "2022-06-12T11:22:28.426285Z"
        },
        "trusted": true
      },
      "execution_count": null,
      "outputs": []
    },
    {
      "cell_type": "code",
      "source": "df_filled.head()",
      "metadata": {
        "execution": {
          "iopub.status.busy": "2022-06-12T11:22:28.433140Z",
          "iopub.execute_input": "2022-06-12T11:22:28.434357Z",
          "iopub.status.idle": "2022-06-12T11:22:28.459388Z",
          "shell.execute_reply.started": "2022-06-12T11:22:28.434300Z",
          "shell.execute_reply": "2022-06-12T11:22:28.458387Z"
        },
        "trusted": true
      },
      "execution_count": null,
      "outputs": []
    },
    {
      "cell_type": "code",
      "source": "df = df.reset_index()",
      "metadata": {
        "execution": {
          "iopub.status.busy": "2022-06-12T11:22:28.461195Z",
          "iopub.execute_input": "2022-06-12T11:22:28.461842Z",
          "iopub.status.idle": "2022-06-12T11:22:28.467657Z",
          "shell.execute_reply.started": "2022-06-12T11:22:28.461799Z",
          "shell.execute_reply": "2022-06-12T11:22:28.466660Z"
        },
        "trusted": true
      },
      "execution_count": null,
      "outputs": []
    },
    {
      "cell_type": "code",
      "source": "df = pd.concat([df_filled, df.select_dtypes(include='object')], axis=1)",
      "metadata": {
        "execution": {
          "iopub.status.busy": "2022-06-12T11:22:28.469116Z",
          "iopub.execute_input": "2022-06-12T11:22:28.469691Z",
          "iopub.status.idle": "2022-06-12T11:22:28.480845Z",
          "shell.execute_reply.started": "2022-06-12T11:22:28.469650Z",
          "shell.execute_reply": "2022-06-12T11:22:28.479798Z"
        },
        "trusted": true
      },
      "execution_count": null,
      "outputs": []
    },
    {
      "cell_type": "code",
      "source": "df",
      "metadata": {
        "execution": {
          "iopub.status.busy": "2022-06-12T11:22:28.482344Z",
          "iopub.execute_input": "2022-06-12T11:22:28.483126Z",
          "iopub.status.idle": "2022-06-12T11:22:28.517713Z",
          "shell.execute_reply.started": "2022-06-12T11:22:28.483085Z",
          "shell.execute_reply": "2022-06-12T11:22:28.516823Z"
        },
        "trusted": true
      },
      "execution_count": null,
      "outputs": []
    },
    {
      "cell_type": "code",
      "source": "df['Embarked'].ffill(inplace=True)",
      "metadata": {
        "execution": {
          "iopub.status.busy": "2022-06-12T11:22:28.523462Z",
          "iopub.execute_input": "2022-06-12T11:22:28.524142Z",
          "iopub.status.idle": "2022-06-12T11:22:28.533950Z",
          "shell.execute_reply.started": "2022-06-12T11:22:28.524091Z",
          "shell.execute_reply": "2022-06-12T11:22:28.533252Z"
        },
        "trusted": true
      },
      "execution_count": null,
      "outputs": []
    },
    {
      "cell_type": "code",
      "source": "df.isna().sum()",
      "metadata": {
        "execution": {
          "iopub.status.busy": "2022-06-12T11:22:28.534908Z",
          "iopub.execute_input": "2022-06-12T11:22:28.535335Z",
          "iopub.status.idle": "2022-06-12T11:22:28.547890Z",
          "shell.execute_reply.started": "2022-06-12T11:22:28.535309Z",
          "shell.execute_reply": "2022-06-12T11:22:28.547244Z"
        },
        "trusted": true
      },
      "execution_count": null,
      "outputs": []
    },
    {
      "cell_type": "markdown",
      "source": "# Encoding categorical columns",
      "metadata": {}
    },
    {
      "cell_type": "code",
      "source": "df.select_dtypes(include='object').columns",
      "metadata": {
        "execution": {
          "iopub.status.busy": "2022-06-12T11:22:28.548990Z",
          "iopub.execute_input": "2022-06-12T11:22:28.549410Z",
          "iopub.status.idle": "2022-06-12T11:22:28.556586Z",
          "shell.execute_reply.started": "2022-06-12T11:22:28.549384Z",
          "shell.execute_reply": "2022-06-12T11:22:28.555975Z"
        },
        "trusted": true
      },
      "execution_count": null,
      "outputs": []
    },
    {
      "cell_type": "code",
      "source": "print('Column \"Sex\" has ' + str(df['Sex'].nunique()) + ' unique values')\nprint('Column \"Ticker\" has ' + str(df['Ticket'].nunique()) + ' unique values')\nprint('Column \"Embarked\" has ' + str(df['Embarked'].nunique()) + ' unique values')",
      "metadata": {
        "execution": {
          "iopub.status.busy": "2022-06-12T11:22:28.557639Z",
          "iopub.execute_input": "2022-06-12T11:22:28.558422Z",
          "iopub.status.idle": "2022-06-12T11:22:28.567229Z",
          "shell.execute_reply.started": "2022-06-12T11:22:28.558389Z",
          "shell.execute_reply": "2022-06-12T11:22:28.566375Z"
        },
        "trusted": true
      },
      "execution_count": null,
      "outputs": []
    },
    {
      "cell_type": "code",
      "source": "df.drop('Ticket', axis=1, inplace=True)",
      "metadata": {
        "execution": {
          "iopub.status.busy": "2022-06-12T11:22:28.568526Z",
          "iopub.execute_input": "2022-06-12T11:22:28.569464Z",
          "iopub.status.idle": "2022-06-12T11:22:28.576734Z",
          "shell.execute_reply.started": "2022-06-12T11:22:28.569434Z",
          "shell.execute_reply": "2022-06-12T11:22:28.576046Z"
        },
        "trusted": true
      },
      "execution_count": null,
      "outputs": []
    },
    {
      "cell_type": "code",
      "source": "df = pd.concat([pd.get_dummies(df['Sex'], drop_first=True) , df.drop('Sex', axis=1)], axis=1)\ndf = pd.concat([pd.get_dummies(df['Embarked'], drop_first=True) , df.drop('Embarked', axis=1)], axis=1)",
      "metadata": {
        "execution": {
          "iopub.status.busy": "2022-06-12T11:22:28.577859Z",
          "iopub.execute_input": "2022-06-12T11:22:28.578706Z",
          "iopub.status.idle": "2022-06-12T11:22:28.593517Z",
          "shell.execute_reply.started": "2022-06-12T11:22:28.578675Z",
          "shell.execute_reply": "2022-06-12T11:22:28.592344Z"
        },
        "trusted": true
      },
      "execution_count": null,
      "outputs": []
    },
    {
      "cell_type": "code",
      "source": "df.head()",
      "metadata": {
        "execution": {
          "iopub.status.busy": "2022-06-12T11:22:28.594880Z",
          "iopub.execute_input": "2022-06-12T11:22:28.595334Z",
          "iopub.status.idle": "2022-06-12T11:22:28.611175Z",
          "shell.execute_reply.started": "2022-06-12T11:22:28.595294Z",
          "shell.execute_reply": "2022-06-12T11:22:28.610104Z"
        },
        "trusted": true
      },
      "execution_count": null,
      "outputs": []
    },
    {
      "cell_type": "markdown",
      "source": "# Train-Test split of dataset",
      "metadata": {}
    },
    {
      "cell_type": "code",
      "source": "X = df.drop('Survived', axis=1)\ny = df['Survived']\nX_train, X_test, y_train, y_test = train_test_split(X, y, test_size=0.05, random_state=42)",
      "metadata": {
        "execution": {
          "iopub.status.busy": "2022-06-12T11:22:28.612668Z",
          "iopub.execute_input": "2022-06-12T11:22:28.613007Z",
          "iopub.status.idle": "2022-06-12T11:22:28.627697Z",
          "shell.execute_reply.started": "2022-06-12T11:22:28.612981Z",
          "shell.execute_reply": "2022-06-12T11:22:28.626879Z"
        },
        "trusted": true
      },
      "execution_count": null,
      "outputs": []
    },
    {
      "cell_type": "code",
      "source": "X.head()",
      "metadata": {
        "execution": {
          "iopub.status.busy": "2022-06-12T11:22:28.629194Z",
          "iopub.execute_input": "2022-06-12T11:22:28.629742Z",
          "iopub.status.idle": "2022-06-12T11:22:28.644979Z",
          "shell.execute_reply.started": "2022-06-12T11:22:28.629710Z",
          "shell.execute_reply": "2022-06-12T11:22:28.644188Z"
        },
        "trusted": true
      },
      "execution_count": null,
      "outputs": []
    },
    {
      "cell_type": "markdown",
      "source": "# Preparing Test data for submission",
      "metadata": {}
    },
    {
      "cell_type": "code",
      "source": "test_df",
      "metadata": {
        "execution": {
          "iopub.status.busy": "2022-06-12T11:22:28.646421Z",
          "iopub.execute_input": "2022-06-12T11:22:28.646775Z",
          "iopub.status.idle": "2022-06-12T11:22:28.672540Z",
          "shell.execute_reply.started": "2022-06-12T11:22:28.646745Z",
          "shell.execute_reply": "2022-06-12T11:22:28.671593Z"
        },
        "trusted": true
      },
      "execution_count": null,
      "outputs": []
    },
    {
      "cell_type": "code",
      "source": "test_df.drop(['PassengerId', 'Name', 'Ticket', 'Cabin'], axis=1, inplace=True)\ntest_df.head()",
      "metadata": {
        "execution": {
          "iopub.status.busy": "2022-06-12T11:22:28.673480Z",
          "iopub.execute_input": "2022-06-12T11:22:28.673944Z",
          "iopub.status.idle": "2022-06-12T11:22:28.686960Z",
          "shell.execute_reply.started": "2022-06-12T11:22:28.673904Z",
          "shell.execute_reply": "2022-06-12T11:22:28.686257Z"
        },
        "trusted": true
      },
      "execution_count": null,
      "outputs": []
    },
    {
      "cell_type": "code",
      "source": "test_df = pd.concat([pd.get_dummies(test_df['Sex'], drop_first=True) , test_df.drop('Sex', axis=1)], axis=1)\ntest_df = pd.concat([pd.get_dummies(test_df['Embarked'], drop_first=True) , test_df.drop('Embarked', axis=1)], axis=1)",
      "metadata": {
        "execution": {
          "iopub.status.busy": "2022-06-12T11:22:28.687811Z",
          "iopub.execute_input": "2022-06-12T11:22:28.688324Z",
          "iopub.status.idle": "2022-06-12T11:22:28.698837Z",
          "shell.execute_reply.started": "2022-06-12T11:22:28.688295Z",
          "shell.execute_reply": "2022-06-12T11:22:28.698164Z"
        },
        "trusted": true
      },
      "execution_count": null,
      "outputs": []
    },
    {
      "cell_type": "code",
      "source": "test_df.head()",
      "metadata": {
        "execution": {
          "iopub.status.busy": "2022-06-12T11:22:28.699977Z",
          "iopub.execute_input": "2022-06-12T11:22:28.700393Z",
          "iopub.status.idle": "2022-06-12T11:22:28.713112Z",
          "shell.execute_reply.started": "2022-06-12T11:22:28.700367Z",
          "shell.execute_reply": "2022-06-12T11:22:28.712298Z"
        },
        "trusted": true
      },
      "execution_count": null,
      "outputs": []
    },
    {
      "cell_type": "markdown",
      "source": "# Create and Train ML model",
      "metadata": {}
    },
    {
      "cell_type": "code",
      "source": "xgb = XGBClassifier()\nrf = RandomForestClassifier(n_estimators=30, max_depth=30, oob_score=True)\nknn = KNeighborsClassifier(n_neighbors=10)",
      "metadata": {
        "execution": {
          "iopub.status.busy": "2022-06-12T11:22:28.714387Z",
          "iopub.execute_input": "2022-06-12T11:22:28.714683Z",
          "iopub.status.idle": "2022-06-12T11:22:28.720198Z",
          "shell.execute_reply.started": "2022-06-12T11:22:28.714657Z",
          "shell.execute_reply": "2022-06-12T11:22:28.719228Z"
        },
        "trusted": true
      },
      "execution_count": null,
      "outputs": []
    },
    {
      "cell_type": "code",
      "source": "def train_model(model, X_train, y_train, X_test, y_test):\n    model.fit(X_train, y_train)\n    score = model.score(X_test, y_test)\n    print(f\"The model's score is: {score*100:.2f}%\")\n    print(classification_report(y_test, model.predict(X_test)))\n    print(confusion_matrix(y_test, model.predict(X_test)))",
      "metadata": {
        "execution": {
          "iopub.status.busy": "2022-06-12T11:22:28.721213Z",
          "iopub.execute_input": "2022-06-12T11:22:28.721834Z",
          "iopub.status.idle": "2022-06-12T11:22:28.733748Z",
          "shell.execute_reply.started": "2022-06-12T11:22:28.721804Z",
          "shell.execute_reply": "2022-06-12T11:22:28.732235Z"
        },
        "trusted": true
      },
      "execution_count": null,
      "outputs": []
    },
    {
      "cell_type": "code",
      "source": "train_model(xgb, X_train, y_train, X_test, y_test)",
      "metadata": {
        "execution": {
          "iopub.status.busy": "2022-06-12T11:22:28.734798Z",
          "iopub.execute_input": "2022-06-12T11:22:28.735512Z",
          "iopub.status.idle": "2022-06-12T11:22:29.082871Z",
          "shell.execute_reply.started": "2022-06-12T11:22:28.735481Z",
          "shell.execute_reply": "2022-06-12T11:22:29.082090Z"
        },
        "trusted": true
      },
      "execution_count": null,
      "outputs": []
    },
    {
      "cell_type": "code",
      "source": "train_model(rf, X_train, y_train, X_test, y_test)",
      "metadata": {
        "execution": {
          "iopub.status.busy": "2022-06-12T11:22:29.084046Z",
          "iopub.execute_input": "2022-06-12T11:22:29.084521Z",
          "iopub.status.idle": "2022-06-12T11:22:29.173341Z",
          "shell.execute_reply.started": "2022-06-12T11:22:29.084488Z",
          "shell.execute_reply": "2022-06-12T11:22:29.172360Z"
        },
        "trusted": true
      },
      "execution_count": null,
      "outputs": []
    },
    {
      "cell_type": "code",
      "source": "train_model(knn, X_train, y_train, X_test, y_test)",
      "metadata": {
        "execution": {
          "iopub.status.busy": "2022-06-12T11:22:29.174784Z",
          "iopub.execute_input": "2022-06-12T11:22:29.175389Z",
          "iopub.status.idle": "2022-06-12T11:22:29.199184Z",
          "shell.execute_reply.started": "2022-06-12T11:22:29.175347Z",
          "shell.execute_reply": "2022-06-12T11:22:29.198216Z"
        },
        "trusted": true
      },
      "execution_count": null,
      "outputs": []
    },
    {
      "cell_type": "code",
      "source": "print(f\"Column names: {X.columns}\")\nxgb.feature_importances_",
      "metadata": {
        "execution": {
          "iopub.status.busy": "2022-06-12T11:22:29.200235Z",
          "iopub.execute_input": "2022-06-12T11:22:29.200542Z",
          "iopub.status.idle": "2022-06-12T11:22:29.207526Z",
          "shell.execute_reply.started": "2022-06-12T11:22:29.200514Z",
          "shell.execute_reply": "2022-06-12T11:22:29.206825Z"
        },
        "trusted": true
      },
      "execution_count": null,
      "outputs": []
    },
    {
      "cell_type": "code",
      "source": "sns.violinplot(x=df['Survived'], y=df['male'])",
      "metadata": {
        "execution": {
          "iopub.status.busy": "2022-06-12T11:22:29.208530Z",
          "iopub.execute_input": "2022-06-12T11:22:29.208936Z",
          "iopub.status.idle": "2022-06-12T11:22:29.378266Z",
          "shell.execute_reply.started": "2022-06-12T11:22:29.208888Z",
          "shell.execute_reply": "2022-06-12T11:22:29.377500Z"
        },
        "trusted": true
      },
      "execution_count": null,
      "outputs": []
    },
    {
      "cell_type": "markdown",
      "source": "# Clearly, Random Forest Classifier performed the best. So we will use this for our predictions",
      "metadata": {}
    },
    {
      "cell_type": "markdown",
      "source": "## DL model",
      "metadata": {}
    },
    {
      "cell_type": "code",
      "source": "X_train.shape",
      "metadata": {
        "execution": {
          "iopub.status.busy": "2022-06-12T11:24:57.792081Z",
          "iopub.execute_input": "2022-06-12T11:24:57.792599Z",
          "iopub.status.idle": "2022-06-12T11:24:57.799982Z",
          "shell.execute_reply.started": "2022-06-12T11:24:57.792553Z",
          "shell.execute_reply": "2022-06-12T11:24:57.798760Z"
        },
        "trusted": true
      },
      "execution_count": null,
      "outputs": []
    },
    {
      "cell_type": "code",
      "source": "model = Sequential()\n\nmodel.add(Dense(100, input_dim=X_train.shape[1], activation='relu'))\nmodel.add(Dropout(0.3))\nmodel.add(Dense(50, activation='relu'))\nmodel.add(Dropout(0.3))\nmodel.add(Dense(25, activation='relu'))\nmodel.add(Dense(1, activation='softmax'))\n\nmodel.compile(optimizer='adam', loss='binary_crossentropy', metrics=['accuracy'])\n\nmodel.summary()\n",
      "metadata": {
        "execution": {
          "iopub.status.busy": "2022-06-12T11:36:25.688843Z",
          "iopub.execute_input": "2022-06-12T11:36:25.689287Z",
          "iopub.status.idle": "2022-06-12T11:36:25.741904Z",
          "shell.execute_reply.started": "2022-06-12T11:36:25.689253Z",
          "shell.execute_reply": "2022-06-12T11:36:25.741055Z"
        },
        "trusted": true
      },
      "execution_count": null,
      "outputs": []
    },
    {
      "cell_type": "code",
      "source": "early_stop = EarlyStopping(patience=5, mode='min', monitor='val_loss')",
      "metadata": {
        "execution": {
          "iopub.status.busy": "2022-06-12T11:36:26.985036Z",
          "iopub.execute_input": "2022-06-12T11:36:26.985714Z",
          "iopub.status.idle": "2022-06-12T11:36:26.990077Z",
          "shell.execute_reply.started": "2022-06-12T11:36:26.985675Z",
          "shell.execute_reply": "2022-06-12T11:36:26.989380Z"
        },
        "trusted": true
      },
      "execution_count": null,
      "outputs": []
    },
    {
      "cell_type": "code",
      "source": "model.fit(X_train, y_train, epochs=100, batch_size=32, callbacks=[early_stop], validation_data=(X_test, y_test))",
      "metadata": {
        "execution": {
          "iopub.status.busy": "2022-06-12T11:36:28.335786Z",
          "iopub.execute_input": "2022-06-12T11:36:28.336508Z",
          "iopub.status.idle": "2022-06-12T11:36:31.214491Z",
          "shell.execute_reply.started": "2022-06-12T11:36:28.336464Z",
          "shell.execute_reply": "2022-06-12T11:36:31.213399Z"
        },
        "trusted": true
      },
      "execution_count": null,
      "outputs": []
    },
    {
      "cell_type": "code",
      "source": "losses = pd.DataFrame(model.history.history)",
      "metadata": {
        "execution": {
          "iopub.status.busy": "2022-06-12T11:36:40.945972Z",
          "iopub.execute_input": "2022-06-12T11:36:40.946390Z",
          "iopub.status.idle": "2022-06-12T11:36:40.951953Z",
          "shell.execute_reply.started": "2022-06-12T11:36:40.946360Z",
          "shell.execute_reply": "2022-06-12T11:36:40.950883Z"
        },
        "trusted": true
      },
      "execution_count": null,
      "outputs": []
    },
    {
      "cell_type": "code",
      "source": "losses.plot()",
      "metadata": {
        "execution": {
          "iopub.status.busy": "2022-06-12T11:36:41.478730Z",
          "iopub.execute_input": "2022-06-12T11:36:41.479562Z",
          "iopub.status.idle": "2022-06-12T11:36:41.682512Z",
          "shell.execute_reply.started": "2022-06-12T11:36:41.479515Z",
          "shell.execute_reply": "2022-06-12T11:36:41.681850Z"
        },
        "trusted": true
      },
      "execution_count": null,
      "outputs": []
    },
    {
      "cell_type": "code",
      "source": "model.predict(X_test)",
      "metadata": {
        "execution": {
          "iopub.status.busy": "2022-06-12T11:32:54.596132Z",
          "iopub.execute_input": "2022-06-12T11:32:54.596509Z",
          "iopub.status.idle": "2022-06-12T11:32:54.754637Z",
          "shell.execute_reply.started": "2022-06-12T11:32:54.596481Z",
          "shell.execute_reply": "2022-06-12T11:32:54.753970Z"
        },
        "trusted": true
      },
      "execution_count": null,
      "outputs": []
    },
    {
      "cell_type": "code",
      "source": "_, accuracy = model.evaluate(X_test, y_test)\nprint('Accuracy: %.2f' % (accuracy*100))",
      "metadata": {
        "execution": {
          "iopub.status.busy": "2022-06-12T11:37:09.422841Z",
          "iopub.execute_input": "2022-06-12T11:37:09.423258Z",
          "iopub.status.idle": "2022-06-12T11:37:09.511663Z",
          "shell.execute_reply.started": "2022-06-12T11:37:09.423225Z",
          "shell.execute_reply": "2022-06-12T11:37:09.510838Z"
        },
        "trusted": true
      },
      "execution_count": null,
      "outputs": []
    },
    {
      "cell_type": "code",
      "source": "test_df.head()",
      "metadata": {
        "execution": {
          "iopub.status.busy": "2022-06-12T11:22:29.379363Z",
          "iopub.execute_input": "2022-06-12T11:22:29.380073Z",
          "iopub.status.idle": "2022-06-12T11:22:29.383769Z",
          "shell.execute_reply.started": "2022-06-12T11:22:29.380041Z",
          "shell.execute_reply": "2022-06-12T11:22:29.382533Z"
        },
        "trusted": true
      },
      "execution_count": null,
      "outputs": []
    },
    {
      "cell_type": "code",
      "source": "predictions = xgb.predict(test_df)",
      "metadata": {
        "execution": {
          "iopub.status.busy": "2022-06-12T11:22:29.385262Z",
          "iopub.execute_input": "2022-06-12T11:22:29.385677Z",
          "iopub.status.idle": "2022-06-12T11:22:29.396316Z",
          "shell.execute_reply.started": "2022-06-12T11:22:29.385636Z",
          "shell.execute_reply": "2022-06-12T11:22:29.395147Z"
        },
        "trusted": true
      },
      "execution_count": null,
      "outputs": []
    },
    {
      "cell_type": "code",
      "source": "test_df = pd.read_csv('/kaggle/input/titanic/test.csv')",
      "metadata": {
        "execution": {
          "iopub.status.busy": "2022-06-12T11:22:29.397736Z",
          "iopub.execute_input": "2022-06-12T11:22:29.398256Z",
          "iopub.status.idle": "2022-06-12T11:22:29.407756Z",
          "shell.execute_reply.started": "2022-06-12T11:22:29.398214Z",
          "shell.execute_reply": "2022-06-12T11:22:29.406978Z"
        },
        "trusted": true
      },
      "execution_count": null,
      "outputs": []
    },
    {
      "cell_type": "code",
      "source": "output = pd.DataFrame({'PassengerId': test_df.PassengerId, 'Survived': predictions})\noutput.to_csv('submission.csv', index=False)\nprint(\"Your submission was successfully saved!\")",
      "metadata": {
        "execution": {
          "iopub.status.busy": "2022-06-12T11:22:29.410023Z",
          "iopub.execute_input": "2022-06-12T11:22:29.411070Z",
          "iopub.status.idle": "2022-06-12T11:22:29.418742Z",
          "shell.execute_reply.started": "2022-06-12T11:22:29.411025Z",
          "shell.execute_reply": "2022-06-12T11:22:29.417998Z"
        },
        "trusted": true
      },
      "execution_count": null,
      "outputs": []
    },
    {
      "cell_type": "code",
      "source": "",
      "metadata": {},
      "execution_count": null,
      "outputs": []
    }
  ]
}
