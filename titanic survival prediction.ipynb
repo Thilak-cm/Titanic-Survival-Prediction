{
 "cells": [
  {
   "cell_type": "code",
   "execution_count": 1,
   "id": "d2440b1b",
   "metadata": {
    "_cell_guid": "b1076dfc-b9ad-4769-8c92-a6c4dae69d19",
    "_uuid": "8f2839f25d086af736a60e9eeb907d3b93b6e0e5",
    "execution": {
     "iopub.execute_input": "2022-06-12T10:23:41.054547Z",
     "iopub.status.busy": "2022-06-12T10:23:41.053704Z",
     "iopub.status.idle": "2022-06-12T10:23:41.068170Z",
     "shell.execute_reply": "2022-06-12T10:23:41.067230Z"
    },
    "papermill": {
     "duration": 0.031007,
     "end_time": "2022-06-12T10:23:41.070229",
     "exception": false,
     "start_time": "2022-06-12T10:23:41.039222",
     "status": "completed"
    },
    "tags": []
   },
   "outputs": [
    {
     "name": "stdout",
     "output_type": "stream",
     "text": [
      "/kaggle/input/titanic/train.csv\n",
      "/kaggle/input/titanic/test.csv\n",
      "/kaggle/input/titanic/gender_submission.csv\n"
     ]
    }
   ],
   "source": [
    "# This Python 3 environment comes with many helpful analytics libraries installed\n",
    "# It is defined by the kaggle/python Docker image: https://github.com/kaggle/docker-python\n",
    "# For example, here's several helpful packages to load\n",
    "\n",
    "import numpy as np # linear algebra\n",
    "import pandas as pd # data processing, CSV file I/O (e.g. pd.read_csv)\n",
    "\n",
    "# Input data files are available in the read-only \"../input/\" directory\n",
    "# For example, running this (by clicking run or pressing Shift+Enter) will list all files under the input directory\n",
    "\n",
    "import os\n",
    "for dirname, _, filenames in os.walk('/kaggle/input'):\n",
    "    for filename in filenames:\n",
    "        print(os.path.join(dirname, filename))\n",
    "\n",
    "# You can write up to 20GB to the current directory (/kaggle/working/) that gets preserved as output when you create a version using \"Save & Run All\" \n",
    "# You can also write temporary files to /kaggle/temp/, but they won't be saved outside of the current session"
   ]
  },
  {
   "cell_type": "code",
   "execution_count": 2,
   "id": "9bb5f2de",
   "metadata": {
    "execution": {
     "iopub.execute_input": "2022-06-12T10:23:41.102323Z",
     "iopub.status.busy": "2022-06-12T10:23:41.101645Z",
     "iopub.status.idle": "2022-06-12T10:23:52.571029Z",
     "shell.execute_reply": "2022-06-12T10:23:52.569632Z"
    },
    "papermill": {
     "duration": 11.492654,
     "end_time": "2022-06-12T10:23:52.573857",
     "exception": false,
     "start_time": "2022-06-12T10:23:41.081203",
     "status": "completed"
    },
    "tags": []
   },
   "outputs": [
    {
     "name": "stdout",
     "output_type": "stream",
     "text": [
      "Collecting dabl\r\n",
      "  Downloading dabl-0.2.2-py3-none-any.whl (558 kB)\r\n",
      "\u001b[2K     \u001b[90m━━━━━━━━━━━━━━━━━━━━━━━━━━━━━━━━━━━━━━━\u001b[0m \u001b[32m559.0/559.0 kB\u001b[0m \u001b[31m1.6 MB/s\u001b[0m eta \u001b[36m0:00:00\u001b[0m\r\n",
      "\u001b[?25hRequirement already satisfied: numpy in /opt/conda/lib/python3.7/site-packages (from dabl) (1.21.6)\r\n",
      "Requirement already satisfied: scikit-learn>=0.24.0 in /opt/conda/lib/python3.7/site-packages (from dabl) (1.0.2)\r\n",
      "Requirement already satisfied: pandas in /opt/conda/lib/python3.7/site-packages (from dabl) (1.3.5)\r\n",
      "Requirement already satisfied: matplotlib in /opt/conda/lib/python3.7/site-packages (from dabl) (3.5.2)\r\n",
      "Requirement already satisfied: scipy in /opt/conda/lib/python3.7/site-packages (from dabl) (1.7.3)\r\n",
      "Requirement already satisfied: seaborn in /opt/conda/lib/python3.7/site-packages (from dabl) (0.11.2)\r\n",
      "Requirement already satisfied: threadpoolctl>=2.0.0 in /opt/conda/lib/python3.7/site-packages (from scikit-learn>=0.24.0->dabl) (3.1.0)\r\n",
      "Requirement already satisfied: joblib>=0.11 in /opt/conda/lib/python3.7/site-packages (from scikit-learn>=0.24.0->dabl) (1.1.0)\r\n",
      "Requirement already satisfied: python-dateutil>=2.7 in /opt/conda/lib/python3.7/site-packages (from matplotlib->dabl) (2.8.2)\r\n",
      "Requirement already satisfied: pyparsing>=2.2.1 in /opt/conda/lib/python3.7/site-packages (from matplotlib->dabl) (3.0.9)\r\n",
      "Requirement already satisfied: kiwisolver>=1.0.1 in /opt/conda/lib/python3.7/site-packages (from matplotlib->dabl) (1.4.2)\r\n",
      "Requirement already satisfied: packaging>=20.0 in /opt/conda/lib/python3.7/site-packages (from matplotlib->dabl) (21.3)\r\n",
      "Requirement already satisfied: cycler>=0.10 in /opt/conda/lib/python3.7/site-packages (from matplotlib->dabl) (0.11.0)\r\n",
      "Requirement already satisfied: fonttools>=4.22.0 in /opt/conda/lib/python3.7/site-packages (from matplotlib->dabl) (4.33.3)\r\n",
      "Requirement already satisfied: pillow>=6.2.0 in /opt/conda/lib/python3.7/site-packages (from matplotlib->dabl) (9.1.0)\r\n",
      "Requirement already satisfied: pytz>=2017.3 in /opt/conda/lib/python3.7/site-packages (from pandas->dabl) (2022.1)\r\n",
      "Requirement already satisfied: typing-extensions in /opt/conda/lib/python3.7/site-packages (from kiwisolver>=1.0.1->matplotlib->dabl) (4.2.0)\r\n",
      "Requirement already satisfied: six>=1.5 in /opt/conda/lib/python3.7/site-packages (from python-dateutil>=2.7->matplotlib->dabl) (1.16.0)\r\n",
      "Installing collected packages: dabl\r\n",
      "Successfully installed dabl-0.2.2\r\n",
      "\u001b[33mWARNING: Running pip as the 'root' user can result in broken permissions and conflicting behaviour with the system package manager. It is recommended to use a virtual environment instead: https://pip.pypa.io/warnings/venv\u001b[0m\u001b[33m\r\n",
      "\u001b[0mNote: you may need to restart the kernel to use updated packages.\n"
     ]
    }
   ],
   "source": [
    "pip install dabl"
   ]
  },
  {
   "cell_type": "code",
   "execution_count": 3,
   "id": "f7543ca5",
   "metadata": {
    "execution": {
     "iopub.execute_input": "2022-06-12T10:23:52.599682Z",
     "iopub.status.busy": "2022-06-12T10:23:52.599264Z",
     "iopub.status.idle": "2022-06-12T10:23:54.249848Z",
     "shell.execute_reply": "2022-06-12T10:23:54.248856Z"
    },
    "papermill": {
     "duration": 1.665742,
     "end_time": "2022-06-12T10:23:54.252116",
     "exception": false,
     "start_time": "2022-06-12T10:23:52.586374",
     "status": "completed"
    },
    "tags": []
   },
   "outputs": [
    {
     "name": "stderr",
     "output_type": "stream",
     "text": [
      "/opt/conda/lib/python3.7/site-packages/sklearn/experimental/enable_hist_gradient_boosting.py:17: UserWarning: Since version 1.0, it is not needed to import enable_hist_gradient_boosting anymore. HistGradientBoostingClassifier and HistGradientBoostingRegressor are now stable and can be normally imported from sklearn.ensemble.\n",
      "  \"Since version 1.0, \"\n"
     ]
    }
   ],
   "source": [
    "import pandas as pd\n",
    "import numpy as np\n",
    "import seaborn as sns\n",
    "import matplotlib.pyplot as plt\n",
    "import dabl\n",
    "from sklearn.model_selection import train_test_split\n",
    "from sklearn.impute import KNNImputer\n",
    "from sklearn.ensemble import RandomForestClassifier\n",
    "from xgboost import XGBClassifier\n",
    "from sklearn.neighbors import KNeighborsClassifier\n",
    "\n",
    "from sklearn.metrics import classification_report, confusion_matrix\n",
    "\n",
    "%matplotlib inline"
   ]
  },
  {
   "cell_type": "code",
   "execution_count": 4,
   "id": "2aca5023",
   "metadata": {
    "execution": {
     "iopub.execute_input": "2022-06-12T10:23:54.279624Z",
     "iopub.status.busy": "2022-06-12T10:23:54.278450Z",
     "iopub.status.idle": "2022-06-12T10:23:54.306920Z",
     "shell.execute_reply": "2022-06-12T10:23:54.306072Z"
    },
    "papermill": {
     "duration": 0.043102,
     "end_time": "2022-06-12T10:23:54.308945",
     "exception": false,
     "start_time": "2022-06-12T10:23:54.265843",
     "status": "completed"
    },
    "tags": []
   },
   "outputs": [],
   "source": [
    "train_df = pd.read_csv(\"/kaggle/input/titanic/train.csv\")\n",
    "test_df = pd.read_csv('/kaggle/input/titanic/test.csv')"
   ]
  },
  {
   "cell_type": "markdown",
   "id": "354119f0",
   "metadata": {
    "papermill": {
     "duration": 0.011188,
     "end_time": "2022-06-12T10:23:54.332667",
     "exception": false,
     "start_time": "2022-06-12T10:23:54.321479",
     "status": "completed"
    },
    "tags": []
   },
   "source": [
    "# EDA"
   ]
  },
  {
   "cell_type": "code",
   "execution_count": 5,
   "id": "09b6d66e",
   "metadata": {
    "execution": {
     "iopub.execute_input": "2022-06-12T10:23:54.357174Z",
     "iopub.status.busy": "2022-06-12T10:23:54.356542Z",
     "iopub.status.idle": "2022-06-12T10:23:54.377181Z",
     "shell.execute_reply": "2022-06-12T10:23:54.376564Z"
    },
    "papermill": {
     "duration": 0.034714,
     "end_time": "2022-06-12T10:23:54.378811",
     "exception": false,
     "start_time": "2022-06-12T10:23:54.344097",
     "status": "completed"
    },
    "tags": []
   },
   "outputs": [
    {
     "data": {
      "text/html": [
       "<div>\n",
       "<style scoped>\n",
       "    .dataframe tbody tr th:only-of-type {\n",
       "        vertical-align: middle;\n",
       "    }\n",
       "\n",
       "    .dataframe tbody tr th {\n",
       "        vertical-align: top;\n",
       "    }\n",
       "\n",
       "    .dataframe thead th {\n",
       "        text-align: right;\n",
       "    }\n",
       "</style>\n",
       "<table border=\"1\" class=\"dataframe\">\n",
       "  <thead>\n",
       "    <tr style=\"text-align: right;\">\n",
       "      <th></th>\n",
       "      <th>PassengerId</th>\n",
       "      <th>Survived</th>\n",
       "      <th>Pclass</th>\n",
       "      <th>Name</th>\n",
       "      <th>Sex</th>\n",
       "      <th>Age</th>\n",
       "      <th>SibSp</th>\n",
       "      <th>Parch</th>\n",
       "      <th>Ticket</th>\n",
       "      <th>Fare</th>\n",
       "      <th>Cabin</th>\n",
       "      <th>Embarked</th>\n",
       "    </tr>\n",
       "  </thead>\n",
       "  <tbody>\n",
       "    <tr>\n",
       "      <th>0</th>\n",
       "      <td>1</td>\n",
       "      <td>0</td>\n",
       "      <td>3</td>\n",
       "      <td>Braund, Mr. Owen Harris</td>\n",
       "      <td>male</td>\n",
       "      <td>22.0</td>\n",
       "      <td>1</td>\n",
       "      <td>0</td>\n",
       "      <td>A/5 21171</td>\n",
       "      <td>7.2500</td>\n",
       "      <td>NaN</td>\n",
       "      <td>S</td>\n",
       "    </tr>\n",
       "    <tr>\n",
       "      <th>1</th>\n",
       "      <td>2</td>\n",
       "      <td>1</td>\n",
       "      <td>1</td>\n",
       "      <td>Cumings, Mrs. John Bradley (Florence Briggs Th...</td>\n",
       "      <td>female</td>\n",
       "      <td>38.0</td>\n",
       "      <td>1</td>\n",
       "      <td>0</td>\n",
       "      <td>PC 17599</td>\n",
       "      <td>71.2833</td>\n",
       "      <td>C85</td>\n",
       "      <td>C</td>\n",
       "    </tr>\n",
       "    <tr>\n",
       "      <th>2</th>\n",
       "      <td>3</td>\n",
       "      <td>1</td>\n",
       "      <td>3</td>\n",
       "      <td>Heikkinen, Miss. Laina</td>\n",
       "      <td>female</td>\n",
       "      <td>26.0</td>\n",
       "      <td>0</td>\n",
       "      <td>0</td>\n",
       "      <td>STON/O2. 3101282</td>\n",
       "      <td>7.9250</td>\n",
       "      <td>NaN</td>\n",
       "      <td>S</td>\n",
       "    </tr>\n",
       "    <tr>\n",
       "      <th>3</th>\n",
       "      <td>4</td>\n",
       "      <td>1</td>\n",
       "      <td>1</td>\n",
       "      <td>Futrelle, Mrs. Jacques Heath (Lily May Peel)</td>\n",
       "      <td>female</td>\n",
       "      <td>35.0</td>\n",
       "      <td>1</td>\n",
       "      <td>0</td>\n",
       "      <td>113803</td>\n",
       "      <td>53.1000</td>\n",
       "      <td>C123</td>\n",
       "      <td>S</td>\n",
       "    </tr>\n",
       "    <tr>\n",
       "      <th>4</th>\n",
       "      <td>5</td>\n",
       "      <td>0</td>\n",
       "      <td>3</td>\n",
       "      <td>Allen, Mr. William Henry</td>\n",
       "      <td>male</td>\n",
       "      <td>35.0</td>\n",
       "      <td>0</td>\n",
       "      <td>0</td>\n",
       "      <td>373450</td>\n",
       "      <td>8.0500</td>\n",
       "      <td>NaN</td>\n",
       "      <td>S</td>\n",
       "    </tr>\n",
       "  </tbody>\n",
       "</table>\n",
       "</div>"
      ],
      "text/plain": [
       "   PassengerId  Survived  Pclass  \\\n",
       "0            1         0       3   \n",
       "1            2         1       1   \n",
       "2            3         1       3   \n",
       "3            4         1       1   \n",
       "4            5         0       3   \n",
       "\n",
       "                                                Name     Sex   Age  SibSp  \\\n",
       "0                            Braund, Mr. Owen Harris    male  22.0      1   \n",
       "1  Cumings, Mrs. John Bradley (Florence Briggs Th...  female  38.0      1   \n",
       "2                             Heikkinen, Miss. Laina  female  26.0      0   \n",
       "3       Futrelle, Mrs. Jacques Heath (Lily May Peel)  female  35.0      1   \n",
       "4                           Allen, Mr. William Henry    male  35.0      0   \n",
       "\n",
       "   Parch            Ticket     Fare Cabin Embarked  \n",
       "0      0         A/5 21171   7.2500   NaN        S  \n",
       "1      0          PC 17599  71.2833   C85        C  \n",
       "2      0  STON/O2. 3101282   7.9250   NaN        S  \n",
       "3      0            113803  53.1000  C123        S  \n",
       "4      0            373450   8.0500   NaN        S  "
      ]
     },
     "execution_count": 5,
     "metadata": {},
     "output_type": "execute_result"
    }
   ],
   "source": [
    "train_df.head()"
   ]
  },
  {
   "cell_type": "code",
   "execution_count": 6,
   "id": "97d6c6ce",
   "metadata": {
    "execution": {
     "iopub.execute_input": "2022-06-12T10:23:54.403981Z",
     "iopub.status.busy": "2022-06-12T10:23:54.403169Z",
     "iopub.status.idle": "2022-06-12T10:23:54.426419Z",
     "shell.execute_reply": "2022-06-12T10:23:54.425654Z"
    },
    "papermill": {
     "duration": 0.03905,
     "end_time": "2022-06-12T10:23:54.429619",
     "exception": false,
     "start_time": "2022-06-12T10:23:54.390569",
     "status": "completed"
    },
    "tags": []
   },
   "outputs": [
    {
     "name": "stdout",
     "output_type": "stream",
     "text": [
      "<class 'pandas.core.frame.DataFrame'>\n",
      "RangeIndex: 891 entries, 0 to 890\n",
      "Data columns (total 12 columns):\n",
      " #   Column       Non-Null Count  Dtype  \n",
      "---  ------       --------------  -----  \n",
      " 0   PassengerId  891 non-null    int64  \n",
      " 1   Survived     891 non-null    int64  \n",
      " 2   Pclass       891 non-null    int64  \n",
      " 3   Name         891 non-null    object \n",
      " 4   Sex          891 non-null    object \n",
      " 5   Age          714 non-null    float64\n",
      " 6   SibSp        891 non-null    int64  \n",
      " 7   Parch        891 non-null    int64  \n",
      " 8   Ticket       891 non-null    object \n",
      " 9   Fare         891 non-null    float64\n",
      " 10  Cabin        204 non-null    object \n",
      " 11  Embarked     889 non-null    object \n",
      "dtypes: float64(2), int64(5), object(5)\n",
      "memory usage: 83.7+ KB\n"
     ]
    }
   ],
   "source": [
    "train_df.info()"
   ]
  },
  {
   "cell_type": "code",
   "execution_count": 7,
   "id": "fc25af5f",
   "metadata": {
    "execution": {
     "iopub.execute_input": "2022-06-12T10:23:54.456826Z",
     "iopub.status.busy": "2022-06-12T10:23:54.455814Z",
     "iopub.status.idle": "2022-06-12T10:23:54.462496Z",
     "shell.execute_reply": "2022-06-12T10:23:54.461868Z"
    },
    "papermill": {
     "duration": 0.02123,
     "end_time": "2022-06-12T10:23:54.464125",
     "exception": false,
     "start_time": "2022-06-12T10:23:54.442895",
     "status": "completed"
    },
    "tags": []
   },
   "outputs": [],
   "source": [
    "train_df.drop(['PassengerId', 'Name'], axis=1, inplace=True)"
   ]
  },
  {
   "cell_type": "code",
   "execution_count": 8,
   "id": "0d24f002",
   "metadata": {
    "execution": {
     "iopub.execute_input": "2022-06-12T10:23:54.490005Z",
     "iopub.status.busy": "2022-06-12T10:23:54.489442Z",
     "iopub.status.idle": "2022-06-12T10:23:54.518618Z",
     "shell.execute_reply": "2022-06-12T10:23:54.517777Z"
    },
    "papermill": {
     "duration": 0.044379,
     "end_time": "2022-06-12T10:23:54.520403",
     "exception": false,
     "start_time": "2022-06-12T10:23:54.476024",
     "status": "completed"
    },
    "tags": []
   },
   "outputs": [
    {
     "data": {
      "text/html": [
       "<div>\n",
       "<style scoped>\n",
       "    .dataframe tbody tr th:only-of-type {\n",
       "        vertical-align: middle;\n",
       "    }\n",
       "\n",
       "    .dataframe tbody tr th {\n",
       "        vertical-align: top;\n",
       "    }\n",
       "\n",
       "    .dataframe thead th {\n",
       "        text-align: right;\n",
       "    }\n",
       "</style>\n",
       "<table border=\"1\" class=\"dataframe\">\n",
       "  <thead>\n",
       "    <tr style=\"text-align: right;\">\n",
       "      <th></th>\n",
       "      <th>count</th>\n",
       "      <th>mean</th>\n",
       "      <th>std</th>\n",
       "      <th>min</th>\n",
       "      <th>25%</th>\n",
       "      <th>50%</th>\n",
       "      <th>75%</th>\n",
       "      <th>max</th>\n",
       "    </tr>\n",
       "  </thead>\n",
       "  <tbody>\n",
       "    <tr>\n",
       "      <th>Survived</th>\n",
       "      <td>891.0</td>\n",
       "      <td>0.383838</td>\n",
       "      <td>0.486592</td>\n",
       "      <td>0.00</td>\n",
       "      <td>0.0000</td>\n",
       "      <td>0.0000</td>\n",
       "      <td>1.0</td>\n",
       "      <td>1.0000</td>\n",
       "    </tr>\n",
       "    <tr>\n",
       "      <th>Pclass</th>\n",
       "      <td>891.0</td>\n",
       "      <td>2.308642</td>\n",
       "      <td>0.836071</td>\n",
       "      <td>1.00</td>\n",
       "      <td>2.0000</td>\n",
       "      <td>3.0000</td>\n",
       "      <td>3.0</td>\n",
       "      <td>3.0000</td>\n",
       "    </tr>\n",
       "    <tr>\n",
       "      <th>Age</th>\n",
       "      <td>714.0</td>\n",
       "      <td>29.699118</td>\n",
       "      <td>14.526497</td>\n",
       "      <td>0.42</td>\n",
       "      <td>20.1250</td>\n",
       "      <td>28.0000</td>\n",
       "      <td>38.0</td>\n",
       "      <td>80.0000</td>\n",
       "    </tr>\n",
       "    <tr>\n",
       "      <th>SibSp</th>\n",
       "      <td>891.0</td>\n",
       "      <td>0.523008</td>\n",
       "      <td>1.102743</td>\n",
       "      <td>0.00</td>\n",
       "      <td>0.0000</td>\n",
       "      <td>0.0000</td>\n",
       "      <td>1.0</td>\n",
       "      <td>8.0000</td>\n",
       "    </tr>\n",
       "    <tr>\n",
       "      <th>Parch</th>\n",
       "      <td>891.0</td>\n",
       "      <td>0.381594</td>\n",
       "      <td>0.806057</td>\n",
       "      <td>0.00</td>\n",
       "      <td>0.0000</td>\n",
       "      <td>0.0000</td>\n",
       "      <td>0.0</td>\n",
       "      <td>6.0000</td>\n",
       "    </tr>\n",
       "    <tr>\n",
       "      <th>Fare</th>\n",
       "      <td>891.0</td>\n",
       "      <td>32.204208</td>\n",
       "      <td>49.693429</td>\n",
       "      <td>0.00</td>\n",
       "      <td>7.9104</td>\n",
       "      <td>14.4542</td>\n",
       "      <td>31.0</td>\n",
       "      <td>512.3292</td>\n",
       "    </tr>\n",
       "  </tbody>\n",
       "</table>\n",
       "</div>"
      ],
      "text/plain": [
       "          count       mean        std   min      25%      50%   75%       max\n",
       "Survived  891.0   0.383838   0.486592  0.00   0.0000   0.0000   1.0    1.0000\n",
       "Pclass    891.0   2.308642   0.836071  1.00   2.0000   3.0000   3.0    3.0000\n",
       "Age       714.0  29.699118  14.526497  0.42  20.1250  28.0000  38.0   80.0000\n",
       "SibSp     891.0   0.523008   1.102743  0.00   0.0000   0.0000   1.0    8.0000\n",
       "Parch     891.0   0.381594   0.806057  0.00   0.0000   0.0000   0.0    6.0000\n",
       "Fare      891.0  32.204208  49.693429  0.00   7.9104  14.4542  31.0  512.3292"
      ]
     },
     "execution_count": 8,
     "metadata": {},
     "output_type": "execute_result"
    }
   ],
   "source": [
    "train_df.describe().T"
   ]
  },
  {
   "cell_type": "code",
   "execution_count": 9,
   "id": "d88a70c6",
   "metadata": {
    "execution": {
     "iopub.execute_input": "2022-06-12T10:23:54.546381Z",
     "iopub.status.busy": "2022-06-12T10:23:54.545987Z",
     "iopub.status.idle": "2022-06-12T10:23:54.718210Z",
     "shell.execute_reply": "2022-06-12T10:23:54.717535Z"
    },
    "papermill": {
     "duration": 0.187252,
     "end_time": "2022-06-12T10:23:54.719999",
     "exception": false,
     "start_time": "2022-06-12T10:23:54.532747",
     "status": "completed"
    },
    "tags": []
   },
   "outputs": [
    {
     "data": {
      "text/plain": [
       "<AxesSubplot:xlabel='Survived', ylabel='count'>"
      ]
     },
     "execution_count": 9,
     "metadata": {},
     "output_type": "execute_result"
    },
    {
     "data": {
      "image/png": "[encoded data removed]",
      "text/plain": [
       "<Figure size 432x288 with 1 Axes>"
      ]
     },
     "metadata": {
      "needs_background": "light"
     },
     "output_type": "display_data"
    }
   ],
   "source": [
    "sns.countplot(x=train_df['Survived'], palette='pastel')"
   ]
  },
  {
   "cell_type": "code",
   "execution_count": 10,
   "id": "02ebe13a",
   "metadata": {
    "execution": {
     "iopub.execute_input": "2022-06-12T10:23:54.747873Z",
     "iopub.status.busy": "2022-06-12T10:23:54.747016Z",
     "iopub.status.idle": "2022-06-12T10:23:54.751854Z",
     "shell.execute_reply": "2022-06-12T10:23:54.751101Z"
    },
    "papermill": {
     "duration": 0.020446,
     "end_time": "2022-06-12T10:23:54.753637",
     "exception": false,
     "start_time": "2022-06-12T10:23:54.733191",
     "status": "completed"
    },
    "tags": []
   },
   "outputs": [],
   "source": [
    "def make_countplot(train_df, col):\n",
    "    sns.countplot(x=train_df['Survived'], palette='pastel', hue=train_df[col])\n",
    "    plt.tight_layout(rect=(0, 0, 1.2, 1.2))\n",
    "    plt.show()\n",
    "#     plt.tight_layout(rect=(0, 0, 1.2, 1.2))\n",
    "    return None"
   ]
  },
  {
   "cell_type": "code",
   "execution_count": 11,
   "id": "bf1c2004",
   "metadata": {
    "execution": {
     "iopub.execute_input": "2022-06-12T10:23:54.780262Z",
     "iopub.status.busy": "2022-06-12T10:23:54.779434Z",
     "iopub.status.idle": "2022-06-12T10:23:56.118975Z",
     "shell.execute_reply": "2022-06-12T10:23:56.117967Z"
    },
    "papermill": {
     "duration": 1.35494,
     "end_time": "2022-06-12T10:23:56.120997",
     "exception": false,
     "start_time": "2022-06-12T10:23:54.766057",
     "status": "completed"
    },
    "tags": []
   },
   "outputs": [
    {
     "data": {
      "image/png": "[encoded data removed]",
      "text/plain": [
       "<Figure size 432x288 with 1 Axes>"
      ]
     },
     "metadata": {
      "needs_background": "light"
     },
     "output_type": "display_data"
    },
    {
     "data": {
      "image/png": "[encoded data removed]",
      "text/plain": [
       "<Figure size 432x288 with 1 Axes>"
      ]
     },
     "metadata": {
      "needs_background": "light"
     },
     "output_type": "display_data"
    },
    {
     "data": {
      "image/png": "[encoded data removed]",
      "text/plain": [
       "<Figure size 432x288 with 1 Axes>"
      ]
     },
     "metadata": {
      "needs_background": "light"
     },
     "output_type": "display_data"
    },
    {
     "data": {
      "image/png": "[encoded data removed]",
      "text/plain": [
       "<Figure size 432x288 with 1 Axes>"
      ]
     },
     "metadata": {
      "needs_background": "light"
     },
     "output_type": "display_data"
    },
    {
     "data": {
      "image/png": "[encoded data removed]",
      "text/plain": [
       "<Figure size 432x288 with 1 Axes>"
      ]
     },
     "metadata": {
      "needs_background": "light"
     },
     "output_type": "display_data"
    },
    {
     "data": {
      "image/png": "[encoded data removed]",
      "text/plain": [
       "<Figure size 432x288 with 1 Axes>"
      ]
     },
     "metadata": {
      "needs_background": "light"
     },
     "output_type": "display_data"
    }
   ],
   "source": [
    "df = train_df.drop(['Age', 'Fare', 'Ticket', 'Cabin'], axis=1)\n",
    "for col in df.columns:\n",
    "    make_countplot(df, col)\n"
   ]
  },
  {
   "cell_type": "code",
   "execution_count": 12,
   "id": "5b446cff",
   "metadata": {
    "execution": {
     "iopub.execute_input": "2022-06-12T10:23:56.151024Z",
     "iopub.status.busy": "2022-06-12T10:23:56.150659Z",
     "iopub.status.idle": "2022-06-12T10:23:56.154623Z",
     "shell.execute_reply": "2022-06-12T10:23:56.153735Z"
    },
    "papermill": {
     "duration": 0.021517,
     "end_time": "2022-06-12T10:23:56.156443",
     "exception": false,
     "start_time": "2022-06-12T10:23:56.134926",
     "status": "completed"
    },
    "tags": []
   },
   "outputs": [],
   "source": [
    "df = train_df"
   ]
  },
  {
   "cell_type": "code",
   "execution_count": 13,
   "id": "8168c589",
   "metadata": {
    "execution": {
     "iopub.execute_input": "2022-06-12T10:23:56.186229Z",
     "iopub.status.busy": "2022-06-12T10:23:56.185870Z",
     "iopub.status.idle": "2022-06-12T10:23:56.275836Z",
     "shell.execute_reply": "2022-06-12T10:23:56.274775Z"
    },
    "papermill": {
     "duration": 0.107401,
     "end_time": "2022-06-12T10:23:56.277994",
     "exception": false,
     "start_time": "2022-06-12T10:23:56.170593",
     "status": "completed"
    },
    "tags": []
   },
   "outputs": [
    {
     "data": {
      "image/png": "[encoded data removed]",
      "text/plain": [
       "<Figure size 432x288 with 1 Axes>"
      ]
     },
     "metadata": {},
     "output_type": "display_data"
    }
   ],
   "source": [
    "plt.pie(df['Sex'].value_counts(), labels=['Male', 'Female'], autopct='%.2f')\n",
    "plt.axis('equal')\n",
    "plt.show()"
   ]
  },
  {
   "cell_type": "code",
   "execution_count": 14,
   "id": "9dbd2484",
   "metadata": {
    "execution": {
     "iopub.execute_input": "2022-06-12T10:23:56.309677Z",
     "iopub.status.busy": "2022-06-12T10:23:56.308205Z",
     "iopub.status.idle": "2022-06-12T10:23:56.586945Z",
     "shell.execute_reply": "2022-06-12T10:23:56.585171Z"
    },
    "papermill": {
     "duration": 0.296591,
     "end_time": "2022-06-12T10:23:56.588989",
     "exception": false,
     "start_time": "2022-06-12T10:23:56.292398",
     "status": "completed"
    },
    "tags": []
   },
   "outputs": [
    {
     "data": {
      "image/png": "[encoded data removed]",
      "text/plain": [
       "<Figure size 432x288 with 1 Axes>"
      ]
     },
     "metadata": {
      "needs_background": "light"
     },
     "output_type": "display_data"
    },
    {
     "data": {
      "text/plain": [
       "<AxesSubplot:xlabel='Fare', ylabel='Count'>"
      ]
     },
     "execution_count": 14,
     "metadata": {},
     "output_type": "execute_result"
    },
    {
     "data": {
      "image/png": "[encoded data removed]",
      "text/plain": [
       "<Figure size 432x288 with 1 Axes>"
      ]
     },
     "metadata": {
      "needs_background": "light"
     },
     "output_type": "display_data"
    }
   ],
   "source": [
    "sns.violinplot(x=train_df['Fare'])\n",
    "sns.boxplot(x=train_df['Fare'], color='orange')\n",
    "plt.show()\n",
    "sns.histplot(x=train_df['Fare'], bins=20, kde=True, color='purple')"
   ]
  },
  {
   "cell_type": "code",
   "execution_count": 15,
   "id": "100fe0ec",
   "metadata": {
    "execution": {
     "iopub.execute_input": "2022-06-12T10:23:56.620167Z",
     "iopub.status.busy": "2022-06-12T10:23:56.619563Z",
     "iopub.status.idle": "2022-06-12T10:24:02.020507Z",
     "shell.execute_reply": "2022-06-12T10:24:02.019827Z"
    },
    "papermill": {
     "duration": 5.420019,
     "end_time": "2022-06-12T10:24:02.023762",
     "exception": false,
     "start_time": "2022-06-12T10:23:56.603743",
     "status": "completed"
    },
    "tags": []
   },
   "outputs": [
    {
     "name": "stderr",
     "output_type": "stream",
     "text": [
      "/opt/conda/lib/python3.7/site-packages/seaborn/axisgrid.py:2076: UserWarning: The `size` parameter has been renamed to `height`; please update your code.\n",
      "  warnings.warn(msg, UserWarning)\n"
     ]
    },
    {
     "data": {
      "image/png": "[encoded data removed]",
      "text/plain": [
       "<Figure size 1399.68x777.6 with 42 Axes>"
      ]
     },
     "metadata": {
      "needs_background": "light"
     },
     "output_type": "display_data"
    }
   ],
   "source": [
    "pp = sns.pairplot(df, size=1.8, aspect=1.8, diag_kind='kde', diag_kws=dict(shade=True))\n",
    "fig = pp.fig\n",
    "fig.subplots_adjust(top=0.83, wspace=0.33)"
   ]
  },
  {
   "cell_type": "code",
   "execution_count": 16,
   "id": "e2943fa9",
   "metadata": {
    "execution": {
     "iopub.execute_input": "2022-06-12T10:24:02.059290Z",
     "iopub.status.busy": "2022-06-12T10:24:02.058729Z",
     "iopub.status.idle": "2022-06-12T10:24:02.592311Z",
     "shell.execute_reply": "2022-06-12T10:24:02.591333Z"
    },
    "papermill": {
     "duration": 0.553489,
     "end_time": "2022-06-12T10:24:02.594253",
     "exception": false,
     "start_time": "2022-06-12T10:24:02.040764",
     "status": "completed"
    },
    "tags": []
   },
   "outputs": [
    {
     "data": {
      "text/plain": [
       "<seaborn.axisgrid.JointGrid at 0x7fa23f280790>"
      ]
     },
     "execution_count": 16,
     "metadata": {},
     "output_type": "execute_result"
    },
    {
     "data": {
      "image/png": "[encoded data removed]",
      "text/plain": [
       "<Figure size 432x432 with 3 Axes>"
      ]
     },
     "metadata": {
      "needs_background": "light"
     },
     "output_type": "display_data"
    }
   ],
   "source": [
    "sns.jointplot(x=df['Fare'], y=df['Age'])"
   ]
  },
  {
   "cell_type": "code",
   "execution_count": 17,
   "id": "2329ebe3",
   "metadata": {
    "execution": {
     "iopub.execute_input": "2022-06-12T10:24:02.630397Z",
     "iopub.status.busy": "2022-06-12T10:24:02.630046Z",
     "iopub.status.idle": "2022-06-12T10:24:02.648053Z",
     "shell.execute_reply": "2022-06-12T10:24:02.647065Z"
    },
    "papermill": {
     "duration": 0.038016,
     "end_time": "2022-06-12T10:24:02.649648",
     "exception": false,
     "start_time": "2022-06-12T10:24:02.611632",
     "status": "completed"
    },
    "tags": []
   },
   "outputs": [
    {
     "data": {
      "text/html": [
       "<div>\n",
       "<style scoped>\n",
       "    .dataframe tbody tr th:only-of-type {\n",
       "        vertical-align: middle;\n",
       "    }\n",
       "\n",
       "    .dataframe tbody tr th {\n",
       "        vertical-align: top;\n",
       "    }\n",
       "\n",
       "    .dataframe thead th {\n",
       "        text-align: right;\n",
       "    }\n",
       "</style>\n",
       "<table border=\"1\" class=\"dataframe\">\n",
       "  <thead>\n",
       "    <tr style=\"text-align: right;\">\n",
       "      <th></th>\n",
       "      <th>Survived</th>\n",
       "      <th>Pclass</th>\n",
       "      <th>Sex</th>\n",
       "      <th>Age</th>\n",
       "      <th>SibSp</th>\n",
       "      <th>Parch</th>\n",
       "      <th>Ticket</th>\n",
       "      <th>Fare</th>\n",
       "      <th>Cabin</th>\n",
       "      <th>Embarked</th>\n",
       "    </tr>\n",
       "  </thead>\n",
       "  <tbody>\n",
       "    <tr>\n",
       "      <th>27</th>\n",
       "      <td>0</td>\n",
       "      <td>1</td>\n",
       "      <td>male</td>\n",
       "      <td>19.0</td>\n",
       "      <td>3</td>\n",
       "      <td>2</td>\n",
       "      <td>19950</td>\n",
       "      <td>263.0000</td>\n",
       "      <td>C23 C25 C27</td>\n",
       "      <td>S</td>\n",
       "    </tr>\n",
       "    <tr>\n",
       "      <th>88</th>\n",
       "      <td>1</td>\n",
       "      <td>1</td>\n",
       "      <td>female</td>\n",
       "      <td>23.0</td>\n",
       "      <td>3</td>\n",
       "      <td>2</td>\n",
       "      <td>19950</td>\n",
       "      <td>263.0000</td>\n",
       "      <td>C23 C25 C27</td>\n",
       "      <td>S</td>\n",
       "    </tr>\n",
       "    <tr>\n",
       "      <th>118</th>\n",
       "      <td>0</td>\n",
       "      <td>1</td>\n",
       "      <td>male</td>\n",
       "      <td>24.0</td>\n",
       "      <td>0</td>\n",
       "      <td>1</td>\n",
       "      <td>PC 17558</td>\n",
       "      <td>247.5208</td>\n",
       "      <td>B58 B60</td>\n",
       "      <td>C</td>\n",
       "    </tr>\n",
       "    <tr>\n",
       "      <th>258</th>\n",
       "      <td>1</td>\n",
       "      <td>1</td>\n",
       "      <td>female</td>\n",
       "      <td>35.0</td>\n",
       "      <td>0</td>\n",
       "      <td>0</td>\n",
       "      <td>PC 17755</td>\n",
       "      <td>512.3292</td>\n",
       "      <td>NaN</td>\n",
       "      <td>C</td>\n",
       "    </tr>\n",
       "    <tr>\n",
       "      <th>299</th>\n",
       "      <td>1</td>\n",
       "      <td>1</td>\n",
       "      <td>female</td>\n",
       "      <td>50.0</td>\n",
       "      <td>0</td>\n",
       "      <td>1</td>\n",
       "      <td>PC 17558</td>\n",
       "      <td>247.5208</td>\n",
       "      <td>B58 B60</td>\n",
       "      <td>C</td>\n",
       "    </tr>\n",
       "    <tr>\n",
       "      <th>311</th>\n",
       "      <td>1</td>\n",
       "      <td>1</td>\n",
       "      <td>female</td>\n",
       "      <td>18.0</td>\n",
       "      <td>2</td>\n",
       "      <td>2</td>\n",
       "      <td>PC 17608</td>\n",
       "      <td>262.3750</td>\n",
       "      <td>B57 B59 B63 B66</td>\n",
       "      <td>C</td>\n",
       "    </tr>\n",
       "    <tr>\n",
       "      <th>341</th>\n",
       "      <td>1</td>\n",
       "      <td>1</td>\n",
       "      <td>female</td>\n",
       "      <td>24.0</td>\n",
       "      <td>3</td>\n",
       "      <td>2</td>\n",
       "      <td>19950</td>\n",
       "      <td>263.0000</td>\n",
       "      <td>C23 C25 C27</td>\n",
       "      <td>S</td>\n",
       "    </tr>\n",
       "    <tr>\n",
       "      <th>377</th>\n",
       "      <td>0</td>\n",
       "      <td>1</td>\n",
       "      <td>male</td>\n",
       "      <td>27.0</td>\n",
       "      <td>0</td>\n",
       "      <td>2</td>\n",
       "      <td>113503</td>\n",
       "      <td>211.5000</td>\n",
       "      <td>C82</td>\n",
       "      <td>C</td>\n",
       "    </tr>\n",
       "    <tr>\n",
       "      <th>380</th>\n",
       "      <td>1</td>\n",
       "      <td>1</td>\n",
       "      <td>female</td>\n",
       "      <td>42.0</td>\n",
       "      <td>0</td>\n",
       "      <td>0</td>\n",
       "      <td>PC 17757</td>\n",
       "      <td>227.5250</td>\n",
       "      <td>NaN</td>\n",
       "      <td>C</td>\n",
       "    </tr>\n",
       "    <tr>\n",
       "      <th>438</th>\n",
       "      <td>0</td>\n",
       "      <td>1</td>\n",
       "      <td>male</td>\n",
       "      <td>64.0</td>\n",
       "      <td>1</td>\n",
       "      <td>4</td>\n",
       "      <td>19950</td>\n",
       "      <td>263.0000</td>\n",
       "      <td>C23 C25 C27</td>\n",
       "      <td>S</td>\n",
       "    </tr>\n",
       "    <tr>\n",
       "      <th>527</th>\n",
       "      <td>0</td>\n",
       "      <td>1</td>\n",
       "      <td>male</td>\n",
       "      <td>NaN</td>\n",
       "      <td>0</td>\n",
       "      <td>0</td>\n",
       "      <td>PC 17483</td>\n",
       "      <td>221.7792</td>\n",
       "      <td>C95</td>\n",
       "      <td>S</td>\n",
       "    </tr>\n",
       "    <tr>\n",
       "      <th>557</th>\n",
       "      <td>0</td>\n",
       "      <td>1</td>\n",
       "      <td>male</td>\n",
       "      <td>NaN</td>\n",
       "      <td>0</td>\n",
       "      <td>0</td>\n",
       "      <td>PC 17757</td>\n",
       "      <td>227.5250</td>\n",
       "      <td>NaN</td>\n",
       "      <td>C</td>\n",
       "    </tr>\n",
       "    <tr>\n",
       "      <th>679</th>\n",
       "      <td>1</td>\n",
       "      <td>1</td>\n",
       "      <td>male</td>\n",
       "      <td>36.0</td>\n",
       "      <td>0</td>\n",
       "      <td>1</td>\n",
       "      <td>PC 17755</td>\n",
       "      <td>512.3292</td>\n",
       "      <td>B51 B53 B55</td>\n",
       "      <td>C</td>\n",
       "    </tr>\n",
       "    <tr>\n",
       "      <th>689</th>\n",
       "      <td>1</td>\n",
       "      <td>1</td>\n",
       "      <td>female</td>\n",
       "      <td>15.0</td>\n",
       "      <td>0</td>\n",
       "      <td>1</td>\n",
       "      <td>24160</td>\n",
       "      <td>211.3375</td>\n",
       "      <td>B5</td>\n",
       "      <td>S</td>\n",
       "    </tr>\n",
       "    <tr>\n",
       "      <th>700</th>\n",
       "      <td>1</td>\n",
       "      <td>1</td>\n",
       "      <td>female</td>\n",
       "      <td>18.0</td>\n",
       "      <td>1</td>\n",
       "      <td>0</td>\n",
       "      <td>PC 17757</td>\n",
       "      <td>227.5250</td>\n",
       "      <td>C62 C64</td>\n",
       "      <td>C</td>\n",
       "    </tr>\n",
       "    <tr>\n",
       "      <th>716</th>\n",
       "      <td>1</td>\n",
       "      <td>1</td>\n",
       "      <td>female</td>\n",
       "      <td>38.0</td>\n",
       "      <td>0</td>\n",
       "      <td>0</td>\n",
       "      <td>PC 17757</td>\n",
       "      <td>227.5250</td>\n",
       "      <td>C45</td>\n",
       "      <td>C</td>\n",
       "    </tr>\n",
       "    <tr>\n",
       "      <th>730</th>\n",
       "      <td>1</td>\n",
       "      <td>1</td>\n",
       "      <td>female</td>\n",
       "      <td>29.0</td>\n",
       "      <td>0</td>\n",
       "      <td>0</td>\n",
       "      <td>24160</td>\n",
       "      <td>211.3375</td>\n",
       "      <td>B5</td>\n",
       "      <td>S</td>\n",
       "    </tr>\n",
       "    <tr>\n",
       "      <th>737</th>\n",
       "      <td>1</td>\n",
       "      <td>1</td>\n",
       "      <td>male</td>\n",
       "      <td>35.0</td>\n",
       "      <td>0</td>\n",
       "      <td>0</td>\n",
       "      <td>PC 17755</td>\n",
       "      <td>512.3292</td>\n",
       "      <td>B101</td>\n",
       "      <td>C</td>\n",
       "    </tr>\n",
       "    <tr>\n",
       "      <th>742</th>\n",
       "      <td>1</td>\n",
       "      <td>1</td>\n",
       "      <td>female</td>\n",
       "      <td>21.0</td>\n",
       "      <td>2</td>\n",
       "      <td>2</td>\n",
       "      <td>PC 17608</td>\n",
       "      <td>262.3750</td>\n",
       "      <td>B57 B59 B63 B66</td>\n",
       "      <td>C</td>\n",
       "    </tr>\n",
       "    <tr>\n",
       "      <th>779</th>\n",
       "      <td>1</td>\n",
       "      <td>1</td>\n",
       "      <td>female</td>\n",
       "      <td>43.0</td>\n",
       "      <td>0</td>\n",
       "      <td>1</td>\n",
       "      <td>24160</td>\n",
       "      <td>211.3375</td>\n",
       "      <td>B3</td>\n",
       "      <td>S</td>\n",
       "    </tr>\n",
       "  </tbody>\n",
       "</table>\n",
       "</div>"
      ],
      "text/plain": [
       "     Survived  Pclass     Sex   Age  SibSp  Parch    Ticket      Fare  \\\n",
       "27          0       1    male  19.0      3      2     19950  263.0000   \n",
       "88          1       1  female  23.0      3      2     19950  263.0000   \n",
       "118         0       1    male  24.0      0      1  PC 17558  247.5208   \n",
       "258         1       1  female  35.0      0      0  PC 17755  512.3292   \n",
       "299         1       1  female  50.0      0      1  PC 17558  247.5208   \n",
       "311         1       1  female  18.0      2      2  PC 17608  262.3750   \n",
       "341         1       1  female  24.0      3      2     19950  263.0000   \n",
       "377         0       1    male  27.0      0      2    113503  211.5000   \n",
       "380         1       1  female  42.0      0      0  PC 17757  227.5250   \n",
       "438         0       1    male  64.0      1      4     19950  263.0000   \n",
       "527         0       1    male   NaN      0      0  PC 17483  221.7792   \n",
       "557         0       1    male   NaN      0      0  PC 17757  227.5250   \n",
       "679         1       1    male  36.0      0      1  PC 17755  512.3292   \n",
       "689         1       1  female  15.0      0      1     24160  211.3375   \n",
       "700         1       1  female  18.0      1      0  PC 17757  227.5250   \n",
       "716         1       1  female  38.0      0      0  PC 17757  227.5250   \n",
       "730         1       1  female  29.0      0      0     24160  211.3375   \n",
       "737         1       1    male  35.0      0      0  PC 17755  512.3292   \n",
       "742         1       1  female  21.0      2      2  PC 17608  262.3750   \n",
       "779         1       1  female  43.0      0      1     24160  211.3375   \n",
       "\n",
       "               Cabin Embarked  \n",
       "27       C23 C25 C27        S  \n",
       "88       C23 C25 C27        S  \n",
       "118          B58 B60        C  \n",
       "258              NaN        C  \n",
       "299          B58 B60        C  \n",
       "311  B57 B59 B63 B66        C  \n",
       "341      C23 C25 C27        S  \n",
       "377              C82        C  \n",
       "380              NaN        C  \n",
       "438      C23 C25 C27        S  \n",
       "527              C95        S  \n",
       "557              NaN        C  \n",
       "679      B51 B53 B55        C  \n",
       "689               B5        S  \n",
       "700          C62 C64        C  \n",
       "716              C45        C  \n",
       "730               B5        S  \n",
       "737             B101        C  \n",
       "742  B57 B59 B63 B66        C  \n",
       "779               B3        S  "
      ]
     },
     "execution_count": 17,
     "metadata": {},
     "output_type": "execute_result"
    }
   ],
   "source": [
    "df[df['Fare'] > 200]"
   ]
  },
  {
   "cell_type": "code",
   "execution_count": 18,
   "id": "6f7b45bb",
   "metadata": {
    "execution": {
     "iopub.execute_input": "2022-06-12T10:24:02.687668Z",
     "iopub.status.busy": "2022-06-12T10:24:02.686861Z",
     "iopub.status.idle": "2022-06-12T10:24:02.693491Z",
     "shell.execute_reply": "2022-06-12T10:24:02.692647Z"
    },
    "papermill": {
     "duration": 0.028009,
     "end_time": "2022-06-12T10:24:02.695317",
     "exception": false,
     "start_time": "2022-06-12T10:24:02.667308",
     "status": "completed"
    },
    "tags": []
   },
   "outputs": [],
   "source": [
    "idx = df[df['Fare'] > 500].index \n",
    "df.drop(idx, inplace=True)"
   ]
  },
  {
   "cell_type": "code",
   "execution_count": 19,
   "id": "4de1577a",
   "metadata": {
    "execution": {
     "iopub.execute_input": "2022-06-12T10:24:02.733033Z",
     "iopub.status.busy": "2022-06-12T10:24:02.732197Z",
     "iopub.status.idle": "2022-06-12T10:24:02.739496Z",
     "shell.execute_reply": "2022-06-12T10:24:02.738859Z"
    },
    "papermill": {
     "duration": 0.028256,
     "end_time": "2022-06-12T10:24:02.741447",
     "exception": false,
     "start_time": "2022-06-12T10:24:02.713191",
     "status": "completed"
    },
    "tags": []
   },
   "outputs": [],
   "source": [
    "idx = df[df['Age'] < 1].index\n",
    "df.drop(idx, inplace=True)"
   ]
  },
  {
   "cell_type": "code",
   "execution_count": 20,
   "id": "1894309a",
   "metadata": {
    "execution": {
     "iopub.execute_input": "2022-06-12T10:24:02.779748Z",
     "iopub.status.busy": "2022-06-12T10:24:02.778229Z",
     "iopub.status.idle": "2022-06-12T10:24:06.470349Z",
     "shell.execute_reply": "2022-06-12T10:24:06.469396Z"
    },
    "papermill": {
     "duration": 3.712913,
     "end_time": "2022-06-12T10:24:06.472169",
     "exception": false,
     "start_time": "2022-06-12T10:24:02.759256",
     "status": "completed"
    },
    "tags": []
   },
   "outputs": [
    {
     "name": "stdout",
     "output_type": "stream",
     "text": [
      "Target looks like classification\n",
      "Linear Discriminant Analysis training set score: 0.596\n"
     ]
    },
    {
     "name": "stderr",
     "output_type": "stream",
     "text": [
      "/opt/conda/lib/python3.7/site-packages/dabl/plot/utils.py:376: UserWarning: FixedFormatter should only be used together with FixedLocator\n",
      "  for t in ax.get_xticklabels()]\n",
      "/opt/conda/lib/python3.7/site-packages/dabl/plot/utils.py:376: UserWarning: FixedFormatter should only be used together with FixedLocator\n",
      "  for t in ax.get_xticklabels()]\n"
     ]
    },
    {
     "data": {
      "text/plain": [
       "[[<Figure size 864x864 with 20 Axes>,\n",
       "  <Figure size 1152x288 with 4 Axes>,\n",
       "  <Figure size 432x288 with 1 Axes>],\n",
       " None]"
      ]
     },
     "execution_count": 20,
     "metadata": {},
     "output_type": "execute_result"
    },
    {
     "data": {
      "image/png": "[encoded data removed]",
      "text/plain": [
       "<Figure size 432x288 with 1 Axes>"
      ]
     },
     "metadata": {
      "needs_background": "light"
     },
     "output_type": "display_data"
    },
    {
     "data": {
      "image/png": "[encoded data removed]",
      "text/plain": [
       "<Figure size 864x864 with 20 Axes>"
      ]
     },
     "metadata": {
      "needs_background": "light"
     },
     "output_type": "display_data"
    },
    {
     "data": {
      "image/png": "[encoded data removed]",
      "text/plain": [
       "<Figure size 1152x288 with 4 Axes>"
      ]
     },
     "metadata": {
      "needs_background": "light"
     },
     "output_type": "display_data"
    },
    {
     "data": {
      "image/png": "[encoded data removed]",
      "text/plain": [
       "<Figure size 432x288 with 1 Axes>"
      ]
     },
     "metadata": {
      "needs_background": "light"
     },
     "output_type": "display_data"
    },
    {
     "data": {
      "image/png": "[encoded data removed]",
      "text/plain": [
       "<Figure size 864x216 with 3 Axes>"
      ]
     },
     "metadata": {
      "needs_background": "light"
     },
     "output_type": "display_data"
    }
   ],
   "source": [
    "dabl.plot(df.drop('Survived', axis=1), df['Survived'])"
   ]
  },
  {
   "cell_type": "markdown",
   "id": "3aea8924",
   "metadata": {
    "execution": {
     "iopub.execute_input": "2022-06-12T08:53:49.536229Z",
     "iopub.status.busy": "2022-06-12T08:53:49.535290Z",
     "iopub.status.idle": "2022-06-12T08:53:49.542539Z",
     "shell.execute_reply": "2022-06-12T08:53:49.541065Z",
     "shell.execute_reply.started": "2022-06-12T08:53:49.536194Z"
    },
    "papermill": {
     "duration": 0.022589,
     "end_time": "2022-06-12T10:24:06.517259",
     "exception": false,
     "start_time": "2022-06-12T10:24:06.494670",
     "status": "completed"
    },
    "tags": []
   },
   "source": [
    "### 0 -> did not survive\n",
    "### 1 -> survived"
   ]
  },
  {
   "cell_type": "markdown",
   "id": "aaf92d60",
   "metadata": {
    "papermill": {
     "duration": 0.022625,
     "end_time": "2022-06-12T10:24:06.563009",
     "exception": false,
     "start_time": "2022-06-12T10:24:06.540384",
     "status": "completed"
    },
    "tags": []
   },
   "source": [
    "# Imputation"
   ]
  },
  {
   "cell_type": "code",
   "execution_count": 21,
   "id": "1b891826",
   "metadata": {
    "execution": {
     "iopub.execute_input": "2022-06-12T10:24:06.609544Z",
     "iopub.status.busy": "2022-06-12T10:24:06.609195Z",
     "iopub.status.idle": "2022-06-12T10:24:06.619187Z",
     "shell.execute_reply": "2022-06-12T10:24:06.618336Z"
    },
    "papermill": {
     "duration": 0.035496,
     "end_time": "2022-06-12T10:24:06.620950",
     "exception": false,
     "start_time": "2022-06-12T10:24:06.585454",
     "status": "completed"
    },
    "tags": []
   },
   "outputs": [
    {
     "data": {
      "text/plain": [
       "Age         177\n",
       "Cabin       680\n",
       "Embarked      2\n",
       "dtype: int64"
      ]
     },
     "execution_count": 21,
     "metadata": {},
     "output_type": "execute_result"
    }
   ],
   "source": [
    "df.isna().sum()[df.isna().sum() != 0]"
   ]
  },
  {
   "cell_type": "code",
   "execution_count": 22,
   "id": "3fc607df",
   "metadata": {
    "execution": {
     "iopub.execute_input": "2022-06-12T10:24:06.668333Z",
     "iopub.status.busy": "2022-06-12T10:24:06.667977Z",
     "iopub.status.idle": "2022-06-12T10:24:06.674541Z",
     "shell.execute_reply": "2022-06-12T10:24:06.673642Z"
    },
    "papermill": {
     "duration": 0.03249,
     "end_time": "2022-06-12T10:24:06.676459",
     "exception": false,
     "start_time": "2022-06-12T10:24:06.643969",
     "status": "completed"
    },
    "tags": []
   },
   "outputs": [
    {
     "data": {
      "text/plain": [
       "201"
      ]
     },
     "execution_count": 22,
     "metadata": {},
     "output_type": "execute_result"
    }
   ],
   "source": [
    "df['Cabin'].value_counts().sum()"
   ]
  },
  {
   "cell_type": "markdown",
   "id": "45b6d38d",
   "metadata": {
    "papermill": {
     "duration": 0.022991,
     "end_time": "2022-06-12T10:24:06.722767",
     "exception": false,
     "start_time": "2022-06-12T10:24:06.699776",
     "status": "completed"
    },
    "tags": []
   },
   "source": [
    "there are only 202 filled values in Cabin column, 686 values are NaN values"
   ]
  },
  {
   "cell_type": "code",
   "execution_count": 23,
   "id": "a6b156c7",
   "metadata": {
    "execution": {
     "iopub.execute_input": "2022-06-12T10:24:06.770341Z",
     "iopub.status.busy": "2022-06-12T10:24:06.770000Z",
     "iopub.status.idle": "2022-06-12T10:24:06.774738Z",
     "shell.execute_reply": "2022-06-12T10:24:06.773875Z"
    },
    "papermill": {
     "duration": 0.030593,
     "end_time": "2022-06-12T10:24:06.776384",
     "exception": false,
     "start_time": "2022-06-12T10:24:06.745791",
     "status": "completed"
    },
    "tags": []
   },
   "outputs": [],
   "source": [
    "df.drop('Cabin', axis=1, inplace=True)"
   ]
  },
  {
   "cell_type": "code",
   "execution_count": 24,
   "id": "28c53244",
   "metadata": {
    "execution": {
     "iopub.execute_input": "2022-06-12T10:24:06.824247Z",
     "iopub.status.busy": "2022-06-12T10:24:06.823901Z",
     "iopub.status.idle": "2022-06-12T10:24:06.851788Z",
     "shell.execute_reply": "2022-06-12T10:24:06.850589Z"
    },
    "papermill": {
     "duration": 0.055248,
     "end_time": "2022-06-12T10:24:06.855056",
     "exception": false,
     "start_time": "2022-06-12T10:24:06.799808",
     "status": "completed"
    },
    "tags": []
   },
   "outputs": [],
   "source": [
    "imputer = KNNImputer()\n",
    "x = imputer.fit_transform(df.select_dtypes(exclude='object'))\n",
    "df_filled = pd.DataFrame(data=x, columns=df.select_dtypes(exclude='object').columns)"
   ]
  },
  {
   "cell_type": "code",
   "execution_count": 25,
   "id": "41ade556",
   "metadata": {
    "execution": {
     "iopub.execute_input": "2022-06-12T10:24:06.948432Z",
     "iopub.status.busy": "2022-06-12T10:24:06.947824Z",
     "iopub.status.idle": "2022-06-12T10:24:06.965061Z",
     "shell.execute_reply": "2022-06-12T10:24:06.964433Z"
    },
    "papermill": {
     "duration": 0.065631,
     "end_time": "2022-06-12T10:24:06.966542",
     "exception": false,
     "start_time": "2022-06-12T10:24:06.900911",
     "status": "completed"
    },
    "tags": []
   },
   "outputs": [
    {
     "data": {
      "text/html": [
       "<div>\n",
       "<style scoped>\n",
       "    .dataframe tbody tr th:only-of-type {\n",
       "        vertical-align: middle;\n",
       "    }\n",
       "\n",
       "    .dataframe tbody tr th {\n",
       "        vertical-align: top;\n",
       "    }\n",
       "\n",
       "    .dataframe thead th {\n",
       "        text-align: right;\n",
       "    }\n",
       "</style>\n",
       "<table border=\"1\" class=\"dataframe\">\n",
       "  <thead>\n",
       "    <tr style=\"text-align: right;\">\n",
       "      <th></th>\n",
       "      <th>Survived</th>\n",
       "      <th>Pclass</th>\n",
       "      <th>Age</th>\n",
       "      <th>SibSp</th>\n",
       "      <th>Parch</th>\n",
       "      <th>Fare</th>\n",
       "    </tr>\n",
       "  </thead>\n",
       "  <tbody>\n",
       "    <tr>\n",
       "      <th>0</th>\n",
       "      <td>0.0</td>\n",
       "      <td>3.0</td>\n",
       "      <td>22.0</td>\n",
       "      <td>1.0</td>\n",
       "      <td>0.0</td>\n",
       "      <td>7.2500</td>\n",
       "    </tr>\n",
       "    <tr>\n",
       "      <th>1</th>\n",
       "      <td>1.0</td>\n",
       "      <td>1.0</td>\n",
       "      <td>38.0</td>\n",
       "      <td>1.0</td>\n",
       "      <td>0.0</td>\n",
       "      <td>71.2833</td>\n",
       "    </tr>\n",
       "    <tr>\n",
       "      <th>2</th>\n",
       "      <td>1.0</td>\n",
       "      <td>3.0</td>\n",
       "      <td>26.0</td>\n",
       "      <td>0.0</td>\n",
       "      <td>0.0</td>\n",
       "      <td>7.9250</td>\n",
       "    </tr>\n",
       "    <tr>\n",
       "      <th>3</th>\n",
       "      <td>1.0</td>\n",
       "      <td>1.0</td>\n",
       "      <td>35.0</td>\n",
       "      <td>1.0</td>\n",
       "      <td>0.0</td>\n",
       "      <td>53.1000</td>\n",
       "    </tr>\n",
       "    <tr>\n",
       "      <th>4</th>\n",
       "      <td>0.0</td>\n",
       "      <td>3.0</td>\n",
       "      <td>35.0</td>\n",
       "      <td>0.0</td>\n",
       "      <td>0.0</td>\n",
       "      <td>8.0500</td>\n",
       "    </tr>\n",
       "  </tbody>\n",
       "</table>\n",
       "</div>"
      ],
      "text/plain": [
       "   Survived  Pclass   Age  SibSp  Parch     Fare\n",
       "0       0.0     3.0  22.0    1.0    0.0   7.2500\n",
       "1       1.0     1.0  38.0    1.0    0.0  71.2833\n",
       "2       1.0     3.0  26.0    0.0    0.0   7.9250\n",
       "3       1.0     1.0  35.0    1.0    0.0  53.1000\n",
       "4       0.0     3.0  35.0    0.0    0.0   8.0500"
      ]
     },
     "execution_count": 25,
     "metadata": {},
     "output_type": "execute_result"
    }
   ],
   "source": [
    "df_filled.head()"
   ]
  },
  {
   "cell_type": "code",
   "execution_count": 26,
   "id": "f9e38916",
   "metadata": {
    "execution": {
     "iopub.execute_input": "2022-06-12T10:24:07.014831Z",
     "iopub.status.busy": "2022-06-12T10:24:07.014207Z",
     "iopub.status.idle": "2022-06-12T10:24:07.018649Z",
     "shell.execute_reply": "2022-06-12T10:24:07.018026Z"
    },
    "papermill": {
     "duration": 0.030348,
     "end_time": "2022-06-12T10:24:07.020261",
     "exception": false,
     "start_time": "2022-06-12T10:24:06.989913",
     "status": "completed"
    },
    "tags": []
   },
   "outputs": [],
   "source": [
    "df = df.reset_index()"
   ]
  },
  {
   "cell_type": "code",
   "execution_count": 27,
   "id": "126648f7",
   "metadata": {
    "execution": {
     "iopub.execute_input": "2022-06-12T10:24:07.068021Z",
     "iopub.status.busy": "2022-06-12T10:24:07.067374Z",
     "iopub.status.idle": "2022-06-12T10:24:07.073260Z",
     "shell.execute_reply": "2022-06-12T10:24:07.072658Z"
    },
    "papermill": {
     "duration": 0.032126,
     "end_time": "2022-06-12T10:24:07.074906",
     "exception": false,
     "start_time": "2022-06-12T10:24:07.042780",
     "status": "completed"
    },
    "tags": []
   },
   "outputs": [],
   "source": [
    "df = pd.concat([df_filled, df.select_dtypes(include='object')], axis=1)"
   ]
  },
  {
   "cell_type": "code",
   "execution_count": 28,
   "id": "39f77c16",
   "metadata": {
    "execution": {
     "iopub.execute_input": "2022-06-12T10:24:07.122288Z",
     "iopub.status.busy": "2022-06-12T10:24:07.121671Z",
     "iopub.status.idle": "2022-06-12T10:24:07.140380Z",
     "shell.execute_reply": "2022-06-12T10:24:07.139678Z"
    },
    "papermill": {
     "duration": 0.044521,
     "end_time": "2022-06-12T10:24:07.142010",
     "exception": false,
     "start_time": "2022-06-12T10:24:07.097489",
     "status": "completed"
    },
    "tags": []
   },
   "outputs": [
    {
     "data": {
      "text/html": [
       "<div>\n",
       "<style scoped>\n",
       "    .dataframe tbody tr th:only-of-type {\n",
       "        vertical-align: middle;\n",
       "    }\n",
       "\n",
       "    .dataframe tbody tr th {\n",
       "        vertical-align: top;\n",
       "    }\n",
       "\n",
       "    .dataframe thead th {\n",
       "        text-align: right;\n",
       "    }\n",
       "</style>\n",
       "<table border=\"1\" class=\"dataframe\">\n",
       "  <thead>\n",
       "    <tr style=\"text-align: right;\">\n",
       "      <th></th>\n",
       "      <th>Survived</th>\n",
       "      <th>Pclass</th>\n",
       "      <th>Age</th>\n",
       "      <th>SibSp</th>\n",
       "      <th>Parch</th>\n",
       "      <th>Fare</th>\n",
       "      <th>Sex</th>\n",
       "      <th>Ticket</th>\n",
       "      <th>Embarked</th>\n",
       "    </tr>\n",
       "  </thead>\n",
       "  <tbody>\n",
       "    <tr>\n",
       "      <th>0</th>\n",
       "      <td>0.0</td>\n",
       "      <td>3.0</td>\n",
       "      <td>22.0</td>\n",
       "      <td>1.0</td>\n",
       "      <td>0.0</td>\n",
       "      <td>7.2500</td>\n",
       "      <td>male</td>\n",
       "      <td>A/5 21171</td>\n",
       "      <td>S</td>\n",
       "    </tr>\n",
       "    <tr>\n",
       "      <th>1</th>\n",
       "      <td>1.0</td>\n",
       "      <td>1.0</td>\n",
       "      <td>38.0</td>\n",
       "      <td>1.0</td>\n",
       "      <td>0.0</td>\n",
       "      <td>71.2833</td>\n",
       "      <td>female</td>\n",
       "      <td>PC 17599</td>\n",
       "      <td>C</td>\n",
       "    </tr>\n",
       "    <tr>\n",
       "      <th>2</th>\n",
       "      <td>1.0</td>\n",
       "      <td>3.0</td>\n",
       "      <td>26.0</td>\n",
       "      <td>0.0</td>\n",
       "      <td>0.0</td>\n",
       "      <td>7.9250</td>\n",
       "      <td>female</td>\n",
       "      <td>STON/O2. 3101282</td>\n",
       "      <td>S</td>\n",
       "    </tr>\n",
       "    <tr>\n",
       "      <th>3</th>\n",
       "      <td>1.0</td>\n",
       "      <td>1.0</td>\n",
       "      <td>35.0</td>\n",
       "      <td>1.0</td>\n",
       "      <td>0.0</td>\n",
       "      <td>53.1000</td>\n",
       "      <td>female</td>\n",
       "      <td>113803</td>\n",
       "      <td>S</td>\n",
       "    </tr>\n",
       "    <tr>\n",
       "      <th>4</th>\n",
       "      <td>0.0</td>\n",
       "      <td>3.0</td>\n",
       "      <td>35.0</td>\n",
       "      <td>0.0</td>\n",
       "      <td>0.0</td>\n",
       "      <td>8.0500</td>\n",
       "      <td>male</td>\n",
       "      <td>373450</td>\n",
       "      <td>S</td>\n",
       "    </tr>\n",
       "    <tr>\n",
       "      <th>...</th>\n",
       "      <td>...</td>\n",
       "      <td>...</td>\n",
       "      <td>...</td>\n",
       "      <td>...</td>\n",
       "      <td>...</td>\n",
       "      <td>...</td>\n",
       "      <td>...</td>\n",
       "      <td>...</td>\n",
       "      <td>...</td>\n",
       "    </tr>\n",
       "    <tr>\n",
       "      <th>876</th>\n",
       "      <td>0.0</td>\n",
       "      <td>2.0</td>\n",
       "      <td>27.0</td>\n",
       "      <td>0.0</td>\n",
       "      <td>0.0</td>\n",
       "      <td>13.0000</td>\n",
       "      <td>male</td>\n",
       "      <td>211536</td>\n",
       "      <td>S</td>\n",
       "    </tr>\n",
       "    <tr>\n",
       "      <th>877</th>\n",
       "      <td>1.0</td>\n",
       "      <td>1.0</td>\n",
       "      <td>19.0</td>\n",
       "      <td>0.0</td>\n",
       "      <td>0.0</td>\n",
       "      <td>30.0000</td>\n",
       "      <td>female</td>\n",
       "      <td>112053</td>\n",
       "      <td>S</td>\n",
       "    </tr>\n",
       "    <tr>\n",
       "      <th>878</th>\n",
       "      <td>0.0</td>\n",
       "      <td>3.0</td>\n",
       "      <td>26.8</td>\n",
       "      <td>1.0</td>\n",
       "      <td>2.0</td>\n",
       "      <td>23.4500</td>\n",
       "      <td>female</td>\n",
       "      <td>W./C. 6607</td>\n",
       "      <td>S</td>\n",
       "    </tr>\n",
       "    <tr>\n",
       "      <th>879</th>\n",
       "      <td>1.0</td>\n",
       "      <td>1.0</td>\n",
       "      <td>26.0</td>\n",
       "      <td>0.0</td>\n",
       "      <td>0.0</td>\n",
       "      <td>30.0000</td>\n",
       "      <td>male</td>\n",
       "      <td>111369</td>\n",
       "      <td>C</td>\n",
       "    </tr>\n",
       "    <tr>\n",
       "      <th>880</th>\n",
       "      <td>0.0</td>\n",
       "      <td>3.0</td>\n",
       "      <td>32.0</td>\n",
       "      <td>0.0</td>\n",
       "      <td>0.0</td>\n",
       "      <td>7.7500</td>\n",
       "      <td>male</td>\n",
       "      <td>370376</td>\n",
       "      <td>Q</td>\n",
       "    </tr>\n",
       "  </tbody>\n",
       "</table>\n",
       "<p>881 rows × 9 columns</p>\n",
       "</div>"
      ],
      "text/plain": [
       "     Survived  Pclass   Age  SibSp  Parch     Fare     Sex            Ticket  \\\n",
       "0         0.0     3.0  22.0    1.0    0.0   7.2500    male         A/5 21171   \n",
       "1         1.0     1.0  38.0    1.0    0.0  71.2833  female          PC 17599   \n",
       "2         1.0     3.0  26.0    0.0    0.0   7.9250  female  STON/O2. 3101282   \n",
       "3         1.0     1.0  35.0    1.0    0.0  53.1000  female            113803   \n",
       "4         0.0     3.0  35.0    0.0    0.0   8.0500    male            373450   \n",
       "..        ...     ...   ...    ...    ...      ...     ...               ...   \n",
       "876       0.0     2.0  27.0    0.0    0.0  13.0000    male            211536   \n",
       "877       1.0     1.0  19.0    0.0    0.0  30.0000  female            112053   \n",
       "878       0.0     3.0  26.8    1.0    2.0  23.4500  female        W./C. 6607   \n",
       "879       1.0     1.0  26.0    0.0    0.0  30.0000    male            111369   \n",
       "880       0.0     3.0  32.0    0.0    0.0   7.7500    male            370376   \n",
       "\n",
       "    Embarked  \n",
       "0          S  \n",
       "1          C  \n",
       "2          S  \n",
       "3          S  \n",
       "4          S  \n",
       "..       ...  \n",
       "876        S  \n",
       "877        S  \n",
       "878        S  \n",
       "879        C  \n",
       "880        Q  \n",
       "\n",
       "[881 rows x 9 columns]"
      ]
     },
     "execution_count": 28,
     "metadata": {},
     "output_type": "execute_result"
    }
   ],
   "source": [
    "df"
   ]
  },
  {
   "cell_type": "code",
   "execution_count": 29,
   "id": "56b28ac6",
   "metadata": {
    "execution": {
     "iopub.execute_input": "2022-06-12T10:24:07.190156Z",
     "iopub.status.busy": "2022-06-12T10:24:07.189627Z",
     "iopub.status.idle": "2022-06-12T10:24:07.195006Z",
     "shell.execute_reply": "2022-06-12T10:24:07.194448Z"
    },
    "papermill": {
     "duration": 0.031231,
     "end_time": "2022-06-12T10:24:07.196689",
     "exception": false,
     "start_time": "2022-06-12T10:24:07.165458",
     "status": "completed"
    },
    "tags": []
   },
   "outputs": [],
   "source": [
    "df['Embarked'].ffill(inplace=True)"
   ]
  },
  {
   "cell_type": "code",
   "execution_count": 30,
   "id": "b9b2744e",
   "metadata": {
    "execution": {
     "iopub.execute_input": "2022-06-12T10:24:07.244255Z",
     "iopub.status.busy": "2022-06-12T10:24:07.243196Z",
     "iopub.status.idle": "2022-06-12T10:24:07.250755Z",
     "shell.execute_reply": "2022-06-12T10:24:07.249894Z"
    },
    "papermill": {
     "duration": 0.033097,
     "end_time": "2022-06-12T10:24:07.252390",
     "exception": false,
     "start_time": "2022-06-12T10:24:07.219293",
     "status": "completed"
    },
    "tags": []
   },
   "outputs": [
    {
     "data": {
      "text/plain": [
       "Survived    0\n",
       "Pclass      0\n",
       "Age         0\n",
       "SibSp       0\n",
       "Parch       0\n",
       "Fare        0\n",
       "Sex         0\n",
       "Ticket      0\n",
       "Embarked    0\n",
       "dtype: int64"
      ]
     },
     "execution_count": 30,
     "metadata": {},
     "output_type": "execute_result"
    }
   ],
   "source": [
    "df.isna().sum()"
   ]
  },
  {
   "cell_type": "markdown",
   "id": "f0b393db",
   "metadata": {
    "papermill": {
     "duration": 0.023159,
     "end_time": "2022-06-12T10:24:07.298356",
     "exception": false,
     "start_time": "2022-06-12T10:24:07.275197",
     "status": "completed"
    },
    "tags": []
   },
   "source": [
    "# Encoding categorical columns"
   ]
  },
  {
   "cell_type": "code",
   "execution_count": 31,
   "id": "164259d8",
   "metadata": {
    "execution": {
     "iopub.execute_input": "2022-06-12T10:24:07.346161Z",
     "iopub.status.busy": "2022-06-12T10:24:07.345744Z",
     "iopub.status.idle": "2022-06-12T10:24:07.353009Z",
     "shell.execute_reply": "2022-06-12T10:24:07.352167Z"
    },
    "papermill": {
     "duration": 0.033576,
     "end_time": "2022-06-12T10:24:07.354885",
     "exception": false,
     "start_time": "2022-06-12T10:24:07.321309",
     "status": "completed"
    },
    "tags": []
   },
   "outputs": [
    {
     "data": {
      "text/plain": [
       "Index(['Sex', 'Ticket', 'Embarked'], dtype='object')"
      ]
     },
     "execution_count": 31,
     "metadata": {},
     "output_type": "execute_result"
    }
   ],
   "source": [
    "df.select_dtypes(include='object').columns"
   ]
  },
  {
   "cell_type": "code",
   "execution_count": 32,
   "id": "b63a5ea4",
   "metadata": {
    "execution": {
     "iopub.execute_input": "2022-06-12T10:24:07.402707Z",
     "iopub.status.busy": "2022-06-12T10:24:07.402308Z",
     "iopub.status.idle": "2022-06-12T10:24:07.409555Z",
     "shell.execute_reply": "2022-06-12T10:24:07.408366Z"
    },
    "papermill": {
     "duration": 0.033631,
     "end_time": "2022-06-12T10:24:07.411525",
     "exception": false,
     "start_time": "2022-06-12T10:24:07.377894",
     "status": "completed"
    },
    "tags": []
   },
   "outputs": [
    {
     "name": "stdout",
     "output_type": "stream",
     "text": [
      "Column \"Sex\" has 2 unique values\n",
      "Column \"Ticker\" has 679 unique values\n",
      "Column \"Embarked\" has 3 unique values\n"
     ]
    }
   ],
   "source": [
    "print('Column \"Sex\" has ' + str(df['Sex'].nunique()) + ' unique values')\n",
    "print('Column \"Ticker\" has ' + str(df['Ticket'].nunique()) + ' unique values')\n",
    "print('Column \"Embarked\" has ' + str(df['Embarked'].nunique()) + ' unique values')"
   ]
  },
  {
   "cell_type": "code",
   "execution_count": 33,
   "id": "ea98d988",
   "metadata": {
    "execution": {
     "iopub.execute_input": "2022-06-12T10:24:07.459373Z",
     "iopub.status.busy": "2022-06-12T10:24:07.458533Z",
     "iopub.status.idle": "2022-06-12T10:24:07.463448Z",
     "shell.execute_reply": "2022-06-12T10:24:07.462822Z"
    },
    "papermill": {
     "duration": 0.030677,
     "end_time": "2022-06-12T10:24:07.465035",
     "exception": false,
     "start_time": "2022-06-12T10:24:07.434358",
     "status": "completed"
    },
    "tags": []
   },
   "outputs": [],
   "source": [
    "df.drop('Ticket', axis=1, inplace=True)"
   ]
  },
  {
   "cell_type": "code",
   "execution_count": 34,
   "id": "2d0ac916",
   "metadata": {
    "execution": {
     "iopub.execute_input": "2022-06-12T10:24:07.512742Z",
     "iopub.status.busy": "2022-06-12T10:24:07.512348Z",
     "iopub.status.idle": "2022-06-12T10:24:07.521377Z",
     "shell.execute_reply": "2022-06-12T10:24:07.520745Z"
    },
    "papermill": {
     "duration": 0.035368,
     "end_time": "2022-06-12T10:24:07.523274",
     "exception": false,
     "start_time": "2022-06-12T10:24:07.487906",
     "status": "completed"
    },
    "tags": []
   },
   "outputs": [],
   "source": [
    "df = pd.concat([pd.get_dummies(df['Sex'], drop_first=True) , df.drop('Sex', axis=1)], axis=1)\n",
    "df = pd.concat([pd.get_dummies(df['Embarked'], drop_first=True) , df.drop('Embarked', axis=1)], axis=1)"
   ]
  },
  {
   "cell_type": "code",
   "execution_count": 35,
   "id": "14458559",
   "metadata": {
    "execution": {
     "iopub.execute_input": "2022-06-12T10:24:07.573546Z",
     "iopub.status.busy": "2022-06-12T10:24:07.573163Z",
     "iopub.status.idle": "2022-06-12T10:24:07.586413Z",
     "shell.execute_reply": "2022-06-12T10:24:07.585647Z"
    },
    "papermill": {
     "duration": 0.040989,
     "end_time": "2022-06-12T10:24:07.588190",
     "exception": false,
     "start_time": "2022-06-12T10:24:07.547201",
     "status": "completed"
    },
    "tags": []
   },
   "outputs": [
    {
     "data": {
      "text/html": [
       "<div>\n",
       "<style scoped>\n",
       "    .dataframe tbody tr th:only-of-type {\n",
       "        vertical-align: middle;\n",
       "    }\n",
       "\n",
       "    .dataframe tbody tr th {\n",
       "        vertical-align: top;\n",
       "    }\n",
       "\n",
       "    .dataframe thead th {\n",
       "        text-align: right;\n",
       "    }\n",
       "</style>\n",
       "<table border=\"1\" class=\"dataframe\">\n",
       "  <thead>\n",
       "    <tr style=\"text-align: right;\">\n",
       "      <th></th>\n",
       "      <th>Q</th>\n",
       "      <th>S</th>\n",
       "      <th>male</th>\n",
       "      <th>Survived</th>\n",
       "      <th>Pclass</th>\n",
       "      <th>Age</th>\n",
       "      <th>SibSp</th>\n",
       "      <th>Parch</th>\n",
       "      <th>Fare</th>\n",
       "    </tr>\n",
       "  </thead>\n",
       "  <tbody>\n",
       "    <tr>\n",
       "      <th>0</th>\n",
       "      <td>0</td>\n",
       "      <td>1</td>\n",
       "      <td>1</td>\n",
       "      <td>0.0</td>\n",
       "      <td>3.0</td>\n",
       "      <td>22.0</td>\n",
       "      <td>1.0</td>\n",
       "      <td>0.0</td>\n",
       "      <td>7.2500</td>\n",
       "    </tr>\n",
       "    <tr>\n",
       "      <th>1</th>\n",
       "      <td>0</td>\n",
       "      <td>0</td>\n",
       "      <td>0</td>\n",
       "      <td>1.0</td>\n",
       "      <td>1.0</td>\n",
       "      <td>38.0</td>\n",
       "      <td>1.0</td>\n",
       "      <td>0.0</td>\n",
       "      <td>71.2833</td>\n",
       "    </tr>\n",
       "    <tr>\n",
       "      <th>2</th>\n",
       "      <td>0</td>\n",
       "      <td>1</td>\n",
       "      <td>0</td>\n",
       "      <td>1.0</td>\n",
       "      <td>3.0</td>\n",
       "      <td>26.0</td>\n",
       "      <td>0.0</td>\n",
       "      <td>0.0</td>\n",
       "      <td>7.9250</td>\n",
       "    </tr>\n",
       "    <tr>\n",
       "      <th>3</th>\n",
       "      <td>0</td>\n",
       "      <td>1</td>\n",
       "      <td>0</td>\n",
       "      <td>1.0</td>\n",
       "      <td>1.0</td>\n",
       "      <td>35.0</td>\n",
       "      <td>1.0</td>\n",
       "      <td>0.0</td>\n",
       "      <td>53.1000</td>\n",
       "    </tr>\n",
       "    <tr>\n",
       "      <th>4</th>\n",
       "      <td>0</td>\n",
       "      <td>1</td>\n",
       "      <td>1</td>\n",
       "      <td>0.0</td>\n",
       "      <td>3.0</td>\n",
       "      <td>35.0</td>\n",
       "      <td>0.0</td>\n",
       "      <td>0.0</td>\n",
       "      <td>8.0500</td>\n",
       "    </tr>\n",
       "  </tbody>\n",
       "</table>\n",
       "</div>"
      ],
      "text/plain": [
       "   Q  S  male  Survived  Pclass   Age  SibSp  Parch     Fare\n",
       "0  0  1     1       0.0     3.0  22.0    1.0    0.0   7.2500\n",
       "1  0  0     0       1.0     1.0  38.0    1.0    0.0  71.2833\n",
       "2  0  1     0       1.0     3.0  26.0    0.0    0.0   7.9250\n",
       "3  0  1     0       1.0     1.0  35.0    1.0    0.0  53.1000\n",
       "4  0  1     1       0.0     3.0  35.0    0.0    0.0   8.0500"
      ]
     },
     "execution_count": 35,
     "metadata": {},
     "output_type": "execute_result"
    }
   ],
   "source": [
    "df.head()"
   ]
  },
  {
   "cell_type": "markdown",
   "id": "fe362222",
   "metadata": {
    "papermill": {
     "duration": 0.023978,
     "end_time": "2022-06-12T10:24:07.635919",
     "exception": false,
     "start_time": "2022-06-12T10:24:07.611941",
     "status": "completed"
    },
    "tags": []
   },
   "source": [
    "# Train-Test split of dataset"
   ]
  },
  {
   "cell_type": "code",
   "execution_count": 36,
   "id": "402f763e",
   "metadata": {
    "execution": {
     "iopub.execute_input": "2022-06-12T10:24:07.684913Z",
     "iopub.status.busy": "2022-06-12T10:24:07.684354Z",
     "iopub.status.idle": "2022-06-12T10:24:07.690844Z",
     "shell.execute_reply": "2022-06-12T10:24:07.690258Z"
    },
    "papermill": {
     "duration": 0.032813,
     "end_time": "2022-06-12T10:24:07.692462",
     "exception": false,
     "start_time": "2022-06-12T10:24:07.659649",
     "status": "completed"
    },
    "tags": []
   },
   "outputs": [],
   "source": [
    "X = df.drop('Survived', axis=1)\n",
    "y = df['Survived']\n",
    "X_train, X_test, y_train, y_test = train_test_split(X, y, test_size=0.05, random_state=42)"
   ]
  },
  {
   "cell_type": "code",
   "execution_count": 37,
   "id": "b8f54b84",
   "metadata": {
    "execution": {
     "iopub.execute_input": "2022-06-12T10:24:07.740725Z",
     "iopub.status.busy": "2022-06-12T10:24:07.740114Z",
     "iopub.status.idle": "2022-06-12T10:24:07.753574Z",
     "shell.execute_reply": "2022-06-12T10:24:07.752516Z"
    },
    "papermill": {
     "duration": 0.039836,
     "end_time": "2022-06-12T10:24:07.755588",
     "exception": false,
     "start_time": "2022-06-12T10:24:07.715752",
     "status": "completed"
    },
    "tags": []
   },
   "outputs": [
    {
     "data": {
      "text/html": [
       "<div>\n",
       "<style scoped>\n",
       "    .dataframe tbody tr th:only-of-type {\n",
       "        vertical-align: middle;\n",
       "    }\n",
       "\n",
       "    .dataframe tbody tr th {\n",
       "        vertical-align: top;\n",
       "    }\n",
       "\n",
       "    .dataframe thead th {\n",
       "        text-align: right;\n",
       "    }\n",
       "</style>\n",
       "<table border=\"1\" class=\"dataframe\">\n",
       "  <thead>\n",
       "    <tr style=\"text-align: right;\">\n",
       "      <th></th>\n",
       "      <th>Q</th>\n",
       "      <th>S</th>\n",
       "      <th>male</th>\n",
       "      <th>Pclass</th>\n",
       "      <th>Age</th>\n",
       "      <th>SibSp</th>\n",
       "      <th>Parch</th>\n",
       "      <th>Fare</th>\n",
       "    </tr>\n",
       "  </thead>\n",
       "  <tbody>\n",
       "    <tr>\n",
       "      <th>0</th>\n",
       "      <td>0</td>\n",
       "      <td>1</td>\n",
       "      <td>1</td>\n",
       "      <td>3.0</td>\n",
       "      <td>22.0</td>\n",
       "      <td>1.0</td>\n",
       "      <td>0.0</td>\n",
       "      <td>7.2500</td>\n",
       "    </tr>\n",
       "    <tr>\n",
       "      <th>1</th>\n",
       "      <td>0</td>\n",
       "      <td>0</td>\n",
       "      <td>0</td>\n",
       "      <td>1.0</td>\n",
       "      <td>38.0</td>\n",
       "      <td>1.0</td>\n",
       "      <td>0.0</td>\n",
       "      <td>71.2833</td>\n",
       "    </tr>\n",
       "    <tr>\n",
       "      <th>2</th>\n",
       "      <td>0</td>\n",
       "      <td>1</td>\n",
       "      <td>0</td>\n",
       "      <td>3.0</td>\n",
       "      <td>26.0</td>\n",
       "      <td>0.0</td>\n",
       "      <td>0.0</td>\n",
       "      <td>7.9250</td>\n",
       "    </tr>\n",
       "    <tr>\n",
       "      <th>3</th>\n",
       "      <td>0</td>\n",
       "      <td>1</td>\n",
       "      <td>0</td>\n",
       "      <td>1.0</td>\n",
       "      <td>35.0</td>\n",
       "      <td>1.0</td>\n",
       "      <td>0.0</td>\n",
       "      <td>53.1000</td>\n",
       "    </tr>\n",
       "    <tr>\n",
       "      <th>4</th>\n",
       "      <td>0</td>\n",
       "      <td>1</td>\n",
       "      <td>1</td>\n",
       "      <td>3.0</td>\n",
       "      <td>35.0</td>\n",
       "      <td>0.0</td>\n",
       "      <td>0.0</td>\n",
       "      <td>8.0500</td>\n",
       "    </tr>\n",
       "  </tbody>\n",
       "</table>\n",
       "</div>"
      ],
      "text/plain": [
       "   Q  S  male  Pclass   Age  SibSp  Parch     Fare\n",
       "0  0  1     1     3.0  22.0    1.0    0.0   7.2500\n",
       "1  0  0     0     1.0  38.0    1.0    0.0  71.2833\n",
       "2  0  1     0     3.0  26.0    0.0    0.0   7.9250\n",
       "3  0  1     0     1.0  35.0    1.0    0.0  53.1000\n",
       "4  0  1     1     3.0  35.0    0.0    0.0   8.0500"
      ]
     },
     "execution_count": 37,
     "metadata": {},
     "output_type": "execute_result"
    }
   ],
   "source": [
    "X.head()"
   ]
  },
  {
   "cell_type": "markdown",
   "id": "f4a891d3",
   "metadata": {
    "papermill": {
     "duration": 0.024106,
     "end_time": "2022-06-12T10:24:07.803752",
     "exception": false,
     "start_time": "2022-06-12T10:24:07.779646",
     "status": "completed"
    },
    "tags": []
   },
   "source": [
    "# Preparing Test data for submission"
   ]
  },
  {
   "cell_type": "code",
   "execution_count": 38,
   "id": "91e3579e",
   "metadata": {
    "execution": {
     "iopub.execute_input": "2022-06-12T10:24:07.854258Z",
     "iopub.status.busy": "2022-06-12T10:24:07.853870Z",
     "iopub.status.idle": "2022-06-12T10:24:07.874873Z",
     "shell.execute_reply": "2022-06-12T10:24:07.874035Z"
    },
    "papermill": {
     "duration": 0.048394,
     "end_time": "2022-06-12T10:24:07.876627",
     "exception": false,
     "start_time": "2022-06-12T10:24:07.828233",
     "status": "completed"
    },
    "tags": []
   },
   "outputs": [
    {
     "data": {
      "text/html": [
       "<div>\n",
       "<style scoped>\n",
       "    .dataframe tbody tr th:only-of-type {\n",
       "        vertical-align: middle;\n",
       "    }\n",
       "\n",
       "    .dataframe tbody tr th {\n",
       "        vertical-align: top;\n",
       "    }\n",
       "\n",
       "    .dataframe thead th {\n",
       "        text-align: right;\n",
       "    }\n",
       "</style>\n",
       "<table border=\"1\" class=\"dataframe\">\n",
       "  <thead>\n",
       "    <tr style=\"text-align: right;\">\n",
       "      <th></th>\n",
       "      <th>PassengerId</th>\n",
       "      <th>Pclass</th>\n",
       "      <th>Name</th>\n",
       "      <th>Sex</th>\n",
       "      <th>Age</th>\n",
       "      <th>SibSp</th>\n",
       "      <th>Parch</th>\n",
       "      <th>Ticket</th>\n",
       "      <th>Fare</th>\n",
       "      <th>Cabin</th>\n",
       "      <th>Embarked</th>\n",
       "    </tr>\n",
       "  </thead>\n",
       "  <tbody>\n",
       "    <tr>\n",
       "      <th>0</th>\n",
       "      <td>892</td>\n",
       "      <td>3</td>\n",
       "      <td>Kelly, Mr. James</td>\n",
       "      <td>male</td>\n",
       "      <td>34.5</td>\n",
       "      <td>0</td>\n",
       "      <td>0</td>\n",
       "      <td>330911</td>\n",
       "      <td>7.8292</td>\n",
       "      <td>NaN</td>\n",
       "      <td>Q</td>\n",
       "    </tr>\n",
       "    <tr>\n",
       "      <th>1</th>\n",
       "      <td>893</td>\n",
       "      <td>3</td>\n",
       "      <td>Wilkes, Mrs. James (Ellen Needs)</td>\n",
       "      <td>female</td>\n",
       "      <td>47.0</td>\n",
       "      <td>1</td>\n",
       "      <td>0</td>\n",
       "      <td>363272</td>\n",
       "      <td>7.0000</td>\n",
       "      <td>NaN</td>\n",
       "      <td>S</td>\n",
       "    </tr>\n",
       "    <tr>\n",
       "      <th>2</th>\n",
       "      <td>894</td>\n",
       "      <td>2</td>\n",
       "      <td>Myles, Mr. Thomas Francis</td>\n",
       "      <td>male</td>\n",
       "      <td>62.0</td>\n",
       "      <td>0</td>\n",
       "      <td>0</td>\n",
       "      <td>240276</td>\n",
       "      <td>9.6875</td>\n",
       "      <td>NaN</td>\n",
       "      <td>Q</td>\n",
       "    </tr>\n",
       "    <tr>\n",
       "      <th>3</th>\n",
       "      <td>895</td>\n",
       "      <td>3</td>\n",
       "      <td>Wirz, Mr. Albert</td>\n",
       "      <td>male</td>\n",
       "      <td>27.0</td>\n",
       "      <td>0</td>\n",
       "      <td>0</td>\n",
       "      <td>315154</td>\n",
       "      <td>8.6625</td>\n",
       "      <td>NaN</td>\n",
       "      <td>S</td>\n",
       "    </tr>\n",
       "    <tr>\n",
       "      <th>4</th>\n",
       "      <td>896</td>\n",
       "      <td>3</td>\n",
       "      <td>Hirvonen, Mrs. Alexander (Helga E Lindqvist)</td>\n",
       "      <td>female</td>\n",
       "      <td>22.0</td>\n",
       "      <td>1</td>\n",
       "      <td>1</td>\n",
       "      <td>3101298</td>\n",
       "      <td>12.2875</td>\n",
       "      <td>NaN</td>\n",
       "      <td>S</td>\n",
       "    </tr>\n",
       "    <tr>\n",
       "      <th>...</th>\n",
       "      <td>...</td>\n",
       "      <td>...</td>\n",
       "      <td>...</td>\n",
       "      <td>...</td>\n",
       "      <td>...</td>\n",
       "      <td>...</td>\n",
       "      <td>...</td>\n",
       "      <td>...</td>\n",
       "      <td>...</td>\n",
       "      <td>...</td>\n",
       "      <td>...</td>\n",
       "    </tr>\n",
       "    <tr>\n",
       "      <th>413</th>\n",
       "      <td>1305</td>\n",
       "      <td>3</td>\n",
       "      <td>Spector, Mr. Woolf</td>\n",
       "      <td>male</td>\n",
       "      <td>NaN</td>\n",
       "      <td>0</td>\n",
       "      <td>0</td>\n",
       "      <td>A.5. 3236</td>\n",
       "      <td>8.0500</td>\n",
       "      <td>NaN</td>\n",
       "      <td>S</td>\n",
       "    </tr>\n",
       "    <tr>\n",
       "      <th>414</th>\n",
       "      <td>1306</td>\n",
       "      <td>1</td>\n",
       "      <td>Oliva y Ocana, Dona. Fermina</td>\n",
       "      <td>female</td>\n",
       "      <td>39.0</td>\n",
       "      <td>0</td>\n",
       "      <td>0</td>\n",
       "      <td>PC 17758</td>\n",
       "      <td>108.9000</td>\n",
       "      <td>C105</td>\n",
       "      <td>C</td>\n",
       "    </tr>\n",
       "    <tr>\n",
       "      <th>415</th>\n",
       "      <td>1307</td>\n",
       "      <td>3</td>\n",
       "      <td>Saether, Mr. Simon Sivertsen</td>\n",
       "      <td>male</td>\n",
       "      <td>38.5</td>\n",
       "      <td>0</td>\n",
       "      <td>0</td>\n",
       "      <td>SOTON/O.Q. 3101262</td>\n",
       "      <td>7.2500</td>\n",
       "      <td>NaN</td>\n",
       "      <td>S</td>\n",
       "    </tr>\n",
       "    <tr>\n",
       "      <th>416</th>\n",
       "      <td>1308</td>\n",
       "      <td>3</td>\n",
       "      <td>Ware, Mr. Frederick</td>\n",
       "      <td>male</td>\n",
       "      <td>NaN</td>\n",
       "      <td>0</td>\n",
       "      <td>0</td>\n",
       "      <td>359309</td>\n",
       "      <td>8.0500</td>\n",
       "      <td>NaN</td>\n",
       "      <td>S</td>\n",
       "    </tr>\n",
       "    <tr>\n",
       "      <th>417</th>\n",
       "      <td>1309</td>\n",
       "      <td>3</td>\n",
       "      <td>Peter, Master. Michael J</td>\n",
       "      <td>male</td>\n",
       "      <td>NaN</td>\n",
       "      <td>1</td>\n",
       "      <td>1</td>\n",
       "      <td>2668</td>\n",
       "      <td>22.3583</td>\n",
       "      <td>NaN</td>\n",
       "      <td>C</td>\n",
       "    </tr>\n",
       "  </tbody>\n",
       "</table>\n",
       "<p>418 rows × 11 columns</p>\n",
       "</div>"
      ],
      "text/plain": [
       "     PassengerId  Pclass                                          Name  \\\n",
       "0            892       3                              Kelly, Mr. James   \n",
       "1            893       3              Wilkes, Mrs. James (Ellen Needs)   \n",
       "2            894       2                     Myles, Mr. Thomas Francis   \n",
       "3            895       3                              Wirz, Mr. Albert   \n",
       "4            896       3  Hirvonen, Mrs. Alexander (Helga E Lindqvist)   \n",
       "..           ...     ...                                           ...   \n",
       "413         1305       3                            Spector, Mr. Woolf   \n",
       "414         1306       1                  Oliva y Ocana, Dona. Fermina   \n",
       "415         1307       3                  Saether, Mr. Simon Sivertsen   \n",
       "416         1308       3                           Ware, Mr. Frederick   \n",
       "417         1309       3                      Peter, Master. Michael J   \n",
       "\n",
       "        Sex   Age  SibSp  Parch              Ticket      Fare Cabin Embarked  \n",
       "0      male  34.5      0      0              330911    7.8292   NaN        Q  \n",
       "1    female  47.0      1      0              363272    7.0000   NaN        S  \n",
       "2      male  62.0      0      0              240276    9.6875   NaN        Q  \n",
       "3      male  27.0      0      0              315154    8.6625   NaN        S  \n",
       "4    female  22.0      1      1             3101298   12.2875   NaN        S  \n",
       "..      ...   ...    ...    ...                 ...       ...   ...      ...  \n",
       "413    male   NaN      0      0           A.5. 3236    8.0500   NaN        S  \n",
       "414  female  39.0      0      0            PC 17758  108.9000  C105        C  \n",
       "415    male  38.5      0      0  SOTON/O.Q. 3101262    7.2500   NaN        S  \n",
       "416    male   NaN      0      0              359309    8.0500   NaN        S  \n",
       "417    male   NaN      1      1                2668   22.3583   NaN        C  \n",
       "\n",
       "[418 rows x 11 columns]"
      ]
     },
     "execution_count": 38,
     "metadata": {},
     "output_type": "execute_result"
    }
   ],
   "source": [
    "test_df"
   ]
  },
  {
   "cell_type": "code",
   "execution_count": 39,
   "id": "68e57654",
   "metadata": {
    "execution": {
     "iopub.execute_input": "2022-06-12T10:24:07.926548Z",
     "iopub.status.busy": "2022-06-12T10:24:07.925693Z",
     "iopub.status.idle": "2022-06-12T10:24:07.939555Z",
     "shell.execute_reply": "2022-06-12T10:24:07.938661Z"
    },
    "papermill": {
     "duration": 0.0411,
     "end_time": "2022-06-12T10:24:07.941426",
     "exception": false,
     "start_time": "2022-06-12T10:24:07.900326",
     "status": "completed"
    },
    "tags": []
   },
   "outputs": [
    {
     "data": {
      "text/html": [
       "<div>\n",
       "<style scoped>\n",
       "    .dataframe tbody tr th:only-of-type {\n",
       "        vertical-align: middle;\n",
       "    }\n",
       "\n",
       "    .dataframe tbody tr th {\n",
       "        vertical-align: top;\n",
       "    }\n",
       "\n",
       "    .dataframe thead th {\n",
       "        text-align: right;\n",
       "    }\n",
       "</style>\n",
       "<table border=\"1\" class=\"dataframe\">\n",
       "  <thead>\n",
       "    <tr style=\"text-align: right;\">\n",
       "      <th></th>\n",
       "      <th>Pclass</th>\n",
       "      <th>Sex</th>\n",
       "      <th>Age</th>\n",
       "      <th>SibSp</th>\n",
       "      <th>Parch</th>\n",
       "      <th>Fare</th>\n",
       "      <th>Embarked</th>\n",
       "    </tr>\n",
       "  </thead>\n",
       "  <tbody>\n",
       "    <tr>\n",
       "      <th>0</th>\n",
       "      <td>3</td>\n",
       "      <td>male</td>\n",
       "      <td>34.5</td>\n",
       "      <td>0</td>\n",
       "      <td>0</td>\n",
       "      <td>7.8292</td>\n",
       "      <td>Q</td>\n",
       "    </tr>\n",
       "    <tr>\n",
       "      <th>1</th>\n",
       "      <td>3</td>\n",
       "      <td>female</td>\n",
       "      <td>47.0</td>\n",
       "      <td>1</td>\n",
       "      <td>0</td>\n",
       "      <td>7.0000</td>\n",
       "      <td>S</td>\n",
       "    </tr>\n",
       "    <tr>\n",
       "      <th>2</th>\n",
       "      <td>2</td>\n",
       "      <td>male</td>\n",
       "      <td>62.0</td>\n",
       "      <td>0</td>\n",
       "      <td>0</td>\n",
       "      <td>9.6875</td>\n",
       "      <td>Q</td>\n",
       "    </tr>\n",
       "    <tr>\n",
       "      <th>3</th>\n",
       "      <td>3</td>\n",
       "      <td>male</td>\n",
       "      <td>27.0</td>\n",
       "      <td>0</td>\n",
       "      <td>0</td>\n",
       "      <td>8.6625</td>\n",
       "      <td>S</td>\n",
       "    </tr>\n",
       "    <tr>\n",
       "      <th>4</th>\n",
       "      <td>3</td>\n",
       "      <td>female</td>\n",
       "      <td>22.0</td>\n",
       "      <td>1</td>\n",
       "      <td>1</td>\n",
       "      <td>12.2875</td>\n",
       "      <td>S</td>\n",
       "    </tr>\n",
       "  </tbody>\n",
       "</table>\n",
       "</div>"
      ],
      "text/plain": [
       "   Pclass     Sex   Age  SibSp  Parch     Fare Embarked\n",
       "0       3    male  34.5      0      0   7.8292        Q\n",
       "1       3  female  47.0      1      0   7.0000        S\n",
       "2       2    male  62.0      0      0   9.6875        Q\n",
       "3       3    male  27.0      0      0   8.6625        S\n",
       "4       3  female  22.0      1      1  12.2875        S"
      ]
     },
     "execution_count": 39,
     "metadata": {},
     "output_type": "execute_result"
    }
   ],
   "source": [
    "test_df.drop(['PassengerId', 'Name', 'Ticket', 'Cabin'], axis=1, inplace=True)\n",
    "test_df.head()"
   ]
  },
  {
   "cell_type": "code",
   "execution_count": 40,
   "id": "a5d8d4cc",
   "metadata": {
    "execution": {
     "iopub.execute_input": "2022-06-12T10:24:07.992741Z",
     "iopub.status.busy": "2022-06-12T10:24:07.992050Z",
     "iopub.status.idle": "2022-06-12T10:24:08.001961Z",
     "shell.execute_reply": "2022-06-12T10:24:08.001350Z"
    },
    "papermill": {
     "duration": 0.037408,
     "end_time": "2022-06-12T10:24:08.003890",
     "exception": false,
     "start_time": "2022-06-12T10:24:07.966482",
     "status": "completed"
    },
    "tags": []
   },
   "outputs": [],
   "source": [
    "test_df = pd.concat([pd.get_dummies(test_df['Sex'], drop_first=True) , test_df.drop('Sex', axis=1)], axis=1)\n",
    "test_df = pd.concat([pd.get_dummies(test_df['Embarked'], drop_first=True) , test_df.drop('Embarked', axis=1)], axis=1)"
   ]
  },
  {
   "cell_type": "code",
   "execution_count": 41,
   "id": "40699fdc",
   "metadata": {
    "execution": {
     "iopub.execute_input": "2022-06-12T10:24:08.053060Z",
     "iopub.status.busy": "2022-06-12T10:24:08.052370Z",
     "iopub.status.idle": "2022-06-12T10:24:08.064130Z",
     "shell.execute_reply": "2022-06-12T10:24:08.063347Z"
    },
    "papermill": {
     "duration": 0.038474,
     "end_time": "2022-06-12T10:24:08.065935",
     "exception": false,
     "start_time": "2022-06-12T10:24:08.027461",
     "status": "completed"
    },
    "tags": []
   },
   "outputs": [
    {
     "data": {
      "text/html": [
       "<div>\n",
       "<style scoped>\n",
       "    .dataframe tbody tr th:only-of-type {\n",
       "        vertical-align: middle;\n",
       "    }\n",
       "\n",
       "    .dataframe tbody tr th {\n",
       "        vertical-align: top;\n",
       "    }\n",
       "\n",
       "    .dataframe thead th {\n",
       "        text-align: right;\n",
       "    }\n",
       "</style>\n",
       "<table border=\"1\" class=\"dataframe\">\n",
       "  <thead>\n",
       "    <tr style=\"text-align: right;\">\n",
       "      <th></th>\n",
       "      <th>Q</th>\n",
       "      <th>S</th>\n",
       "      <th>male</th>\n",
       "      <th>Pclass</th>\n",
       "      <th>Age</th>\n",
       "      <th>SibSp</th>\n",
       "      <th>Parch</th>\n",
       "      <th>Fare</th>\n",
       "    </tr>\n",
       "  </thead>\n",
       "  <tbody>\n",
       "    <tr>\n",
       "      <th>0</th>\n",
       "      <td>1</td>\n",
       "      <td>0</td>\n",
       "      <td>1</td>\n",
       "      <td>3</td>\n",
       "      <td>34.5</td>\n",
       "      <td>0</td>\n",
       "      <td>0</td>\n",
       "      <td>7.8292</td>\n",
       "    </tr>\n",
       "    <tr>\n",
       "      <th>1</th>\n",
       "      <td>0</td>\n",
       "      <td>1</td>\n",
       "      <td>0</td>\n",
       "      <td>3</td>\n",
       "      <td>47.0</td>\n",
       "      <td>1</td>\n",
       "      <td>0</td>\n",
       "      <td>7.0000</td>\n",
       "    </tr>\n",
       "    <tr>\n",
       "      <th>2</th>\n",
       "      <td>1</td>\n",
       "      <td>0</td>\n",
       "      <td>1</td>\n",
       "      <td>2</td>\n",
       "      <td>62.0</td>\n",
       "      <td>0</td>\n",
       "      <td>0</td>\n",
       "      <td>9.6875</td>\n",
       "    </tr>\n",
       "    <tr>\n",
       "      <th>3</th>\n",
       "      <td>0</td>\n",
       "      <td>1</td>\n",
       "      <td>1</td>\n",
       "      <td>3</td>\n",
       "      <td>27.0</td>\n",
       "      <td>0</td>\n",
       "      <td>0</td>\n",
       "      <td>8.6625</td>\n",
       "    </tr>\n",
       "    <tr>\n",
       "      <th>4</th>\n",
       "      <td>0</td>\n",
       "      <td>1</td>\n",
       "      <td>0</td>\n",
       "      <td>3</td>\n",
       "      <td>22.0</td>\n",
       "      <td>1</td>\n",
       "      <td>1</td>\n",
       "      <td>12.2875</td>\n",
       "    </tr>\n",
       "  </tbody>\n",
       "</table>\n",
       "</div>"
      ],
      "text/plain": [
       "   Q  S  male  Pclass   Age  SibSp  Parch     Fare\n",
       "0  1  0     1       3  34.5      0      0   7.8292\n",
       "1  0  1     0       3  47.0      1      0   7.0000\n",
       "2  1  0     1       2  62.0      0      0   9.6875\n",
       "3  0  1     1       3  27.0      0      0   8.6625\n",
       "4  0  1     0       3  22.0      1      1  12.2875"
      ]
     },
     "execution_count": 41,
     "metadata": {},
     "output_type": "execute_result"
    }
   ],
   "source": [
    "test_df.head()"
   ]
  },
  {
   "cell_type": "markdown",
   "id": "efa49ac2",
   "metadata": {
    "papermill": {
     "duration": 0.023793,
     "end_time": "2022-06-12T10:24:08.113664",
     "exception": false,
     "start_time": "2022-06-12T10:24:08.089871",
     "status": "completed"
    },
    "tags": []
   },
   "source": [
    "# Create and Train ML model"
   ]
  },
  {
   "cell_type": "code",
   "execution_count": 42,
   "id": "a397363f",
   "metadata": {
    "execution": {
     "iopub.execute_input": "2022-06-12T10:24:08.163226Z",
     "iopub.status.busy": "2022-06-12T10:24:08.162523Z",
     "iopub.status.idle": "2022-06-12T10:24:08.167492Z",
     "shell.execute_reply": "2022-06-12T10:24:08.166922Z"
    },
    "papermill": {
     "duration": 0.031731,
     "end_time": "2022-06-12T10:24:08.169308",
     "exception": false,
     "start_time": "2022-06-12T10:24:08.137577",
     "status": "completed"
    },
    "tags": []
   },
   "outputs": [],
   "source": [
    "xgb = XGBClassifier()\n",
    "rf = RandomForestClassifier(n_estimators=30, max_depth=30, oob_score=True)\n",
    "knn = KNeighborsClassifier(n_neighbors=10)"
   ]
  },
  {
   "cell_type": "code",
   "execution_count": 43,
   "id": "fdaf7efe",
   "metadata": {
    "execution": {
     "iopub.execute_input": "2022-06-12T10:24:08.218732Z",
     "iopub.status.busy": "2022-06-12T10:24:08.218056Z",
     "iopub.status.idle": "2022-06-12T10:24:08.223576Z",
     "shell.execute_reply": "2022-06-12T10:24:08.222880Z"
    },
    "papermill": {
     "duration": 0.032558,
     "end_time": "2022-06-12T10:24:08.225471",
     "exception": false,
     "start_time": "2022-06-12T10:24:08.192913",
     "status": "completed"
    },
    "tags": []
   },
   "outputs": [],
   "source": [
    "def train_model(model, X_train, y_train, X_test, y_test):\n",
    "    model.fit(X_train, y_train)\n",
    "    score = model.score(X_test, y_test)\n",
    "    print(f\"The model's score is: {score*100:.2f}%\")\n",
    "    print(classification_report(y_test, model.predict(X_test)))\n",
    "    print(confusion_matrix(y_test, model.predict(X_test)))"
   ]
  },
  {
   "cell_type": "code",
   "execution_count": 44,
   "id": "1834ece4",
   "metadata": {
    "execution": {
     "iopub.execute_input": "2022-06-12T10:24:08.275900Z",
     "iopub.status.busy": "2022-06-12T10:24:08.275022Z",
     "iopub.status.idle": "2022-06-12T10:24:08.601532Z",
     "shell.execute_reply": "2022-06-12T10:24:08.600748Z"
    },
    "papermill": {
     "duration": 0.353794,
     "end_time": "2022-06-12T10:24:08.603578",
     "exception": false,
     "start_time": "2022-06-12T10:24:08.249784",
     "status": "completed"
    },
    "tags": []
   },
   "outputs": [
    {
     "name": "stdout",
     "output_type": "stream",
     "text": [
      "The model's score is: 86.67%\n",
      "              precision    recall  f1-score   support\n",
      "\n",
      "         0.0       0.87      0.93      0.90        29\n",
      "         1.0       0.86      0.75      0.80        16\n",
      "\n",
      "    accuracy                           0.87        45\n",
      "   macro avg       0.86      0.84      0.85        45\n",
      "weighted avg       0.87      0.87      0.86        45\n",
      "\n",
      "[[27  2]\n",
      " [ 4 12]]\n"
     ]
    }
   ],
   "source": [
    "train_model(xgb, X_train, y_train, X_test, y_test)"
   ]
  },
  {
   "cell_type": "code",
   "execution_count": 45,
   "id": "aff665bf",
   "metadata": {
    "execution": {
     "iopub.execute_input": "2022-06-12T10:24:08.654125Z",
     "iopub.status.busy": "2022-06-12T10:24:08.653434Z",
     "iopub.status.idle": "2022-06-12T10:24:08.742273Z",
     "shell.execute_reply": "2022-06-12T10:24:08.740982Z"
    },
    "papermill": {
     "duration": 0.117444,
     "end_time": "2022-06-12T10:24:08.745542",
     "exception": false,
     "start_time": "2022-06-12T10:24:08.628098",
     "status": "completed"
    },
    "tags": []
   },
   "outputs": [
    {
     "name": "stdout",
     "output_type": "stream",
     "text": [
      "The model's score is: 82.22%\n",
      "              precision    recall  f1-score   support\n",
      "\n",
      "         0.0       0.80      0.97      0.88        29\n",
      "         1.0       0.90      0.56      0.69        16\n",
      "\n",
      "    accuracy                           0.82        45\n",
      "   macro avg       0.85      0.76      0.78        45\n",
      "weighted avg       0.84      0.82      0.81        45\n",
      "\n",
      "[[28  1]\n",
      " [ 7  9]]\n"
     ]
    }
   ],
   "source": [
    "train_model(rf, X_train, y_train, X_test, y_test)"
   ]
  },
  {
   "cell_type": "code",
   "execution_count": 46,
   "id": "69da517a",
   "metadata": {
    "execution": {
     "iopub.execute_input": "2022-06-12T10:24:08.798954Z",
     "iopub.status.busy": "2022-06-12T10:24:08.797434Z",
     "iopub.status.idle": "2022-06-12T10:24:08.823075Z",
     "shell.execute_reply": "2022-06-12T10:24:08.822120Z"
    },
    "papermill": {
     "duration": 0.054275,
     "end_time": "2022-06-12T10:24:08.825235",
     "exception": false,
     "start_time": "2022-06-12T10:24:08.770960",
     "status": "completed"
    },
    "tags": []
   },
   "outputs": [
    {
     "name": "stdout",
     "output_type": "stream",
     "text": [
      "The model's score is: 66.67%\n",
      "              precision    recall  f1-score   support\n",
      "\n",
      "         0.0       0.71      0.83      0.76        29\n",
      "         1.0       0.55      0.38      0.44        16\n",
      "\n",
      "    accuracy                           0.67        45\n",
      "   macro avg       0.63      0.60      0.60        45\n",
      "weighted avg       0.65      0.67      0.65        45\n",
      "\n",
      "[[24  5]\n",
      " [10  6]]\n"
     ]
    }
   ],
   "source": [
    "train_model(knn, X_train, y_train, X_test, y_test)"
   ]
  },
  {
   "cell_type": "code",
   "execution_count": 47,
   "id": "7cff603f",
   "metadata": {
    "execution": {
     "iopub.execute_input": "2022-06-12T10:24:08.874910Z",
     "iopub.status.busy": "2022-06-12T10:24:08.874504Z",
     "iopub.status.idle": "2022-06-12T10:24:08.882901Z",
     "shell.execute_reply": "2022-06-12T10:24:08.881877Z"
    },
    "papermill": {
     "duration": 0.035708,
     "end_time": "2022-06-12T10:24:08.884976",
     "exception": false,
     "start_time": "2022-06-12T10:24:08.849268",
     "status": "completed"
    },
    "tags": []
   },
   "outputs": [
    {
     "name": "stdout",
     "output_type": "stream",
     "text": [
      "Column names: Index(['Q', 'S', 'male', 'Pclass', 'Age', 'SibSp', 'Parch', 'Fare'], dtype='object')\n"
     ]
    },
    {
     "data": {
      "text/plain": [
       "array([0.02805247, 0.0322374 , 0.5917573 , 0.18412822, 0.03635938,\n",
       "       0.05692942, 0.03608974, 0.03444603], dtype=float32)"
      ]
     },
     "execution_count": 47,
     "metadata": {},
     "output_type": "execute_result"
    }
   ],
   "source": [
    "print(f\"Column names: {X.columns}\")\n",
    "xgb.feature_importances_"
   ]
  },
  {
   "cell_type": "code",
   "execution_count": 48,
   "id": "1a9261b0",
   "metadata": {
    "execution": {
     "iopub.execute_input": "2022-06-12T10:24:08.935657Z",
     "iopub.status.busy": "2022-06-12T10:24:08.935275Z",
     "iopub.status.idle": "2022-06-12T10:24:09.118858Z",
     "shell.execute_reply": "2022-06-12T10:24:09.118172Z"
    },
    "papermill": {
     "duration": 0.210863,
     "end_time": "2022-06-12T10:24:09.120545",
     "exception": false,
     "start_time": "2022-06-12T10:24:08.909682",
     "status": "completed"
    },
    "tags": []
   },
   "outputs": [
    {
     "data": {
      "text/plain": [
       "<AxesSubplot:xlabel='Survived', ylabel='male'>"
      ]
     },
     "execution_count": 48,
     "metadata": {},
     "output_type": "execute_result"
    },
    {
     "data": {
      "image/png": "[encoded data removed]",
      "text/plain": [
       "<Figure size 432x288 with 1 Axes>"
      ]
     },
     "metadata": {
      "needs_background": "light"
     },
     "output_type": "display_data"
    }
   ],
   "source": [
    "sns.violinplot(x=df['Survived'], y=df['male'])"
   ]
  },
  {
   "cell_type": "markdown",
   "id": "8f2631a2",
   "metadata": {
    "papermill": {
     "duration": 0.0254,
     "end_time": "2022-06-12T10:24:09.170952",
     "exception": false,
     "start_time": "2022-06-12T10:24:09.145552",
     "status": "completed"
    },
    "tags": []
   },
   "source": [
    "# Clearly, Random Forest Classifier performed the best. So we will use this for our predictions"
   ]
  },
  {
   "cell_type": "code",
   "execution_count": 49,
   "id": "aca44dec",
   "metadata": {
    "execution": {
     "iopub.execute_input": "2022-06-12T10:24:09.224531Z",
     "iopub.status.busy": "2022-06-12T10:24:09.223961Z",
     "iopub.status.idle": "2022-06-12T10:24:09.234810Z",
     "shell.execute_reply": "2022-06-12T10:24:09.233982Z"
    },
    "papermill": {
     "duration": 0.039961,
     "end_time": "2022-06-12T10:24:09.236886",
     "exception": false,
     "start_time": "2022-06-12T10:24:09.196925",
     "status": "completed"
    },
    "tags": []
   },
   "outputs": [
    {
     "data": {
      "text/html": [
       "<div>\n",
       "<style scoped>\n",
       "    .dataframe tbody tr th:only-of-type {\n",
       "        vertical-align: middle;\n",
       "    }\n",
       "\n",
       "    .dataframe tbody tr th {\n",
       "        vertical-align: top;\n",
       "    }\n",
       "\n",
       "    .dataframe thead th {\n",
       "        text-align: right;\n",
       "    }\n",
       "</style>\n",
       "<table border=\"1\" class=\"dataframe\">\n",
       "  <thead>\n",
       "    <tr style=\"text-align: right;\">\n",
       "      <th></th>\n",
       "      <th>Q</th>\n",
       "      <th>S</th>\n",
       "      <th>male</th>\n",
       "      <th>Pclass</th>\n",
       "      <th>Age</th>\n",
       "      <th>SibSp</th>\n",
       "      <th>Parch</th>\n",
       "      <th>Fare</th>\n",
       "    </tr>\n",
       "  </thead>\n",
       "  <tbody>\n",
       "    <tr>\n",
       "      <th>0</th>\n",
       "      <td>1</td>\n",
       "      <td>0</td>\n",
       "      <td>1</td>\n",
       "      <td>3</td>\n",
       "      <td>34.5</td>\n",
       "      <td>0</td>\n",
       "      <td>0</td>\n",
       "      <td>7.8292</td>\n",
       "    </tr>\n",
       "    <tr>\n",
       "      <th>1</th>\n",
       "      <td>0</td>\n",
       "      <td>1</td>\n",
       "      <td>0</td>\n",
       "      <td>3</td>\n",
       "      <td>47.0</td>\n",
       "      <td>1</td>\n",
       "      <td>0</td>\n",
       "      <td>7.0000</td>\n",
       "    </tr>\n",
       "    <tr>\n",
       "      <th>2</th>\n",
       "      <td>1</td>\n",
       "      <td>0</td>\n",
       "      <td>1</td>\n",
       "      <td>2</td>\n",
       "      <td>62.0</td>\n",
       "      <td>0</td>\n",
       "      <td>0</td>\n",
       "      <td>9.6875</td>\n",
       "    </tr>\n",
       "    <tr>\n",
       "      <th>3</th>\n",
       "      <td>0</td>\n",
       "      <td>1</td>\n",
       "      <td>1</td>\n",
       "      <td>3</td>\n",
       "      <td>27.0</td>\n",
       "      <td>0</td>\n",
       "      <td>0</td>\n",
       "      <td>8.6625</td>\n",
       "    </tr>\n",
       "    <tr>\n",
       "      <th>4</th>\n",
       "      <td>0</td>\n",
       "      <td>1</td>\n",
       "      <td>0</td>\n",
       "      <td>3</td>\n",
       "      <td>22.0</td>\n",
       "      <td>1</td>\n",
       "      <td>1</td>\n",
       "      <td>12.2875</td>\n",
       "    </tr>\n",
       "  </tbody>\n",
       "</table>\n",
       "</div>"
      ],
      "text/plain": [
       "   Q  S  male  Pclass   Age  SibSp  Parch     Fare\n",
       "0  1  0     1       3  34.5      0      0   7.8292\n",
       "1  0  1     0       3  47.0      1      0   7.0000\n",
       "2  1  0     1       2  62.0      0      0   9.6875\n",
       "3  0  1     1       3  27.0      0      0   8.6625\n",
       "4  0  1     0       3  22.0      1      1  12.2875"
      ]
     },
     "execution_count": 49,
     "metadata": {},
     "output_type": "execute_result"
    }
   ],
   "source": [
    "test_df.head()"
   ]
  },
  {
   "cell_type": "code",
   "execution_count": 50,
   "id": "2b8d57f7",
   "metadata": {
    "execution": {
     "iopub.execute_input": "2022-06-12T10:24:09.288680Z",
     "iopub.status.busy": "2022-06-12T10:24:09.287837Z",
     "iopub.status.idle": "2022-06-12T10:24:09.308580Z",
     "shell.execute_reply": "2022-06-12T10:24:09.307805Z"
    },
    "papermill": {
     "duration": 0.04864,
     "end_time": "2022-06-12T10:24:09.310594",
     "exception": false,
     "start_time": "2022-06-12T10:24:09.261954",
     "status": "completed"
    },
    "tags": []
   },
   "outputs": [],
   "source": [
    "predictions = xgb.predict(test_df)"
   ]
  },
  {
   "cell_type": "code",
   "execution_count": 51,
   "id": "b1e6a196",
   "metadata": {
    "execution": {
     "iopub.execute_input": "2022-06-12T10:24:09.362165Z",
     "iopub.status.busy": "2022-06-12T10:24:09.361462Z",
     "iopub.status.idle": "2022-06-12T10:24:09.369390Z",
     "shell.execute_reply": "2022-06-12T10:24:09.368648Z"
    },
    "papermill": {
     "duration": 0.035955,
     "end_time": "2022-06-12T10:24:09.371263",
     "exception": false,
     "start_time": "2022-06-12T10:24:09.335308",
     "status": "completed"
    },
    "tags": []
   },
   "outputs": [],
   "source": [
    "test_df = pd.read_csv('/kaggle/input/titanic/test.csv')"
   ]
  },
  {
   "cell_type": "code",
   "execution_count": 52,
   "id": "28f3805a",
   "metadata": {
    "execution": {
     "iopub.execute_input": "2022-06-12T10:24:09.422253Z",
     "iopub.status.busy": "2022-06-12T10:24:09.421908Z",
     "iopub.status.idle": "2022-06-12T10:24:09.430558Z",
     "shell.execute_reply": "2022-06-12T10:24:09.429581Z"
    },
    "papermill": {
     "duration": 0.036193,
     "end_time": "2022-06-12T10:24:09.432271",
     "exception": false,
     "start_time": "2022-06-12T10:24:09.396078",
     "status": "completed"
    },
    "tags": []
   },
   "outputs": [
    {
     "name": "stdout",
     "output_type": "stream",
     "text": [
      "Your submission was successfully saved!\n"
     ]
    }
   ],
   "source": [
    "output = pd.DataFrame({'PassengerId': test_df.PassengerId, 'Survived': predictions})\n",
    "output.to_csv('submission.csv', index=False)\n",
    "print(\"Your submission was successfully saved!\")"
   ]
  },
  {
   "cell_type": "code",
   "execution_count": null,
   "id": "4bd5367c",
   "metadata": {
    "papermill": {
     "duration": 0.024752,
     "end_time": "2022-06-12T10:24:09.481818",
     "exception": false,
     "start_time": "2022-06-12T10:24:09.457066",
     "status": "completed"
    },
    "tags": []
   },
   "outputs": [],
   "source": []
  }
 ],
 "metadata": {
  "kernelspec": {
   "display_name": "Python 3",
   "language": "python",
   "name": "python3"
  },
  "language_info": {
   "codemirror_mode": {
    "name": "ipython",
    "version": 3
   },
   "file_extension": ".py",
   "mimetype": "text/x-python",
   "name": "python",
   "nbconvert_exporter": "python",
   "pygments_lexer": "ipython3",
   "version": "3.7.12"
  },
  "papermill": {
   "default_parameters": {},
   "duration": 37.891587,
   "end_time": "2022-06-12T10:24:10.528871",
   "environment_variables": {},
   "exception": null,
   "input_path": "__notebook__.ipynb",
   "output_path": "__notebook__.ipynb",
   "parameters": {},
   "start_time": "2022-06-12T10:23:32.637284",
   "version": "2.3.4"
  }
 },
 "nbformat": 4,
 "nbformat_minor": 5
}
