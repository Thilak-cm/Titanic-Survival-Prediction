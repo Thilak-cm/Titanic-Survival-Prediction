{
 "cells": [
  {
   "cell_type": "code",
   "execution_count": 1,
   "id": "175e79d8",
   "metadata": {
    "_cell_guid": "b1076dfc-b9ad-4769-8c92-a6c4dae69d19",
    "_uuid": "8f2839f25d086af736a60e9eeb907d3b93b6e0e5",
    "execution": {
     "iopub.execute_input": "2022-06-15T10:16:05.730230Z",
     "iopub.status.busy": "2022-06-15T10:16:05.729546Z",
     "iopub.status.idle": "2022-06-15T10:16:05.743241Z",
     "shell.execute_reply": "2022-06-15T10:16:05.742295Z"
    },
    "papermill": {
     "duration": 0.038403,
     "end_time": "2022-06-15T10:16:05.746062",
     "exception": false,
     "start_time": "2022-06-15T10:16:05.707659",
     "status": "completed"
    },
    "tags": []
   },
   "outputs": [
    {
     "name": "stdout",
     "output_type": "stream",
     "text": [
      "/kaggle/input/titanic/train.csv\n",
      "/kaggle/input/titanic/test.csv\n",
      "/kaggle/input/titanic/gender_submission.csv\n"
     ]
    }
   ],
   "source": [
    "# This Python 3 environment comes with many helpful analytics libraries installed\n",
    "# It is defined by the kaggle/python Docker image: https://github.com/kaggle/docker-python\n",
    "# For example, here's several helpful packages to load\n",
    "\n",
    "import numpy as np # linear algebra\n",
    "import pandas as pd # data processing, CSV file I/O (e.g. pd.read_csv)\n",
    "\n",
    "# Input data files are available in the read-only \"../input/\" directory\n",
    "# For example, running this (by clicking run or pressing Shift+Enter) will list all files under the input directory\n",
    "\n",
    "import os\n",
    "for dirname, _, filenames in os.walk('/kaggle/input'):\n",
    "    for filename in filenames:\n",
    "        print(os.path.join(dirname, filename))\n",
    "\n",
    "# You can write up to 20GB to the current directory (/kaggle/working/) that gets preserved as output when you create a version using \"Save & Run All\" \n",
    "# You can also write temporary files to /kaggle/temp/, but they won't be saved outside of the current session"
   ]
  },
  {
   "cell_type": "code",
   "execution_count": 2,
   "id": "7faac26a",
   "metadata": {
    "execution": {
     "iopub.execute_input": "2022-06-15T10:16:05.786932Z",
     "iopub.status.busy": "2022-06-15T10:16:05.786219Z",
     "iopub.status.idle": "2022-06-15T10:16:13.461991Z",
     "shell.execute_reply": "2022-06-15T10:16:13.461124Z"
    },
    "papermill": {
     "duration": 7.698576,
     "end_time": "2022-06-15T10:16:13.464221",
     "exception": false,
     "start_time": "2022-06-15T10:16:05.765645",
     "status": "completed"
    },
    "tags": []
   },
   "outputs": [],
   "source": [
    "import pandas as pd\n",
    "import numpy as np\n",
    "import seaborn as sns\n",
    "import matplotlib.pyplot as plt\n",
    "# import dabl\n",
    "from sklearn.model_selection import train_test_split, StratifiedKFold, GridSearchCV\n",
    "from sklearn.impute import KNNImputer\n",
    "from sklearn.ensemble import RandomForestClassifier\n",
    "from xgboost import XGBClassifier\n",
    "from sklearn.neighbors import KNeighborsClassifier\n",
    "from keras.models import Sequential\n",
    "from keras.layers import Dense, Dropout\n",
    "from keras.callbacks import EarlyStopping\n",
    "\n",
    "\n",
    "from sklearn.metrics import classification_report, confusion_matrix\n",
    "\n",
    "%matplotlib inline"
   ]
  },
  {
   "cell_type": "code",
   "execution_count": 3,
   "id": "203764a4",
   "metadata": {
    "execution": {
     "iopub.execute_input": "2022-06-15T10:16:13.505472Z",
     "iopub.status.busy": "2022-06-15T10:16:13.504593Z",
     "iopub.status.idle": "2022-06-15T10:16:13.535391Z",
     "shell.execute_reply": "2022-06-15T10:16:13.534622Z"
    },
    "papermill": {
     "duration": 0.052836,
     "end_time": "2022-06-15T10:16:13.537564",
     "exception": false,
     "start_time": "2022-06-15T10:16:13.484728",
     "status": "completed"
    },
    "tags": []
   },
   "outputs": [],
   "source": [
    "train_df = pd.read_csv(\"/kaggle/input/titanic/train.csv\")\n",
    "test_df = pd.read_csv('/kaggle/input/titanic/test.csv')"
   ]
  },
  {
   "cell_type": "markdown",
   "id": "6ec13edd",
   "metadata": {
    "papermill": {
     "duration": 0.018424,
     "end_time": "2022-06-15T10:16:13.575132",
     "exception": false,
     "start_time": "2022-06-15T10:16:13.556708",
     "status": "completed"
    },
    "tags": []
   },
   "source": [
    "# EDA"
   ]
  },
  {
   "cell_type": "code",
   "execution_count": 4,
   "id": "993edd62",
   "metadata": {
    "execution": {
     "iopub.execute_input": "2022-06-15T10:16:13.614655Z",
     "iopub.status.busy": "2022-06-15T10:16:13.614004Z",
     "iopub.status.idle": "2022-06-15T10:16:13.637419Z",
     "shell.execute_reply": "2022-06-15T10:16:13.636684Z"
    },
    "papermill": {
     "duration": 0.045304,
     "end_time": "2022-06-15T10:16:13.639300",
     "exception": false,
     "start_time": "2022-06-15T10:16:13.593996",
     "status": "completed"
    },
    "tags": []
   },
   "outputs": [
    {
     "data": {
      "text/html": [
       "<div>\n",
       "<style scoped>\n",
       "    .dataframe tbody tr th:only-of-type {\n",
       "        vertical-align: middle;\n",
       "    }\n",
       "\n",
       "    .dataframe tbody tr th {\n",
       "        vertical-align: top;\n",
       "    }\n",
       "\n",
       "    .dataframe thead th {\n",
       "        text-align: right;\n",
       "    }\n",
       "</style>\n",
       "<table border=\"1\" class=\"dataframe\">\n",
       "  <thead>\n",
       "    <tr style=\"text-align: right;\">\n",
       "      <th></th>\n",
       "      <th>PassengerId</th>\n",
       "      <th>Survived</th>\n",
       "      <th>Pclass</th>\n",
       "      <th>Name</th>\n",
       "      <th>Sex</th>\n",
       "      <th>Age</th>\n",
       "      <th>SibSp</th>\n",
       "      <th>Parch</th>\n",
       "      <th>Ticket</th>\n",
       "      <th>Fare</th>\n",
       "      <th>Cabin</th>\n",
       "      <th>Embarked</th>\n",
       "    </tr>\n",
       "  </thead>\n",
       "  <tbody>\n",
       "    <tr>\n",
       "      <th>0</th>\n",
       "      <td>1</td>\n",
       "      <td>0</td>\n",
       "      <td>3</td>\n",
       "      <td>Braund, Mr. Owen Harris</td>\n",
       "      <td>male</td>\n",
       "      <td>22.0</td>\n",
       "      <td>1</td>\n",
       "      <td>0</td>\n",
       "      <td>A/5 21171</td>\n",
       "      <td>7.2500</td>\n",
       "      <td>NaN</td>\n",
       "      <td>S</td>\n",
       "    </tr>\n",
       "    <tr>\n",
       "      <th>1</th>\n",
       "      <td>2</td>\n",
       "      <td>1</td>\n",
       "      <td>1</td>\n",
       "      <td>Cumings, Mrs. John Bradley (Florence Briggs Th...</td>\n",
       "      <td>female</td>\n",
       "      <td>38.0</td>\n",
       "      <td>1</td>\n",
       "      <td>0</td>\n",
       "      <td>PC 17599</td>\n",
       "      <td>71.2833</td>\n",
       "      <td>C85</td>\n",
       "      <td>C</td>\n",
       "    </tr>\n",
       "    <tr>\n",
       "      <th>2</th>\n",
       "      <td>3</td>\n",
       "      <td>1</td>\n",
       "      <td>3</td>\n",
       "      <td>Heikkinen, Miss. Laina</td>\n",
       "      <td>female</td>\n",
       "      <td>26.0</td>\n",
       "      <td>0</td>\n",
       "      <td>0</td>\n",
       "      <td>STON/O2. 3101282</td>\n",
       "      <td>7.9250</td>\n",
       "      <td>NaN</td>\n",
       "      <td>S</td>\n",
       "    </tr>\n",
       "    <tr>\n",
       "      <th>3</th>\n",
       "      <td>4</td>\n",
       "      <td>1</td>\n",
       "      <td>1</td>\n",
       "      <td>Futrelle, Mrs. Jacques Heath (Lily May Peel)</td>\n",
       "      <td>female</td>\n",
       "      <td>35.0</td>\n",
       "      <td>1</td>\n",
       "      <td>0</td>\n",
       "      <td>113803</td>\n",
       "      <td>53.1000</td>\n",
       "      <td>C123</td>\n",
       "      <td>S</td>\n",
       "    </tr>\n",
       "    <tr>\n",
       "      <th>4</th>\n",
       "      <td>5</td>\n",
       "      <td>0</td>\n",
       "      <td>3</td>\n",
       "      <td>Allen, Mr. William Henry</td>\n",
       "      <td>male</td>\n",
       "      <td>35.0</td>\n",
       "      <td>0</td>\n",
       "      <td>0</td>\n",
       "      <td>373450</td>\n",
       "      <td>8.0500</td>\n",
       "      <td>NaN</td>\n",
       "      <td>S</td>\n",
       "    </tr>\n",
       "  </tbody>\n",
       "</table>\n",
       "</div>"
      ],
      "text/plain": [
       "   PassengerId  Survived  Pclass  \\\n",
       "0            1         0       3   \n",
       "1            2         1       1   \n",
       "2            3         1       3   \n",
       "3            4         1       1   \n",
       "4            5         0       3   \n",
       "\n",
       "                                                Name     Sex   Age  SibSp  \\\n",
       "0                            Braund, Mr. Owen Harris    male  22.0      1   \n",
       "1  Cumings, Mrs. John Bradley (Florence Briggs Th...  female  38.0      1   \n",
       "2                             Heikkinen, Miss. Laina  female  26.0      0   \n",
       "3       Futrelle, Mrs. Jacques Heath (Lily May Peel)  female  35.0      1   \n",
       "4                           Allen, Mr. William Henry    male  35.0      0   \n",
       "\n",
       "   Parch            Ticket     Fare Cabin Embarked  \n",
       "0      0         A/5 21171   7.2500   NaN        S  \n",
       "1      0          PC 17599  71.2833   C85        C  \n",
       "2      0  STON/O2. 3101282   7.9250   NaN        S  \n",
       "3      0            113803  53.1000  C123        S  \n",
       "4      0            373450   8.0500   NaN        S  "
      ]
     },
     "execution_count": 4,
     "metadata": {},
     "output_type": "execute_result"
    }
   ],
   "source": [
    "train_df.head()"
   ]
  },
  {
   "cell_type": "code",
   "execution_count": 5,
   "id": "34977814",
   "metadata": {
    "execution": {
     "iopub.execute_input": "2022-06-15T10:16:13.679401Z",
     "iopub.status.busy": "2022-06-15T10:16:13.678762Z",
     "iopub.status.idle": "2022-06-15T10:16:13.704121Z",
     "shell.execute_reply": "2022-06-15T10:16:13.703320Z"
    },
    "papermill": {
     "duration": 0.048014,
     "end_time": "2022-06-15T10:16:13.706456",
     "exception": false,
     "start_time": "2022-06-15T10:16:13.658442",
     "status": "completed"
    },
    "tags": []
   },
   "outputs": [
    {
     "name": "stdout",
     "output_type": "stream",
     "text": [
      "<class 'pandas.core.frame.DataFrame'>\n",
      "RangeIndex: 891 entries, 0 to 890\n",
      "Data columns (total 12 columns):\n",
      " #   Column       Non-Null Count  Dtype  \n",
      "---  ------       --------------  -----  \n",
      " 0   PassengerId  891 non-null    int64  \n",
      " 1   Survived     891 non-null    int64  \n",
      " 2   Pclass       891 non-null    int64  \n",
      " 3   Name         891 non-null    object \n",
      " 4   Sex          891 non-null    object \n",
      " 5   Age          714 non-null    float64\n",
      " 6   SibSp        891 non-null    int64  \n",
      " 7   Parch        891 non-null    int64  \n",
      " 8   Ticket       891 non-null    object \n",
      " 9   Fare         891 non-null    float64\n",
      " 10  Cabin        204 non-null    object \n",
      " 11  Embarked     889 non-null    object \n",
      "dtypes: float64(2), int64(5), object(5)\n",
      "memory usage: 83.7+ KB\n"
     ]
    }
   ],
   "source": [
    "train_df.info()"
   ]
  },
  {
   "cell_type": "code",
   "execution_count": 6,
   "id": "df3b2731",
   "metadata": {
    "execution": {
     "iopub.execute_input": "2022-06-15T10:16:13.747265Z",
     "iopub.status.busy": "2022-06-15T10:16:13.746495Z",
     "iopub.status.idle": "2022-06-15T10:16:13.754228Z",
     "shell.execute_reply": "2022-06-15T10:16:13.753527Z"
    },
    "papermill": {
     "duration": 0.03097,
     "end_time": "2022-06-15T10:16:13.756700",
     "exception": false,
     "start_time": "2022-06-15T10:16:13.725730",
     "status": "completed"
    },
    "tags": []
   },
   "outputs": [],
   "source": [
    "train_df.drop(['PassengerId', 'Name'], axis=1, inplace=True)"
   ]
  },
  {
   "cell_type": "code",
   "execution_count": 7,
   "id": "e90ef4a2",
   "metadata": {
    "execution": {
     "iopub.execute_input": "2022-06-15T10:16:13.797368Z",
     "iopub.status.busy": "2022-06-15T10:16:13.796667Z",
     "iopub.status.idle": "2022-06-15T10:16:13.831093Z",
     "shell.execute_reply": "2022-06-15T10:16:13.830066Z"
    },
    "papermill": {
     "duration": 0.057193,
     "end_time": "2022-06-15T10:16:13.833377",
     "exception": false,
     "start_time": "2022-06-15T10:16:13.776184",
     "status": "completed"
    },
    "tags": []
   },
   "outputs": [
    {
     "data": {
      "text/html": [
       "<div>\n",
       "<style scoped>\n",
       "    .dataframe tbody tr th:only-of-type {\n",
       "        vertical-align: middle;\n",
       "    }\n",
       "\n",
       "    .dataframe tbody tr th {\n",
       "        vertical-align: top;\n",
       "    }\n",
       "\n",
       "    .dataframe thead th {\n",
       "        text-align: right;\n",
       "    }\n",
       "</style>\n",
       "<table border=\"1\" class=\"dataframe\">\n",
       "  <thead>\n",
       "    <tr style=\"text-align: right;\">\n",
       "      <th></th>\n",
       "      <th>count</th>\n",
       "      <th>mean</th>\n",
       "      <th>std</th>\n",
       "      <th>min</th>\n",
       "      <th>25%</th>\n",
       "      <th>50%</th>\n",
       "      <th>75%</th>\n",
       "      <th>max</th>\n",
       "    </tr>\n",
       "  </thead>\n",
       "  <tbody>\n",
       "    <tr>\n",
       "      <th>Survived</th>\n",
       "      <td>891.0</td>\n",
       "      <td>0.383838</td>\n",
       "      <td>0.486592</td>\n",
       "      <td>0.00</td>\n",
       "      <td>0.0000</td>\n",
       "      <td>0.0000</td>\n",
       "      <td>1.0</td>\n",
       "      <td>1.0000</td>\n",
       "    </tr>\n",
       "    <tr>\n",
       "      <th>Pclass</th>\n",
       "      <td>891.0</td>\n",
       "      <td>2.308642</td>\n",
       "      <td>0.836071</td>\n",
       "      <td>1.00</td>\n",
       "      <td>2.0000</td>\n",
       "      <td>3.0000</td>\n",
       "      <td>3.0</td>\n",
       "      <td>3.0000</td>\n",
       "    </tr>\n",
       "    <tr>\n",
       "      <th>Age</th>\n",
       "      <td>714.0</td>\n",
       "      <td>29.699118</td>\n",
       "      <td>14.526497</td>\n",
       "      <td>0.42</td>\n",
       "      <td>20.1250</td>\n",
       "      <td>28.0000</td>\n",
       "      <td>38.0</td>\n",
       "      <td>80.0000</td>\n",
       "    </tr>\n",
       "    <tr>\n",
       "      <th>SibSp</th>\n",
       "      <td>891.0</td>\n",
       "      <td>0.523008</td>\n",
       "      <td>1.102743</td>\n",
       "      <td>0.00</td>\n",
       "      <td>0.0000</td>\n",
       "      <td>0.0000</td>\n",
       "      <td>1.0</td>\n",
       "      <td>8.0000</td>\n",
       "    </tr>\n",
       "    <tr>\n",
       "      <th>Parch</th>\n",
       "      <td>891.0</td>\n",
       "      <td>0.381594</td>\n",
       "      <td>0.806057</td>\n",
       "      <td>0.00</td>\n",
       "      <td>0.0000</td>\n",
       "      <td>0.0000</td>\n",
       "      <td>0.0</td>\n",
       "      <td>6.0000</td>\n",
       "    </tr>\n",
       "    <tr>\n",
       "      <th>Fare</th>\n",
       "      <td>891.0</td>\n",
       "      <td>32.204208</td>\n",
       "      <td>49.693429</td>\n",
       "      <td>0.00</td>\n",
       "      <td>7.9104</td>\n",
       "      <td>14.4542</td>\n",
       "      <td>31.0</td>\n",
       "      <td>512.3292</td>\n",
       "    </tr>\n",
       "  </tbody>\n",
       "</table>\n",
       "</div>"
      ],
      "text/plain": [
       "          count       mean        std   min      25%      50%   75%       max\n",
       "Survived  891.0   0.383838   0.486592  0.00   0.0000   0.0000   1.0    1.0000\n",
       "Pclass    891.0   2.308642   0.836071  1.00   2.0000   3.0000   3.0    3.0000\n",
       "Age       714.0  29.699118  14.526497  0.42  20.1250  28.0000  38.0   80.0000\n",
       "SibSp     891.0   0.523008   1.102743  0.00   0.0000   0.0000   1.0    8.0000\n",
       "Parch     891.0   0.381594   0.806057  0.00   0.0000   0.0000   0.0    6.0000\n",
       "Fare      891.0  32.204208  49.693429  0.00   7.9104  14.4542  31.0  512.3292"
      ]
     },
     "execution_count": 7,
     "metadata": {},
     "output_type": "execute_result"
    }
   ],
   "source": [
    "train_df.describe().T"
   ]
  },
  {
   "cell_type": "code",
   "execution_count": 8,
   "id": "1918c79f",
   "metadata": {
    "execution": {
     "iopub.execute_input": "2022-06-15T10:16:13.873839Z",
     "iopub.status.busy": "2022-06-15T10:16:13.873408Z",
     "iopub.status.idle": "2022-06-15T10:16:14.066694Z",
     "shell.execute_reply": "2022-06-15T10:16:14.065589Z"
    },
    "papermill": {
     "duration": 0.21651,
     "end_time": "2022-06-15T10:16:14.069394",
     "exception": false,
     "start_time": "2022-06-15T10:16:13.852884",
     "status": "completed"
    },
    "tags": []
   },
   "outputs": [
    {
     "data": {
      "text/plain": [
       "<AxesSubplot:xlabel='Survived', ylabel='count'>"
      ]
     },
     "execution_count": 8,
     "metadata": {},
     "output_type": "execute_result"
    },
    {
     "data": {
      "image/png": "[encoded data removed]",
      "text/plain": [
       "<Figure size 432x288 with 1 Axes>"
      ]
     },
     "metadata": {
      "needs_background": "light"
     },
     "output_type": "display_data"
    }
   ],
   "source": [
    "sns.countplot(x=train_df['Survived'], palette='pastel')"
   ]
  },
  {
   "cell_type": "code",
   "execution_count": 9,
   "id": "66025b12",
   "metadata": {
    "execution": {
     "iopub.execute_input": "2022-06-15T10:16:14.111763Z",
     "iopub.status.busy": "2022-06-15T10:16:14.111329Z",
     "iopub.status.idle": "2022-06-15T10:16:14.116453Z",
     "shell.execute_reply": "2022-06-15T10:16:14.115729Z"
    },
    "papermill": {
     "duration": 0.028661,
     "end_time": "2022-06-15T10:16:14.118522",
     "exception": false,
     "start_time": "2022-06-15T10:16:14.089861",
     "status": "completed"
    },
    "tags": []
   },
   "outputs": [],
   "source": [
    "def make_countplot(train_df, col):\n",
    "    sns.countplot(x=train_df['Survived'], palette='pastel', hue=train_df[col])\n",
    "    plt.tight_layout(rect=(0, 0, 1.2, 1.2))\n",
    "    plt.show()\n",
    "#     plt.tight_layout(rect=(0, 0, 1.2, 1.2))\n",
    "    return None"
   ]
  },
  {
   "cell_type": "code",
   "execution_count": 10,
   "id": "21071394",
   "metadata": {
    "execution": {
     "iopub.execute_input": "2022-06-15T10:16:14.160324Z",
     "iopub.status.busy": "2022-06-15T10:16:14.159414Z",
     "iopub.status.idle": "2022-06-15T10:16:15.704134Z",
     "shell.execute_reply": "2022-06-15T10:16:15.702984Z"
    },
    "papermill": {
     "duration": 1.568824,
     "end_time": "2022-06-15T10:16:15.707121",
     "exception": false,
     "start_time": "2022-06-15T10:16:14.138297",
     "status": "completed"
    },
    "tags": []
   },
   "outputs": [
    {
     "data": {
      "image/png": "[encoded data removed]",
      "text/plain": [
       "<Figure size 432x288 with 1 Axes>"
      ]
     },
     "metadata": {
      "needs_background": "light"
     },
     "output_type": "display_data"
    },
    {
     "data": {
      "image/png": "[encoded data removed]",
      "text/plain": [
       "<Figure size 432x288 with 1 Axes>"
      ]
     },
     "metadata": {
      "needs_background": "light"
     },
     "output_type": "display_data"
    },
    {
     "data": {
      "image/png": "[encoded data removed]",
      "text/plain": [
       "<Figure size 432x288 with 1 Axes>"
      ]
     },
     "metadata": {
      "needs_background": "light"
     },
     "output_type": "display_data"
    },
    {
     "data": {
      "image/png": "[encoded data removed]",
      "text/plain": [
       "<Figure size 432x288 with 1 Axes>"
      ]
     },
     "metadata": {
      "needs_background": "light"
     },
     "output_type": "display_data"
    },
    {
     "data": {
      "image/png": "[encoded data removed]",
      "text/plain": [
       "<Figure size 432x288 with 1 Axes>"
      ]
     },
     "metadata": {
      "needs_background": "light"
     },
     "output_type": "display_data"
    },
    {
     "data": {
      "image/png": "[encoded data removed]",
      "text/plain": [
       "<Figure size 432x288 with 1 Axes>"
      ]
     },
     "metadata": {
      "needs_background": "light"
     },
     "output_type": "display_data"
    }
   ],
   "source": [
    "df = train_df.drop(['Age', 'Fare', 'Ticket', 'Cabin'], axis=1)\n",
    "for col in df.columns:\n",
    "    make_countplot(df, col)\n"
   ]
  },
  {
   "cell_type": "code",
   "execution_count": 11,
   "id": "2b852de9",
   "metadata": {
    "execution": {
     "iopub.execute_input": "2022-06-15T10:16:15.759651Z",
     "iopub.status.busy": "2022-06-15T10:16:15.759237Z",
     "iopub.status.idle": "2022-06-15T10:16:15.763568Z",
     "shell.execute_reply": "2022-06-15T10:16:15.762588Z"
    },
    "papermill": {
     "duration": 0.029615,
     "end_time": "2022-06-15T10:16:15.765891",
     "exception": false,
     "start_time": "2022-06-15T10:16:15.736276",
     "status": "completed"
    },
    "tags": []
   },
   "outputs": [],
   "source": [
    "df = train_df"
   ]
  },
  {
   "cell_type": "code",
   "execution_count": 12,
   "id": "6e40ea9b",
   "metadata": {
    "execution": {
     "iopub.execute_input": "2022-06-15T10:16:15.811590Z",
     "iopub.status.busy": "2022-06-15T10:16:15.811027Z",
     "iopub.status.idle": "2022-06-15T10:16:15.911852Z",
     "shell.execute_reply": "2022-06-15T10:16:15.910822Z"
    },
    "papermill": {
     "duration": 0.127319,
     "end_time": "2022-06-15T10:16:15.915207",
     "exception": false,
     "start_time": "2022-06-15T10:16:15.787888",
     "status": "completed"
    },
    "tags": []
   },
   "outputs": [
    {
     "data": {
      "image/png": "[encoded data removed]",
      "text/plain": [
       "<Figure size 432x288 with 1 Axes>"
      ]
     },
     "metadata": {},
     "output_type": "display_data"
    }
   ],
   "source": [
    "plt.pie(df['Sex'].value_counts(), labels=['Male', 'Female'], autopct='%.2f')\n",
    "plt.axis('equal')\n",
    "plt.show()"
   ]
  },
  {
   "cell_type": "code",
   "execution_count": 13,
   "id": "e31bb5ac",
   "metadata": {
    "execution": {
     "iopub.execute_input": "2022-06-15T10:16:15.999878Z",
     "iopub.status.busy": "2022-06-15T10:16:15.998483Z",
     "iopub.status.idle": "2022-06-15T10:16:16.433590Z",
     "shell.execute_reply": "2022-06-15T10:16:16.432599Z"
    },
    "papermill": {
     "duration": 0.480863,
     "end_time": "2022-06-15T10:16:16.436908",
     "exception": false,
     "start_time": "2022-06-15T10:16:15.956045",
     "status": "completed"
    },
    "tags": []
   },
   "outputs": [
    {
     "data": {
      "image/png": "[encoded data removed]",
      "text/plain": [
       "<Figure size 432x288 with 1 Axes>"
      ]
     },
     "metadata": {
      "needs_background": "light"
     },
     "output_type": "display_data"
    },
    {
     "data": {
      "text/plain": [
       "<AxesSubplot:xlabel='Fare', ylabel='Count'>"
      ]
     },
     "execution_count": 13,
     "metadata": {},
     "output_type": "execute_result"
    },
    {
     "data": {
      "image/png": "[encoded data removed]",
      "text/plain": [
       "<Figure size 432x288 with 1 Axes>"
      ]
     },
     "metadata": {
      "needs_background": "light"
     },
     "output_type": "display_data"
    }
   ],
   "source": [
    "sns.violinplot(x=train_df['Fare'])\n",
    "sns.boxplot(x=train_df['Fare'], color='orange')\n",
    "plt.show()\n",
    "sns.histplot(x=train_df['Fare'], bins=20, kde=True, color='purple')"
   ]
  },
  {
   "cell_type": "code",
   "execution_count": 14,
   "id": "367c5691",
   "metadata": {
    "execution": {
     "iopub.execute_input": "2022-06-15T10:16:16.484660Z",
     "iopub.status.busy": "2022-06-15T10:16:16.483743Z",
     "iopub.status.idle": "2022-06-15T10:16:22.726982Z",
     "shell.execute_reply": "2022-06-15T10:16:22.726138Z"
    },
    "papermill": {
     "duration": 6.270346,
     "end_time": "2022-06-15T10:16:22.730123",
     "exception": false,
     "start_time": "2022-06-15T10:16:16.459777",
     "status": "completed"
    },
    "tags": []
   },
   "outputs": [
    {
     "name": "stderr",
     "output_type": "stream",
     "text": [
      "/opt/conda/lib/python3.7/site-packages/seaborn/axisgrid.py:2076: UserWarning: The `size` parameter has been renamed to `height`; please update your code.\n",
      "  warnings.warn(msg, UserWarning)\n"
     ]
    },
    {
     "data": {
      "image/png": "[encoded data removed]",
      "text/plain": [
       "<Figure size 1399.68x777.6 with 42 Axes>"
      ]
     },
     "metadata": {
      "needs_background": "light"
     },
     "output_type": "display_data"
    }
   ],
   "source": [
    "pp = sns.pairplot(df, size=1.8, aspect=1.8, diag_kind='kde', diag_kws=dict(shade=True))\n",
    "fig = pp.fig\n",
    "fig.subplots_adjust(top=0.83, wspace=0.33)"
   ]
  },
  {
   "cell_type": "code",
   "execution_count": 15,
   "id": "66fc3990",
   "metadata": {
    "execution": {
     "iopub.execute_input": "2022-06-15T10:16:22.781526Z",
     "iopub.status.busy": "2022-06-15T10:16:22.780977Z",
     "iopub.status.idle": "2022-06-15T10:16:23.503454Z",
     "shell.execute_reply": "2022-06-15T10:16:23.502402Z"
    },
    "papermill": {
     "duration": 0.751071,
     "end_time": "2022-06-15T10:16:23.505635",
     "exception": false,
     "start_time": "2022-06-15T10:16:22.754564",
     "status": "completed"
    },
    "tags": []
   },
   "outputs": [
    {
     "data": {
      "text/plain": [
       "<seaborn.axisgrid.JointGrid at 0x7f17998bd2d0>"
      ]
     },
     "execution_count": 15,
     "metadata": {},
     "output_type": "execute_result"
    },
    {
     "data": {
      "image/png": "[encoded data removed]",
      "text/plain": [
       "<Figure size 432x432 with 3 Axes>"
      ]
     },
     "metadata": {
      "needs_background": "light"
     },
     "output_type": "display_data"
    }
   ],
   "source": [
    "sns.jointplot(x=df['Fare'], y=df['Age'])"
   ]
  },
  {
   "cell_type": "code",
   "execution_count": 16,
   "id": "51384e66",
   "metadata": {
    "execution": {
     "iopub.execute_input": "2022-06-15T10:16:23.556967Z",
     "iopub.status.busy": "2022-06-15T10:16:23.556584Z",
     "iopub.status.idle": "2022-06-15T10:16:23.577709Z",
     "shell.execute_reply": "2022-06-15T10:16:23.577016Z"
    },
    "papermill": {
     "duration": 0.048803,
     "end_time": "2022-06-15T10:16:23.579402",
     "exception": false,
     "start_time": "2022-06-15T10:16:23.530599",
     "status": "completed"
    },
    "tags": []
   },
   "outputs": [
    {
     "data": {
      "text/html": [
       "<div>\n",
       "<style scoped>\n",
       "    .dataframe tbody tr th:only-of-type {\n",
       "        vertical-align: middle;\n",
       "    }\n",
       "\n",
       "    .dataframe tbody tr th {\n",
       "        vertical-align: top;\n",
       "    }\n",
       "\n",
       "    .dataframe thead th {\n",
       "        text-align: right;\n",
       "    }\n",
       "</style>\n",
       "<table border=\"1\" class=\"dataframe\">\n",
       "  <thead>\n",
       "    <tr style=\"text-align: right;\">\n",
       "      <th></th>\n",
       "      <th>Survived</th>\n",
       "      <th>Pclass</th>\n",
       "      <th>Sex</th>\n",
       "      <th>Age</th>\n",
       "      <th>SibSp</th>\n",
       "      <th>Parch</th>\n",
       "      <th>Ticket</th>\n",
       "      <th>Fare</th>\n",
       "      <th>Cabin</th>\n",
       "      <th>Embarked</th>\n",
       "    </tr>\n",
       "  </thead>\n",
       "  <tbody>\n",
       "    <tr>\n",
       "      <th>27</th>\n",
       "      <td>0</td>\n",
       "      <td>1</td>\n",
       "      <td>male</td>\n",
       "      <td>19.0</td>\n",
       "      <td>3</td>\n",
       "      <td>2</td>\n",
       "      <td>19950</td>\n",
       "      <td>263.0000</td>\n",
       "      <td>C23 C25 C27</td>\n",
       "      <td>S</td>\n",
       "    </tr>\n",
       "    <tr>\n",
       "      <th>88</th>\n",
       "      <td>1</td>\n",
       "      <td>1</td>\n",
       "      <td>female</td>\n",
       "      <td>23.0</td>\n",
       "      <td>3</td>\n",
       "      <td>2</td>\n",
       "      <td>19950</td>\n",
       "      <td>263.0000</td>\n",
       "      <td>C23 C25 C27</td>\n",
       "      <td>S</td>\n",
       "    </tr>\n",
       "    <tr>\n",
       "      <th>118</th>\n",
       "      <td>0</td>\n",
       "      <td>1</td>\n",
       "      <td>male</td>\n",
       "      <td>24.0</td>\n",
       "      <td>0</td>\n",
       "      <td>1</td>\n",
       "      <td>PC 17558</td>\n",
       "      <td>247.5208</td>\n",
       "      <td>B58 B60</td>\n",
       "      <td>C</td>\n",
       "    </tr>\n",
       "    <tr>\n",
       "      <th>258</th>\n",
       "      <td>1</td>\n",
       "      <td>1</td>\n",
       "      <td>female</td>\n",
       "      <td>35.0</td>\n",
       "      <td>0</td>\n",
       "      <td>0</td>\n",
       "      <td>PC 17755</td>\n",
       "      <td>512.3292</td>\n",
       "      <td>NaN</td>\n",
       "      <td>C</td>\n",
       "    </tr>\n",
       "    <tr>\n",
       "      <th>299</th>\n",
       "      <td>1</td>\n",
       "      <td>1</td>\n",
       "      <td>female</td>\n",
       "      <td>50.0</td>\n",
       "      <td>0</td>\n",
       "      <td>1</td>\n",
       "      <td>PC 17558</td>\n",
       "      <td>247.5208</td>\n",
       "      <td>B58 B60</td>\n",
       "      <td>C</td>\n",
       "    </tr>\n",
       "    <tr>\n",
       "      <th>311</th>\n",
       "      <td>1</td>\n",
       "      <td>1</td>\n",
       "      <td>female</td>\n",
       "      <td>18.0</td>\n",
       "      <td>2</td>\n",
       "      <td>2</td>\n",
       "      <td>PC 17608</td>\n",
       "      <td>262.3750</td>\n",
       "      <td>B57 B59 B63 B66</td>\n",
       "      <td>C</td>\n",
       "    </tr>\n",
       "    <tr>\n",
       "      <th>341</th>\n",
       "      <td>1</td>\n",
       "      <td>1</td>\n",
       "      <td>female</td>\n",
       "      <td>24.0</td>\n",
       "      <td>3</td>\n",
       "      <td>2</td>\n",
       "      <td>19950</td>\n",
       "      <td>263.0000</td>\n",
       "      <td>C23 C25 C27</td>\n",
       "      <td>S</td>\n",
       "    </tr>\n",
       "    <tr>\n",
       "      <th>377</th>\n",
       "      <td>0</td>\n",
       "      <td>1</td>\n",
       "      <td>male</td>\n",
       "      <td>27.0</td>\n",
       "      <td>0</td>\n",
       "      <td>2</td>\n",
       "      <td>113503</td>\n",
       "      <td>211.5000</td>\n",
       "      <td>C82</td>\n",
       "      <td>C</td>\n",
       "    </tr>\n",
       "    <tr>\n",
       "      <th>380</th>\n",
       "      <td>1</td>\n",
       "      <td>1</td>\n",
       "      <td>female</td>\n",
       "      <td>42.0</td>\n",
       "      <td>0</td>\n",
       "      <td>0</td>\n",
       "      <td>PC 17757</td>\n",
       "      <td>227.5250</td>\n",
       "      <td>NaN</td>\n",
       "      <td>C</td>\n",
       "    </tr>\n",
       "    <tr>\n",
       "      <th>438</th>\n",
       "      <td>0</td>\n",
       "      <td>1</td>\n",
       "      <td>male</td>\n",
       "      <td>64.0</td>\n",
       "      <td>1</td>\n",
       "      <td>4</td>\n",
       "      <td>19950</td>\n",
       "      <td>263.0000</td>\n",
       "      <td>C23 C25 C27</td>\n",
       "      <td>S</td>\n",
       "    </tr>\n",
       "    <tr>\n",
       "      <th>527</th>\n",
       "      <td>0</td>\n",
       "      <td>1</td>\n",
       "      <td>male</td>\n",
       "      <td>NaN</td>\n",
       "      <td>0</td>\n",
       "      <td>0</td>\n",
       "      <td>PC 17483</td>\n",
       "      <td>221.7792</td>\n",
       "      <td>C95</td>\n",
       "      <td>S</td>\n",
       "    </tr>\n",
       "    <tr>\n",
       "      <th>557</th>\n",
       "      <td>0</td>\n",
       "      <td>1</td>\n",
       "      <td>male</td>\n",
       "      <td>NaN</td>\n",
       "      <td>0</td>\n",
       "      <td>0</td>\n",
       "      <td>PC 17757</td>\n",
       "      <td>227.5250</td>\n",
       "      <td>NaN</td>\n",
       "      <td>C</td>\n",
       "    </tr>\n",
       "    <tr>\n",
       "      <th>679</th>\n",
       "      <td>1</td>\n",
       "      <td>1</td>\n",
       "      <td>male</td>\n",
       "      <td>36.0</td>\n",
       "      <td>0</td>\n",
       "      <td>1</td>\n",
       "      <td>PC 17755</td>\n",
       "      <td>512.3292</td>\n",
       "      <td>B51 B53 B55</td>\n",
       "      <td>C</td>\n",
       "    </tr>\n",
       "    <tr>\n",
       "      <th>689</th>\n",
       "      <td>1</td>\n",
       "      <td>1</td>\n",
       "      <td>female</td>\n",
       "      <td>15.0</td>\n",
       "      <td>0</td>\n",
       "      <td>1</td>\n",
       "      <td>24160</td>\n",
       "      <td>211.3375</td>\n",
       "      <td>B5</td>\n",
       "      <td>S</td>\n",
       "    </tr>\n",
       "    <tr>\n",
       "      <th>700</th>\n",
       "      <td>1</td>\n",
       "      <td>1</td>\n",
       "      <td>female</td>\n",
       "      <td>18.0</td>\n",
       "      <td>1</td>\n",
       "      <td>0</td>\n",
       "      <td>PC 17757</td>\n",
       "      <td>227.5250</td>\n",
       "      <td>C62 C64</td>\n",
       "      <td>C</td>\n",
       "    </tr>\n",
       "    <tr>\n",
       "      <th>716</th>\n",
       "      <td>1</td>\n",
       "      <td>1</td>\n",
       "      <td>female</td>\n",
       "      <td>38.0</td>\n",
       "      <td>0</td>\n",
       "      <td>0</td>\n",
       "      <td>PC 17757</td>\n",
       "      <td>227.5250</td>\n",
       "      <td>C45</td>\n",
       "      <td>C</td>\n",
       "    </tr>\n",
       "    <tr>\n",
       "      <th>730</th>\n",
       "      <td>1</td>\n",
       "      <td>1</td>\n",
       "      <td>female</td>\n",
       "      <td>29.0</td>\n",
       "      <td>0</td>\n",
       "      <td>0</td>\n",
       "      <td>24160</td>\n",
       "      <td>211.3375</td>\n",
       "      <td>B5</td>\n",
       "      <td>S</td>\n",
       "    </tr>\n",
       "    <tr>\n",
       "      <th>737</th>\n",
       "      <td>1</td>\n",
       "      <td>1</td>\n",
       "      <td>male</td>\n",
       "      <td>35.0</td>\n",
       "      <td>0</td>\n",
       "      <td>0</td>\n",
       "      <td>PC 17755</td>\n",
       "      <td>512.3292</td>\n",
       "      <td>B101</td>\n",
       "      <td>C</td>\n",
       "    </tr>\n",
       "    <tr>\n",
       "      <th>742</th>\n",
       "      <td>1</td>\n",
       "      <td>1</td>\n",
       "      <td>female</td>\n",
       "      <td>21.0</td>\n",
       "      <td>2</td>\n",
       "      <td>2</td>\n",
       "      <td>PC 17608</td>\n",
       "      <td>262.3750</td>\n",
       "      <td>B57 B59 B63 B66</td>\n",
       "      <td>C</td>\n",
       "    </tr>\n",
       "    <tr>\n",
       "      <th>779</th>\n",
       "      <td>1</td>\n",
       "      <td>1</td>\n",
       "      <td>female</td>\n",
       "      <td>43.0</td>\n",
       "      <td>0</td>\n",
       "      <td>1</td>\n",
       "      <td>24160</td>\n",
       "      <td>211.3375</td>\n",
       "      <td>B3</td>\n",
       "      <td>S</td>\n",
       "    </tr>\n",
       "  </tbody>\n",
       "</table>\n",
       "</div>"
      ],
      "text/plain": [
       "     Survived  Pclass     Sex   Age  SibSp  Parch    Ticket      Fare  \\\n",
       "27          0       1    male  19.0      3      2     19950  263.0000   \n",
       "88          1       1  female  23.0      3      2     19950  263.0000   \n",
       "118         0       1    male  24.0      0      1  PC 17558  247.5208   \n",
       "258         1       1  female  35.0      0      0  PC 17755  512.3292   \n",
       "299         1       1  female  50.0      0      1  PC 17558  247.5208   \n",
       "311         1       1  female  18.0      2      2  PC 17608  262.3750   \n",
       "341         1       1  female  24.0      3      2     19950  263.0000   \n",
       "377         0       1    male  27.0      0      2    113503  211.5000   \n",
       "380         1       1  female  42.0      0      0  PC 17757  227.5250   \n",
       "438         0       1    male  64.0      1      4     19950  263.0000   \n",
       "527         0       1    male   NaN      0      0  PC 17483  221.7792   \n",
       "557         0       1    male   NaN      0      0  PC 17757  227.5250   \n",
       "679         1       1    male  36.0      0      1  PC 17755  512.3292   \n",
       "689         1       1  female  15.0      0      1     24160  211.3375   \n",
       "700         1       1  female  18.0      1      0  PC 17757  227.5250   \n",
       "716         1       1  female  38.0      0      0  PC 17757  227.5250   \n",
       "730         1       1  female  29.0      0      0     24160  211.3375   \n",
       "737         1       1    male  35.0      0      0  PC 17755  512.3292   \n",
       "742         1       1  female  21.0      2      2  PC 17608  262.3750   \n",
       "779         1       1  female  43.0      0      1     24160  211.3375   \n",
       "\n",
       "               Cabin Embarked  \n",
       "27       C23 C25 C27        S  \n",
       "88       C23 C25 C27        S  \n",
       "118          B58 B60        C  \n",
       "258              NaN        C  \n",
       "299          B58 B60        C  \n",
       "311  B57 B59 B63 B66        C  \n",
       "341      C23 C25 C27        S  \n",
       "377              C82        C  \n",
       "380              NaN        C  \n",
       "438      C23 C25 C27        S  \n",
       "527              C95        S  \n",
       "557              NaN        C  \n",
       "679      B51 B53 B55        C  \n",
       "689               B5        S  \n",
       "700          C62 C64        C  \n",
       "716              C45        C  \n",
       "730               B5        S  \n",
       "737             B101        C  \n",
       "742  B57 B59 B63 B66        C  \n",
       "779               B3        S  "
      ]
     },
     "execution_count": 16,
     "metadata": {},
     "output_type": "execute_result"
    }
   ],
   "source": [
    "df[df['Fare'] > 200]"
   ]
  },
  {
   "cell_type": "code",
   "execution_count": 17,
   "id": "c2fe543a",
   "metadata": {
    "execution": {
     "iopub.execute_input": "2022-06-15T10:16:23.632274Z",
     "iopub.status.busy": "2022-06-15T10:16:23.631307Z",
     "iopub.status.idle": "2022-06-15T10:16:23.637933Z",
     "shell.execute_reply": "2022-06-15T10:16:23.637239Z"
    },
    "papermill": {
     "duration": 0.035108,
     "end_time": "2022-06-15T10:16:23.639834",
     "exception": false,
     "start_time": "2022-06-15T10:16:23.604726",
     "status": "completed"
    },
    "tags": []
   },
   "outputs": [],
   "source": [
    "idx = df[df['Fare'] > 500].index \n",
    "df.drop(idx, inplace=True)"
   ]
  },
  {
   "cell_type": "code",
   "execution_count": 18,
   "id": "79205524",
   "metadata": {
    "execution": {
     "iopub.execute_input": "2022-06-15T10:16:23.692929Z",
     "iopub.status.busy": "2022-06-15T10:16:23.691854Z",
     "iopub.status.idle": "2022-06-15T10:16:23.698285Z",
     "shell.execute_reply": "2022-06-15T10:16:23.697578Z"
    },
    "papermill": {
     "duration": 0.035161,
     "end_time": "2022-06-15T10:16:23.700356",
     "exception": false,
     "start_time": "2022-06-15T10:16:23.665195",
     "status": "completed"
    },
    "tags": []
   },
   "outputs": [],
   "source": [
    "idx = df[df['Age'] < 1].index\n",
    "df.drop(idx, inplace=True)"
   ]
  },
  {
   "cell_type": "code",
   "execution_count": 19,
   "id": "994896d5",
   "metadata": {
    "execution": {
     "iopub.execute_input": "2022-06-15T10:16:23.754040Z",
     "iopub.status.busy": "2022-06-15T10:16:23.753417Z",
     "iopub.status.idle": "2022-06-15T10:16:23.757473Z",
     "shell.execute_reply": "2022-06-15T10:16:23.756406Z"
    },
    "papermill": {
     "duration": 0.033652,
     "end_time": "2022-06-15T10:16:23.759453",
     "exception": false,
     "start_time": "2022-06-15T10:16:23.725801",
     "status": "completed"
    },
    "tags": []
   },
   "outputs": [],
   "source": [
    "# dabl.plot(df.drop('Survived', axis=1), df['Survived'])"
   ]
  },
  {
   "cell_type": "markdown",
   "id": "0342f39e",
   "metadata": {
    "execution": {
     "iopub.execute_input": "2022-06-12T08:53:49.536229Z",
     "iopub.status.busy": "2022-06-12T08:53:49.53529Z",
     "iopub.status.idle": "2022-06-12T08:53:49.542539Z",
     "shell.execute_reply": "2022-06-12T08:53:49.541065Z",
     "shell.execute_reply.started": "2022-06-12T08:53:49.536194Z"
    },
    "papermill": {
     "duration": 0.025133,
     "end_time": "2022-06-15T10:16:23.810306",
     "exception": false,
     "start_time": "2022-06-15T10:16:23.785173",
     "status": "completed"
    },
    "tags": []
   },
   "source": [
    "### 0 -> did not survive\n",
    "### 1 -> survived"
   ]
  },
  {
   "cell_type": "markdown",
   "id": "ee1d650e",
   "metadata": {
    "papermill": {
     "duration": 0.026112,
     "end_time": "2022-06-15T10:16:23.864029",
     "exception": false,
     "start_time": "2022-06-15T10:16:23.837917",
     "status": "completed"
    },
    "tags": []
   },
   "source": [
    "# Imputation"
   ]
  },
  {
   "cell_type": "code",
   "execution_count": 20,
   "id": "f6ccd7b0",
   "metadata": {
    "execution": {
     "iopub.execute_input": "2022-06-15T10:16:23.919354Z",
     "iopub.status.busy": "2022-06-15T10:16:23.918296Z",
     "iopub.status.idle": "2022-06-15T10:16:23.930581Z",
     "shell.execute_reply": "2022-06-15T10:16:23.929534Z"
    },
    "papermill": {
     "duration": 0.041775,
     "end_time": "2022-06-15T10:16:23.932819",
     "exception": false,
     "start_time": "2022-06-15T10:16:23.891044",
     "status": "completed"
    },
    "tags": []
   },
   "outputs": [
    {
     "data": {
      "text/plain": [
       "Age         177\n",
       "Cabin       680\n",
       "Embarked      2\n",
       "dtype: int64"
      ]
     },
     "execution_count": 20,
     "metadata": {},
     "output_type": "execute_result"
    }
   ],
   "source": [
    "df.isna().sum()[df.isna().sum() != 0]"
   ]
  },
  {
   "cell_type": "code",
   "execution_count": 21,
   "id": "420fc1ff",
   "metadata": {
    "execution": {
     "iopub.execute_input": "2022-06-15T10:16:23.988464Z",
     "iopub.status.busy": "2022-06-15T10:16:23.987426Z",
     "iopub.status.idle": "2022-06-15T10:16:23.994981Z",
     "shell.execute_reply": "2022-06-15T10:16:23.994001Z"
    },
    "papermill": {
     "duration": 0.037177,
     "end_time": "2022-06-15T10:16:23.996925",
     "exception": false,
     "start_time": "2022-06-15T10:16:23.959748",
     "status": "completed"
    },
    "tags": []
   },
   "outputs": [
    {
     "data": {
      "text/plain": [
       "201"
      ]
     },
     "execution_count": 21,
     "metadata": {},
     "output_type": "execute_result"
    }
   ],
   "source": [
    "df['Cabin'].value_counts().sum()"
   ]
  },
  {
   "cell_type": "markdown",
   "id": "5c54b3f3",
   "metadata": {
    "papermill": {
     "duration": 0.025093,
     "end_time": "2022-06-15T10:16:24.049420",
     "exception": false,
     "start_time": "2022-06-15T10:16:24.024327",
     "status": "completed"
    },
    "tags": []
   },
   "source": [
    "there are only 201 filled values in Cabin column, 686 values are NaN values"
   ]
  },
  {
   "cell_type": "code",
   "execution_count": 22,
   "id": "07a54ff5",
   "metadata": {
    "execution": {
     "iopub.execute_input": "2022-06-15T10:16:24.103619Z",
     "iopub.status.busy": "2022-06-15T10:16:24.102664Z",
     "iopub.status.idle": "2022-06-15T10:16:24.108104Z",
     "shell.execute_reply": "2022-06-15T10:16:24.107399Z"
    },
    "papermill": {
     "duration": 0.034711,
     "end_time": "2022-06-15T10:16:24.110463",
     "exception": false,
     "start_time": "2022-06-15T10:16:24.075752",
     "status": "completed"
    },
    "tags": []
   },
   "outputs": [],
   "source": [
    "df.drop('Cabin', axis=1, inplace=True)"
   ]
  },
  {
   "cell_type": "code",
   "execution_count": 23,
   "id": "78120b50",
   "metadata": {
    "execution": {
     "iopub.execute_input": "2022-06-15T10:16:24.163167Z",
     "iopub.status.busy": "2022-06-15T10:16:24.162788Z",
     "iopub.status.idle": "2022-06-15T10:16:24.182493Z",
     "shell.execute_reply": "2022-06-15T10:16:24.181485Z"
    },
    "papermill": {
     "duration": 0.048633,
     "end_time": "2022-06-15T10:16:24.184744",
     "exception": false,
     "start_time": "2022-06-15T10:16:24.136111",
     "status": "completed"
    },
    "tags": []
   },
   "outputs": [],
   "source": [
    "imputer = KNNImputer()\n",
    "x = imputer.fit_transform(df[['Age']])\n",
    "df['Age'] = x"
   ]
  },
  {
   "cell_type": "code",
   "execution_count": 24,
   "id": "e1b929ef",
   "metadata": {
    "execution": {
     "iopub.execute_input": "2022-06-15T10:16:24.238281Z",
     "iopub.status.busy": "2022-06-15T10:16:24.237747Z",
     "iopub.status.idle": "2022-06-15T10:16:24.241107Z",
     "shell.execute_reply": "2022-06-15T10:16:24.240433Z"
    },
    "papermill": {
     "duration": 0.032802,
     "end_time": "2022-06-15T10:16:24.243009",
     "exception": false,
     "start_time": "2022-06-15T10:16:24.210207",
     "status": "completed"
    },
    "tags": []
   },
   "outputs": [],
   "source": [
    "# df = df.reset_index()"
   ]
  },
  {
   "cell_type": "code",
   "execution_count": 25,
   "id": "52d923c3",
   "metadata": {
    "execution": {
     "iopub.execute_input": "2022-06-15T10:16:24.296746Z",
     "iopub.status.busy": "2022-06-15T10:16:24.296161Z",
     "iopub.status.idle": "2022-06-15T10:16:24.303987Z",
     "shell.execute_reply": "2022-06-15T10:16:24.302955Z"
    },
    "papermill": {
     "duration": 0.037234,
     "end_time": "2022-06-15T10:16:24.306171",
     "exception": false,
     "start_time": "2022-06-15T10:16:24.268937",
     "status": "completed"
    },
    "tags": []
   },
   "outputs": [],
   "source": [
    "df['Embarked'].ffill(inplace=True)"
   ]
  },
  {
   "cell_type": "code",
   "execution_count": 26,
   "id": "475e020d",
   "metadata": {
    "execution": {
     "iopub.execute_input": "2022-06-15T10:16:24.359865Z",
     "iopub.status.busy": "2022-06-15T10:16:24.359354Z",
     "iopub.status.idle": "2022-06-15T10:16:24.369639Z",
     "shell.execute_reply": "2022-06-15T10:16:24.368552Z"
    },
    "papermill": {
     "duration": 0.039827,
     "end_time": "2022-06-15T10:16:24.371705",
     "exception": false,
     "start_time": "2022-06-15T10:16:24.331878",
     "status": "completed"
    },
    "tags": []
   },
   "outputs": [
    {
     "data": {
      "text/plain": [
       "Survived    0\n",
       "Pclass      0\n",
       "Sex         0\n",
       "Age         0\n",
       "SibSp       0\n",
       "Parch       0\n",
       "Ticket      0\n",
       "Fare        0\n",
       "Embarked    0\n",
       "dtype: int64"
      ]
     },
     "execution_count": 26,
     "metadata": {},
     "output_type": "execute_result"
    }
   ],
   "source": [
    "df.isna().sum()"
   ]
  },
  {
   "cell_type": "markdown",
   "id": "3c223af4",
   "metadata": {
    "papermill": {
     "duration": 0.025703,
     "end_time": "2022-06-15T10:16:24.423972",
     "exception": false,
     "start_time": "2022-06-15T10:16:24.398269",
     "status": "completed"
    },
    "tags": []
   },
   "source": [
    "# Encoding categorical columns"
   ]
  },
  {
   "cell_type": "code",
   "execution_count": 27,
   "id": "5ee6130b",
   "metadata": {
    "execution": {
     "iopub.execute_input": "2022-06-15T10:16:24.478597Z",
     "iopub.status.busy": "2022-06-15T10:16:24.478036Z",
     "iopub.status.idle": "2022-06-15T10:16:24.486661Z",
     "shell.execute_reply": "2022-06-15T10:16:24.485587Z"
    },
    "papermill": {
     "duration": 0.038821,
     "end_time": "2022-06-15T10:16:24.488720",
     "exception": false,
     "start_time": "2022-06-15T10:16:24.449899",
     "status": "completed"
    },
    "tags": []
   },
   "outputs": [
    {
     "data": {
      "text/plain": [
       "Index(['Sex', 'Ticket', 'Embarked'], dtype='object')"
      ]
     },
     "execution_count": 27,
     "metadata": {},
     "output_type": "execute_result"
    }
   ],
   "source": [
    "df.select_dtypes(include='object').columns"
   ]
  },
  {
   "cell_type": "code",
   "execution_count": 28,
   "id": "8ffe097e",
   "metadata": {
    "execution": {
     "iopub.execute_input": "2022-06-15T10:16:24.543775Z",
     "iopub.status.busy": "2022-06-15T10:16:24.543334Z",
     "iopub.status.idle": "2022-06-15T10:16:24.551682Z",
     "shell.execute_reply": "2022-06-15T10:16:24.550374Z"
    },
    "papermill": {
     "duration": 0.038014,
     "end_time": "2022-06-15T10:16:24.553748",
     "exception": false,
     "start_time": "2022-06-15T10:16:24.515734",
     "status": "completed"
    },
    "tags": []
   },
   "outputs": [
    {
     "name": "stdout",
     "output_type": "stream",
     "text": [
      "Column \"Sex\" has 2 unique values\n",
      "Column \"Ticket\" has 679 unique values\n",
      "Column \"Embarked\" has 3 unique values\n"
     ]
    }
   ],
   "source": [
    "print('Column \"Sex\" has ' + str(df['Sex'].nunique()) + ' unique values')\n",
    "print('Column \"Ticket\" has ' + str(df['Ticket'].nunique()) + ' unique values')\n",
    "print('Column \"Embarked\" has ' + str(df['Embarked'].nunique()) + ' unique values')"
   ]
  },
  {
   "cell_type": "code",
   "execution_count": 29,
   "id": "ec81edb1",
   "metadata": {
    "execution": {
     "iopub.execute_input": "2022-06-15T10:16:24.608320Z",
     "iopub.status.busy": "2022-06-15T10:16:24.607736Z",
     "iopub.status.idle": "2022-06-15T10:16:24.618574Z",
     "shell.execute_reply": "2022-06-15T10:16:24.617738Z"
    },
    "papermill": {
     "duration": 0.040285,
     "end_time": "2022-06-15T10:16:24.620725",
     "exception": false,
     "start_time": "2022-06-15T10:16:24.580440",
     "status": "completed"
    },
    "tags": []
   },
   "outputs": [
    {
     "data": {
      "text/plain": [
       "347082      7\n",
       "1601        7\n",
       "CA. 2343    7\n",
       "3101295     6\n",
       "CA 2144     6\n",
       "           ..\n",
       "19988       1\n",
       "2693        1\n",
       "PC 17612    1\n",
       "349233      1\n",
       "370376      1\n",
       "Name: Ticket, Length: 679, dtype: int64"
      ]
     },
     "execution_count": 29,
     "metadata": {},
     "output_type": "execute_result"
    }
   ],
   "source": [
    "df['Ticket'].value_counts()"
   ]
  },
  {
   "cell_type": "code",
   "execution_count": 30,
   "id": "48ff9855",
   "metadata": {
    "execution": {
     "iopub.execute_input": "2022-06-15T10:16:24.675373Z",
     "iopub.status.busy": "2022-06-15T10:16:24.674934Z",
     "iopub.status.idle": "2022-06-15T10:16:24.681049Z",
     "shell.execute_reply": "2022-06-15T10:16:24.680032Z"
    },
    "papermill": {
     "duration": 0.035821,
     "end_time": "2022-06-15T10:16:24.682962",
     "exception": false,
     "start_time": "2022-06-15T10:16:24.647141",
     "status": "completed"
    },
    "tags": []
   },
   "outputs": [],
   "source": [
    "df.drop('Ticket', axis=1, inplace=True)"
   ]
  },
  {
   "cell_type": "code",
   "execution_count": 31,
   "id": "1723068d",
   "metadata": {
    "execution": {
     "iopub.execute_input": "2022-06-15T10:16:24.738945Z",
     "iopub.status.busy": "2022-06-15T10:16:24.738559Z",
     "iopub.status.idle": "2022-06-15T10:16:24.750187Z",
     "shell.execute_reply": "2022-06-15T10:16:24.749414Z"
    },
    "papermill": {
     "duration": 0.041624,
     "end_time": "2022-06-15T10:16:24.752493",
     "exception": false,
     "start_time": "2022-06-15T10:16:24.710869",
     "status": "completed"
    },
    "tags": []
   },
   "outputs": [],
   "source": [
    "df = pd.concat([pd.get_dummies(df['Sex']) , df.drop('Sex', axis=1)], axis=1)\n",
    "df = pd.concat([pd.get_dummies(df['Embarked'], drop_first=True) , df.drop('Embarked', axis=1)], axis=1)"
   ]
  },
  {
   "cell_type": "code",
   "execution_count": 32,
   "id": "16ae6c98",
   "metadata": {
    "execution": {
     "iopub.execute_input": "2022-06-15T10:16:24.807641Z",
     "iopub.status.busy": "2022-06-15T10:16:24.806939Z",
     "iopub.status.idle": "2022-06-15T10:16:24.820582Z",
     "shell.execute_reply": "2022-06-15T10:16:24.819799Z"
    },
    "papermill": {
     "duration": 0.043398,
     "end_time": "2022-06-15T10:16:24.822554",
     "exception": false,
     "start_time": "2022-06-15T10:16:24.779156",
     "status": "completed"
    },
    "tags": []
   },
   "outputs": [
    {
     "data": {
      "text/html": [
       "<div>\n",
       "<style scoped>\n",
       "    .dataframe tbody tr th:only-of-type {\n",
       "        vertical-align: middle;\n",
       "    }\n",
       "\n",
       "    .dataframe tbody tr th {\n",
       "        vertical-align: top;\n",
       "    }\n",
       "\n",
       "    .dataframe thead th {\n",
       "        text-align: right;\n",
       "    }\n",
       "</style>\n",
       "<table border=\"1\" class=\"dataframe\">\n",
       "  <thead>\n",
       "    <tr style=\"text-align: right;\">\n",
       "      <th></th>\n",
       "      <th>Q</th>\n",
       "      <th>S</th>\n",
       "      <th>female</th>\n",
       "      <th>male</th>\n",
       "      <th>Survived</th>\n",
       "      <th>Pclass</th>\n",
       "      <th>Age</th>\n",
       "      <th>SibSp</th>\n",
       "      <th>Parch</th>\n",
       "      <th>Fare</th>\n",
       "    </tr>\n",
       "  </thead>\n",
       "  <tbody>\n",
       "    <tr>\n",
       "      <th>0</th>\n",
       "      <td>0</td>\n",
       "      <td>1</td>\n",
       "      <td>0</td>\n",
       "      <td>1</td>\n",
       "      <td>0</td>\n",
       "      <td>3</td>\n",
       "      <td>22.0</td>\n",
       "      <td>1</td>\n",
       "      <td>0</td>\n",
       "      <td>7.2500</td>\n",
       "    </tr>\n",
       "    <tr>\n",
       "      <th>1</th>\n",
       "      <td>0</td>\n",
       "      <td>0</td>\n",
       "      <td>1</td>\n",
       "      <td>0</td>\n",
       "      <td>1</td>\n",
       "      <td>1</td>\n",
       "      <td>38.0</td>\n",
       "      <td>1</td>\n",
       "      <td>0</td>\n",
       "      <td>71.2833</td>\n",
       "    </tr>\n",
       "    <tr>\n",
       "      <th>2</th>\n",
       "      <td>0</td>\n",
       "      <td>1</td>\n",
       "      <td>1</td>\n",
       "      <td>0</td>\n",
       "      <td>1</td>\n",
       "      <td>3</td>\n",
       "      <td>26.0</td>\n",
       "      <td>0</td>\n",
       "      <td>0</td>\n",
       "      <td>7.9250</td>\n",
       "    </tr>\n",
       "    <tr>\n",
       "      <th>3</th>\n",
       "      <td>0</td>\n",
       "      <td>1</td>\n",
       "      <td>1</td>\n",
       "      <td>0</td>\n",
       "      <td>1</td>\n",
       "      <td>1</td>\n",
       "      <td>35.0</td>\n",
       "      <td>1</td>\n",
       "      <td>0</td>\n",
       "      <td>53.1000</td>\n",
       "    </tr>\n",
       "    <tr>\n",
       "      <th>4</th>\n",
       "      <td>0</td>\n",
       "      <td>1</td>\n",
       "      <td>0</td>\n",
       "      <td>1</td>\n",
       "      <td>0</td>\n",
       "      <td>3</td>\n",
       "      <td>35.0</td>\n",
       "      <td>0</td>\n",
       "      <td>0</td>\n",
       "      <td>8.0500</td>\n",
       "    </tr>\n",
       "  </tbody>\n",
       "</table>\n",
       "</div>"
      ],
      "text/plain": [
       "   Q  S  female  male  Survived  Pclass   Age  SibSp  Parch     Fare\n",
       "0  0  1       0     1         0       3  22.0      1      0   7.2500\n",
       "1  0  0       1     0         1       1  38.0      1      0  71.2833\n",
       "2  0  1       1     0         1       3  26.0      0      0   7.9250\n",
       "3  0  1       1     0         1       1  35.0      1      0  53.1000\n",
       "4  0  1       0     1         0       3  35.0      0      0   8.0500"
      ]
     },
     "execution_count": 32,
     "metadata": {},
     "output_type": "execute_result"
    }
   ],
   "source": [
    "df.head()"
   ]
  },
  {
   "cell_type": "markdown",
   "id": "4a4be2ae",
   "metadata": {
    "papermill": {
     "duration": 0.026589,
     "end_time": "2022-06-15T10:16:24.877036",
     "exception": false,
     "start_time": "2022-06-15T10:16:24.850447",
     "status": "completed"
    },
    "tags": []
   },
   "source": [
    "# Train-Test split of dataset"
   ]
  },
  {
   "cell_type": "code",
   "execution_count": 33,
   "id": "aa41695a",
   "metadata": {
    "execution": {
     "iopub.execute_input": "2022-06-15T10:16:24.933066Z",
     "iopub.status.busy": "2022-06-15T10:16:24.932164Z",
     "iopub.status.idle": "2022-06-15T10:16:24.940563Z",
     "shell.execute_reply": "2022-06-15T10:16:24.939716Z"
    },
    "papermill": {
     "duration": 0.039407,
     "end_time": "2022-06-15T10:16:24.943146",
     "exception": false,
     "start_time": "2022-06-15T10:16:24.903739",
     "status": "completed"
    },
    "tags": []
   },
   "outputs": [],
   "source": [
    "X = df.drop('Survived', axis=1)\n",
    "y = df['Survived']\n",
    "X_train, X_test, y_train, y_test = train_test_split(X, y, test_size=0.15, random_state=42)"
   ]
  },
  {
   "cell_type": "code",
   "execution_count": 34,
   "id": "7c7a90e9",
   "metadata": {
    "execution": {
     "iopub.execute_input": "2022-06-15T10:16:24.999112Z",
     "iopub.status.busy": "2022-06-15T10:16:24.998679Z",
     "iopub.status.idle": "2022-06-15T10:16:25.012488Z",
     "shell.execute_reply": "2022-06-15T10:16:25.011579Z"
    },
    "papermill": {
     "duration": 0.044016,
     "end_time": "2022-06-15T10:16:25.014595",
     "exception": false,
     "start_time": "2022-06-15T10:16:24.970579",
     "status": "completed"
    },
    "tags": []
   },
   "outputs": [
    {
     "data": {
      "text/html": [
       "<div>\n",
       "<style scoped>\n",
       "    .dataframe tbody tr th:only-of-type {\n",
       "        vertical-align: middle;\n",
       "    }\n",
       "\n",
       "    .dataframe tbody tr th {\n",
       "        vertical-align: top;\n",
       "    }\n",
       "\n",
       "    .dataframe thead th {\n",
       "        text-align: right;\n",
       "    }\n",
       "</style>\n",
       "<table border=\"1\" class=\"dataframe\">\n",
       "  <thead>\n",
       "    <tr style=\"text-align: right;\">\n",
       "      <th></th>\n",
       "      <th>Q</th>\n",
       "      <th>S</th>\n",
       "      <th>female</th>\n",
       "      <th>male</th>\n",
       "      <th>Pclass</th>\n",
       "      <th>Age</th>\n",
       "      <th>SibSp</th>\n",
       "      <th>Parch</th>\n",
       "      <th>Fare</th>\n",
       "    </tr>\n",
       "  </thead>\n",
       "  <tbody>\n",
       "    <tr>\n",
       "      <th>0</th>\n",
       "      <td>0</td>\n",
       "      <td>1</td>\n",
       "      <td>0</td>\n",
       "      <td>1</td>\n",
       "      <td>3</td>\n",
       "      <td>22.0</td>\n",
       "      <td>1</td>\n",
       "      <td>0</td>\n",
       "      <td>7.2500</td>\n",
       "    </tr>\n",
       "    <tr>\n",
       "      <th>1</th>\n",
       "      <td>0</td>\n",
       "      <td>0</td>\n",
       "      <td>1</td>\n",
       "      <td>0</td>\n",
       "      <td>1</td>\n",
       "      <td>38.0</td>\n",
       "      <td>1</td>\n",
       "      <td>0</td>\n",
       "      <td>71.2833</td>\n",
       "    </tr>\n",
       "    <tr>\n",
       "      <th>2</th>\n",
       "      <td>0</td>\n",
       "      <td>1</td>\n",
       "      <td>1</td>\n",
       "      <td>0</td>\n",
       "      <td>3</td>\n",
       "      <td>26.0</td>\n",
       "      <td>0</td>\n",
       "      <td>0</td>\n",
       "      <td>7.9250</td>\n",
       "    </tr>\n",
       "    <tr>\n",
       "      <th>3</th>\n",
       "      <td>0</td>\n",
       "      <td>1</td>\n",
       "      <td>1</td>\n",
       "      <td>0</td>\n",
       "      <td>1</td>\n",
       "      <td>35.0</td>\n",
       "      <td>1</td>\n",
       "      <td>0</td>\n",
       "      <td>53.1000</td>\n",
       "    </tr>\n",
       "    <tr>\n",
       "      <th>4</th>\n",
       "      <td>0</td>\n",
       "      <td>1</td>\n",
       "      <td>0</td>\n",
       "      <td>1</td>\n",
       "      <td>3</td>\n",
       "      <td>35.0</td>\n",
       "      <td>0</td>\n",
       "      <td>0</td>\n",
       "      <td>8.0500</td>\n",
       "    </tr>\n",
       "  </tbody>\n",
       "</table>\n",
       "</div>"
      ],
      "text/plain": [
       "   Q  S  female  male  Pclass   Age  SibSp  Parch     Fare\n",
       "0  0  1       0     1       3  22.0      1      0   7.2500\n",
       "1  0  0       1     0       1  38.0      1      0  71.2833\n",
       "2  0  1       1     0       3  26.0      0      0   7.9250\n",
       "3  0  1       1     0       1  35.0      1      0  53.1000\n",
       "4  0  1       0     1       3  35.0      0      0   8.0500"
      ]
     },
     "execution_count": 34,
     "metadata": {},
     "output_type": "execute_result"
    }
   ],
   "source": [
    "X.head()"
   ]
  },
  {
   "cell_type": "markdown",
   "id": "c66e3f1b",
   "metadata": {
    "papermill": {
     "duration": 0.026784,
     "end_time": "2022-06-15T10:16:25.068011",
     "exception": false,
     "start_time": "2022-06-15T10:16:25.041227",
     "status": "completed"
    },
    "tags": []
   },
   "source": [
    "# Preparing Test data for submission"
   ]
  },
  {
   "cell_type": "code",
   "execution_count": 35,
   "id": "9eae536b",
   "metadata": {
    "execution": {
     "iopub.execute_input": "2022-06-15T10:16:25.123829Z",
     "iopub.status.busy": "2022-06-15T10:16:25.123397Z",
     "iopub.status.idle": "2022-06-15T10:16:25.147241Z",
     "shell.execute_reply": "2022-06-15T10:16:25.146364Z"
    },
    "papermill": {
     "duration": 0.054231,
     "end_time": "2022-06-15T10:16:25.149349",
     "exception": false,
     "start_time": "2022-06-15T10:16:25.095118",
     "status": "completed"
    },
    "tags": []
   },
   "outputs": [
    {
     "data": {
      "text/html": [
       "<div>\n",
       "<style scoped>\n",
       "    .dataframe tbody tr th:only-of-type {\n",
       "        vertical-align: middle;\n",
       "    }\n",
       "\n",
       "    .dataframe tbody tr th {\n",
       "        vertical-align: top;\n",
       "    }\n",
       "\n",
       "    .dataframe thead th {\n",
       "        text-align: right;\n",
       "    }\n",
       "</style>\n",
       "<table border=\"1\" class=\"dataframe\">\n",
       "  <thead>\n",
       "    <tr style=\"text-align: right;\">\n",
       "      <th></th>\n",
       "      <th>PassengerId</th>\n",
       "      <th>Pclass</th>\n",
       "      <th>Name</th>\n",
       "      <th>Sex</th>\n",
       "      <th>Age</th>\n",
       "      <th>SibSp</th>\n",
       "      <th>Parch</th>\n",
       "      <th>Ticket</th>\n",
       "      <th>Fare</th>\n",
       "      <th>Cabin</th>\n",
       "      <th>Embarked</th>\n",
       "    </tr>\n",
       "  </thead>\n",
       "  <tbody>\n",
       "    <tr>\n",
       "      <th>0</th>\n",
       "      <td>892</td>\n",
       "      <td>3</td>\n",
       "      <td>Kelly, Mr. James</td>\n",
       "      <td>male</td>\n",
       "      <td>34.5</td>\n",
       "      <td>0</td>\n",
       "      <td>0</td>\n",
       "      <td>330911</td>\n",
       "      <td>7.8292</td>\n",
       "      <td>NaN</td>\n",
       "      <td>Q</td>\n",
       "    </tr>\n",
       "    <tr>\n",
       "      <th>1</th>\n",
       "      <td>893</td>\n",
       "      <td>3</td>\n",
       "      <td>Wilkes, Mrs. James (Ellen Needs)</td>\n",
       "      <td>female</td>\n",
       "      <td>47.0</td>\n",
       "      <td>1</td>\n",
       "      <td>0</td>\n",
       "      <td>363272</td>\n",
       "      <td>7.0000</td>\n",
       "      <td>NaN</td>\n",
       "      <td>S</td>\n",
       "    </tr>\n",
       "    <tr>\n",
       "      <th>2</th>\n",
       "      <td>894</td>\n",
       "      <td>2</td>\n",
       "      <td>Myles, Mr. Thomas Francis</td>\n",
       "      <td>male</td>\n",
       "      <td>62.0</td>\n",
       "      <td>0</td>\n",
       "      <td>0</td>\n",
       "      <td>240276</td>\n",
       "      <td>9.6875</td>\n",
       "      <td>NaN</td>\n",
       "      <td>Q</td>\n",
       "    </tr>\n",
       "    <tr>\n",
       "      <th>3</th>\n",
       "      <td>895</td>\n",
       "      <td>3</td>\n",
       "      <td>Wirz, Mr. Albert</td>\n",
       "      <td>male</td>\n",
       "      <td>27.0</td>\n",
       "      <td>0</td>\n",
       "      <td>0</td>\n",
       "      <td>315154</td>\n",
       "      <td>8.6625</td>\n",
       "      <td>NaN</td>\n",
       "      <td>S</td>\n",
       "    </tr>\n",
       "    <tr>\n",
       "      <th>4</th>\n",
       "      <td>896</td>\n",
       "      <td>3</td>\n",
       "      <td>Hirvonen, Mrs. Alexander (Helga E Lindqvist)</td>\n",
       "      <td>female</td>\n",
       "      <td>22.0</td>\n",
       "      <td>1</td>\n",
       "      <td>1</td>\n",
       "      <td>3101298</td>\n",
       "      <td>12.2875</td>\n",
       "      <td>NaN</td>\n",
       "      <td>S</td>\n",
       "    </tr>\n",
       "    <tr>\n",
       "      <th>...</th>\n",
       "      <td>...</td>\n",
       "      <td>...</td>\n",
       "      <td>...</td>\n",
       "      <td>...</td>\n",
       "      <td>...</td>\n",
       "      <td>...</td>\n",
       "      <td>...</td>\n",
       "      <td>...</td>\n",
       "      <td>...</td>\n",
       "      <td>...</td>\n",
       "      <td>...</td>\n",
       "    </tr>\n",
       "    <tr>\n",
       "      <th>413</th>\n",
       "      <td>1305</td>\n",
       "      <td>3</td>\n",
       "      <td>Spector, Mr. Woolf</td>\n",
       "      <td>male</td>\n",
       "      <td>NaN</td>\n",
       "      <td>0</td>\n",
       "      <td>0</td>\n",
       "      <td>A.5. 3236</td>\n",
       "      <td>8.0500</td>\n",
       "      <td>NaN</td>\n",
       "      <td>S</td>\n",
       "    </tr>\n",
       "    <tr>\n",
       "      <th>414</th>\n",
       "      <td>1306</td>\n",
       "      <td>1</td>\n",
       "      <td>Oliva y Ocana, Dona. Fermina</td>\n",
       "      <td>female</td>\n",
       "      <td>39.0</td>\n",
       "      <td>0</td>\n",
       "      <td>0</td>\n",
       "      <td>PC 17758</td>\n",
       "      <td>108.9000</td>\n",
       "      <td>C105</td>\n",
       "      <td>C</td>\n",
       "    </tr>\n",
       "    <tr>\n",
       "      <th>415</th>\n",
       "      <td>1307</td>\n",
       "      <td>3</td>\n",
       "      <td>Saether, Mr. Simon Sivertsen</td>\n",
       "      <td>male</td>\n",
       "      <td>38.5</td>\n",
       "      <td>0</td>\n",
       "      <td>0</td>\n",
       "      <td>SOTON/O.Q. 3101262</td>\n",
       "      <td>7.2500</td>\n",
       "      <td>NaN</td>\n",
       "      <td>S</td>\n",
       "    </tr>\n",
       "    <tr>\n",
       "      <th>416</th>\n",
       "      <td>1308</td>\n",
       "      <td>3</td>\n",
       "      <td>Ware, Mr. Frederick</td>\n",
       "      <td>male</td>\n",
       "      <td>NaN</td>\n",
       "      <td>0</td>\n",
       "      <td>0</td>\n",
       "      <td>359309</td>\n",
       "      <td>8.0500</td>\n",
       "      <td>NaN</td>\n",
       "      <td>S</td>\n",
       "    </tr>\n",
       "    <tr>\n",
       "      <th>417</th>\n",
       "      <td>1309</td>\n",
       "      <td>3</td>\n",
       "      <td>Peter, Master. Michael J</td>\n",
       "      <td>male</td>\n",
       "      <td>NaN</td>\n",
       "      <td>1</td>\n",
       "      <td>1</td>\n",
       "      <td>2668</td>\n",
       "      <td>22.3583</td>\n",
       "      <td>NaN</td>\n",
       "      <td>C</td>\n",
       "    </tr>\n",
       "  </tbody>\n",
       "</table>\n",
       "<p>418 rows × 11 columns</p>\n",
       "</div>"
      ],
      "text/plain": [
       "     PassengerId  Pclass                                          Name  \\\n",
       "0            892       3                              Kelly, Mr. James   \n",
       "1            893       3              Wilkes, Mrs. James (Ellen Needs)   \n",
       "2            894       2                     Myles, Mr. Thomas Francis   \n",
       "3            895       3                              Wirz, Mr. Albert   \n",
       "4            896       3  Hirvonen, Mrs. Alexander (Helga E Lindqvist)   \n",
       "..           ...     ...                                           ...   \n",
       "413         1305       3                            Spector, Mr. Woolf   \n",
       "414         1306       1                  Oliva y Ocana, Dona. Fermina   \n",
       "415         1307       3                  Saether, Mr. Simon Sivertsen   \n",
       "416         1308       3                           Ware, Mr. Frederick   \n",
       "417         1309       3                      Peter, Master. Michael J   \n",
       "\n",
       "        Sex   Age  SibSp  Parch              Ticket      Fare Cabin Embarked  \n",
       "0      male  34.5      0      0              330911    7.8292   NaN        Q  \n",
       "1    female  47.0      1      0              363272    7.0000   NaN        S  \n",
       "2      male  62.0      0      0              240276    9.6875   NaN        Q  \n",
       "3      male  27.0      0      0              315154    8.6625   NaN        S  \n",
       "4    female  22.0      1      1             3101298   12.2875   NaN        S  \n",
       "..      ...   ...    ...    ...                 ...       ...   ...      ...  \n",
       "413    male   NaN      0      0           A.5. 3236    8.0500   NaN        S  \n",
       "414  female  39.0      0      0            PC 17758  108.9000  C105        C  \n",
       "415    male  38.5      0      0  SOTON/O.Q. 3101262    7.2500   NaN        S  \n",
       "416    male   NaN      0      0              359309    8.0500   NaN        S  \n",
       "417    male   NaN      1      1                2668   22.3583   NaN        C  \n",
       "\n",
       "[418 rows x 11 columns]"
      ]
     },
     "execution_count": 35,
     "metadata": {},
     "output_type": "execute_result"
    }
   ],
   "source": [
    "test_df"
   ]
  },
  {
   "cell_type": "code",
   "execution_count": 36,
   "id": "41386ae4",
   "metadata": {
    "execution": {
     "iopub.execute_input": "2022-06-15T10:16:25.205996Z",
     "iopub.status.busy": "2022-06-15T10:16:25.205176Z",
     "iopub.status.idle": "2022-06-15T10:16:25.220776Z",
     "shell.execute_reply": "2022-06-15T10:16:25.219467Z"
    },
    "papermill": {
     "duration": 0.046083,
     "end_time": "2022-06-15T10:16:25.222919",
     "exception": false,
     "start_time": "2022-06-15T10:16:25.176836",
     "status": "completed"
    },
    "tags": []
   },
   "outputs": [
    {
     "data": {
      "text/html": [
       "<div>\n",
       "<style scoped>\n",
       "    .dataframe tbody tr th:only-of-type {\n",
       "        vertical-align: middle;\n",
       "    }\n",
       "\n",
       "    .dataframe tbody tr th {\n",
       "        vertical-align: top;\n",
       "    }\n",
       "\n",
       "    .dataframe thead th {\n",
       "        text-align: right;\n",
       "    }\n",
       "</style>\n",
       "<table border=\"1\" class=\"dataframe\">\n",
       "  <thead>\n",
       "    <tr style=\"text-align: right;\">\n",
       "      <th></th>\n",
       "      <th>Pclass</th>\n",
       "      <th>Sex</th>\n",
       "      <th>Age</th>\n",
       "      <th>SibSp</th>\n",
       "      <th>Parch</th>\n",
       "      <th>Fare</th>\n",
       "      <th>Embarked</th>\n",
       "    </tr>\n",
       "  </thead>\n",
       "  <tbody>\n",
       "    <tr>\n",
       "      <th>0</th>\n",
       "      <td>3</td>\n",
       "      <td>male</td>\n",
       "      <td>34.5</td>\n",
       "      <td>0</td>\n",
       "      <td>0</td>\n",
       "      <td>7.8292</td>\n",
       "      <td>Q</td>\n",
       "    </tr>\n",
       "    <tr>\n",
       "      <th>1</th>\n",
       "      <td>3</td>\n",
       "      <td>female</td>\n",
       "      <td>47.0</td>\n",
       "      <td>1</td>\n",
       "      <td>0</td>\n",
       "      <td>7.0000</td>\n",
       "      <td>S</td>\n",
       "    </tr>\n",
       "    <tr>\n",
       "      <th>2</th>\n",
       "      <td>2</td>\n",
       "      <td>male</td>\n",
       "      <td>62.0</td>\n",
       "      <td>0</td>\n",
       "      <td>0</td>\n",
       "      <td>9.6875</td>\n",
       "      <td>Q</td>\n",
       "    </tr>\n",
       "    <tr>\n",
       "      <th>3</th>\n",
       "      <td>3</td>\n",
       "      <td>male</td>\n",
       "      <td>27.0</td>\n",
       "      <td>0</td>\n",
       "      <td>0</td>\n",
       "      <td>8.6625</td>\n",
       "      <td>S</td>\n",
       "    </tr>\n",
       "    <tr>\n",
       "      <th>4</th>\n",
       "      <td>3</td>\n",
       "      <td>female</td>\n",
       "      <td>22.0</td>\n",
       "      <td>1</td>\n",
       "      <td>1</td>\n",
       "      <td>12.2875</td>\n",
       "      <td>S</td>\n",
       "    </tr>\n",
       "  </tbody>\n",
       "</table>\n",
       "</div>"
      ],
      "text/plain": [
       "   Pclass     Sex   Age  SibSp  Parch     Fare Embarked\n",
       "0       3    male  34.5      0      0   7.8292        Q\n",
       "1       3  female  47.0      1      0   7.0000        S\n",
       "2       2    male  62.0      0      0   9.6875        Q\n",
       "3       3    male  27.0      0      0   8.6625        S\n",
       "4       3  female  22.0      1      1  12.2875        S"
      ]
     },
     "execution_count": 36,
     "metadata": {},
     "output_type": "execute_result"
    }
   ],
   "source": [
    "test_df.drop(['PassengerId', 'Name', 'Ticket', 'Cabin'], axis=1, inplace=True)\n",
    "test_df.head()"
   ]
  },
  {
   "cell_type": "code",
   "execution_count": 37,
   "id": "140af038",
   "metadata": {
    "execution": {
     "iopub.execute_input": "2022-06-15T10:16:25.279493Z",
     "iopub.status.busy": "2022-06-15T10:16:25.278865Z",
     "iopub.status.idle": "2022-06-15T10:16:25.290023Z",
     "shell.execute_reply": "2022-06-15T10:16:25.289056Z"
    },
    "papermill": {
     "duration": 0.042065,
     "end_time": "2022-06-15T10:16:25.292377",
     "exception": false,
     "start_time": "2022-06-15T10:16:25.250312",
     "status": "completed"
    },
    "tags": []
   },
   "outputs": [],
   "source": [
    "test_df = pd.concat([pd.get_dummies(test_df['Sex']) , test_df.drop('Sex', axis=1)], axis=1)\n",
    "test_df = pd.concat([pd.get_dummies(test_df['Embarked'], drop_first=True) , test_df.drop('Embarked', axis=1)], axis=1)"
   ]
  },
  {
   "cell_type": "code",
   "execution_count": 38,
   "id": "42aa7d31",
   "metadata": {
    "execution": {
     "iopub.execute_input": "2022-06-15T10:16:25.349390Z",
     "iopub.status.busy": "2022-06-15T10:16:25.348791Z",
     "iopub.status.idle": "2022-06-15T10:16:25.361123Z",
     "shell.execute_reply": "2022-06-15T10:16:25.360517Z"
    },
    "papermill": {
     "duration": 0.042947,
     "end_time": "2022-06-15T10:16:25.363079",
     "exception": false,
     "start_time": "2022-06-15T10:16:25.320132",
     "status": "completed"
    },
    "tags": []
   },
   "outputs": [
    {
     "data": {
      "text/html": [
       "<div>\n",
       "<style scoped>\n",
       "    .dataframe tbody tr th:only-of-type {\n",
       "        vertical-align: middle;\n",
       "    }\n",
       "\n",
       "    .dataframe tbody tr th {\n",
       "        vertical-align: top;\n",
       "    }\n",
       "\n",
       "    .dataframe thead th {\n",
       "        text-align: right;\n",
       "    }\n",
       "</style>\n",
       "<table border=\"1\" class=\"dataframe\">\n",
       "  <thead>\n",
       "    <tr style=\"text-align: right;\">\n",
       "      <th></th>\n",
       "      <th>Q</th>\n",
       "      <th>S</th>\n",
       "      <th>female</th>\n",
       "      <th>male</th>\n",
       "      <th>Pclass</th>\n",
       "      <th>Age</th>\n",
       "      <th>SibSp</th>\n",
       "      <th>Parch</th>\n",
       "      <th>Fare</th>\n",
       "    </tr>\n",
       "  </thead>\n",
       "  <tbody>\n",
       "    <tr>\n",
       "      <th>0</th>\n",
       "      <td>1</td>\n",
       "      <td>0</td>\n",
       "      <td>0</td>\n",
       "      <td>1</td>\n",
       "      <td>3</td>\n",
       "      <td>34.5</td>\n",
       "      <td>0</td>\n",
       "      <td>0</td>\n",
       "      <td>7.8292</td>\n",
       "    </tr>\n",
       "    <tr>\n",
       "      <th>1</th>\n",
       "      <td>0</td>\n",
       "      <td>1</td>\n",
       "      <td>1</td>\n",
       "      <td>0</td>\n",
       "      <td>3</td>\n",
       "      <td>47.0</td>\n",
       "      <td>1</td>\n",
       "      <td>0</td>\n",
       "      <td>7.0000</td>\n",
       "    </tr>\n",
       "    <tr>\n",
       "      <th>2</th>\n",
       "      <td>1</td>\n",
       "      <td>0</td>\n",
       "      <td>0</td>\n",
       "      <td>1</td>\n",
       "      <td>2</td>\n",
       "      <td>62.0</td>\n",
       "      <td>0</td>\n",
       "      <td>0</td>\n",
       "      <td>9.6875</td>\n",
       "    </tr>\n",
       "    <tr>\n",
       "      <th>3</th>\n",
       "      <td>0</td>\n",
       "      <td>1</td>\n",
       "      <td>0</td>\n",
       "      <td>1</td>\n",
       "      <td>3</td>\n",
       "      <td>27.0</td>\n",
       "      <td>0</td>\n",
       "      <td>0</td>\n",
       "      <td>8.6625</td>\n",
       "    </tr>\n",
       "    <tr>\n",
       "      <th>4</th>\n",
       "      <td>0</td>\n",
       "      <td>1</td>\n",
       "      <td>1</td>\n",
       "      <td>0</td>\n",
       "      <td>3</td>\n",
       "      <td>22.0</td>\n",
       "      <td>1</td>\n",
       "      <td>1</td>\n",
       "      <td>12.2875</td>\n",
       "    </tr>\n",
       "  </tbody>\n",
       "</table>\n",
       "</div>"
      ],
      "text/plain": [
       "   Q  S  female  male  Pclass   Age  SibSp  Parch     Fare\n",
       "0  1  0       0     1       3  34.5      0      0   7.8292\n",
       "1  0  1       1     0       3  47.0      1      0   7.0000\n",
       "2  1  0       0     1       2  62.0      0      0   9.6875\n",
       "3  0  1       0     1       3  27.0      0      0   8.6625\n",
       "4  0  1       1     0       3  22.0      1      1  12.2875"
      ]
     },
     "execution_count": 38,
     "metadata": {},
     "output_type": "execute_result"
    }
   ],
   "source": [
    "test_df.head()"
   ]
  },
  {
   "cell_type": "markdown",
   "id": "18626f02",
   "metadata": {
    "papermill": {
     "duration": 0.026993,
     "end_time": "2022-06-15T10:16:25.417373",
     "exception": false,
     "start_time": "2022-06-15T10:16:25.390380",
     "status": "completed"
    },
    "tags": []
   },
   "source": [
    "# Create and Train ML model"
   ]
  },
  {
   "cell_type": "code",
   "execution_count": 39,
   "id": "912edbe4",
   "metadata": {
    "execution": {
     "iopub.execute_input": "2022-06-15T10:16:25.475286Z",
     "iopub.status.busy": "2022-06-15T10:16:25.474559Z",
     "iopub.status.idle": "2022-06-15T10:16:25.479354Z",
     "shell.execute_reply": "2022-06-15T10:16:25.478631Z"
    },
    "papermill": {
     "duration": 0.036627,
     "end_time": "2022-06-15T10:16:25.481521",
     "exception": false,
     "start_time": "2022-06-15T10:16:25.444894",
     "status": "completed"
    },
    "tags": []
   },
   "outputs": [],
   "source": [
    "xgb = XGBClassifier()\n",
    "rf = RandomForestClassifier(max_depth= 6, n_estimators= 90)\n",
    "knn = KNeighborsClassifier(n_neighbors=10)"
   ]
  },
  {
   "cell_type": "code",
   "execution_count": 40,
   "id": "f1f09282",
   "metadata": {
    "execution": {
     "iopub.execute_input": "2022-06-15T10:16:25.537955Z",
     "iopub.status.busy": "2022-06-15T10:16:25.537569Z",
     "iopub.status.idle": "2022-06-15T10:16:25.543424Z",
     "shell.execute_reply": "2022-06-15T10:16:25.542483Z"
    },
    "papermill": {
     "duration": 0.036544,
     "end_time": "2022-06-15T10:16:25.545492",
     "exception": false,
     "start_time": "2022-06-15T10:16:25.508948",
     "status": "completed"
    },
    "tags": []
   },
   "outputs": [],
   "source": [
    "def train_model(model, X, y):\n",
    "    model.fit(X_train, y_train)\n",
    "    score = model.score(X_test, y_test)\n",
    "    print(f\"The model's score is: {score*100:.2f}%\")\n",
    "    print(classification_report(y_test, model.predict(X_test)))\n",
    "    print(confusion_matrix(y_test, model.predict(X_test)))"
   ]
  },
  {
   "cell_type": "code",
   "execution_count": 41,
   "id": "0173fb4e",
   "metadata": {
    "execution": {
     "iopub.execute_input": "2022-06-15T10:16:25.602624Z",
     "iopub.status.busy": "2022-06-15T10:16:25.601920Z",
     "iopub.status.idle": "2022-06-15T10:16:25.937275Z",
     "shell.execute_reply": "2022-06-15T10:16:25.935872Z"
    },
    "papermill": {
     "duration": 0.368134,
     "end_time": "2022-06-15T10:16:25.940915",
     "exception": false,
     "start_time": "2022-06-15T10:16:25.572781",
     "status": "completed"
    },
    "tags": []
   },
   "outputs": [
    {
     "name": "stdout",
     "output_type": "stream",
     "text": [
      "The model's score is: 84.21%\n",
      "              precision    recall  f1-score   support\n",
      "\n",
      "           0       0.87      0.88      0.87        81\n",
      "           1       0.80      0.79      0.80        52\n",
      "\n",
      "    accuracy                           0.84       133\n",
      "   macro avg       0.83      0.83      0.83       133\n",
      "weighted avg       0.84      0.84      0.84       133\n",
      "\n",
      "[[71 10]\n",
      " [11 41]]\n"
     ]
    }
   ],
   "source": [
    "train_model(xgb, X, y)"
   ]
  },
  {
   "cell_type": "code",
   "execution_count": 42,
   "id": "7cc8218b",
   "metadata": {
    "execution": {
     "iopub.execute_input": "2022-06-15T10:16:26.056782Z",
     "iopub.status.busy": "2022-06-15T10:16:26.055656Z",
     "iopub.status.idle": "2022-06-15T10:16:26.295304Z",
     "shell.execute_reply": "2022-06-15T10:16:26.294247Z"
    },
    "papermill": {
     "duration": 0.325017,
     "end_time": "2022-06-15T10:16:26.297450",
     "exception": false,
     "start_time": "2022-06-15T10:16:25.972433",
     "status": "completed"
    },
    "tags": []
   },
   "outputs": [
    {
     "name": "stdout",
     "output_type": "stream",
     "text": [
      "The model's score is: 81.20%\n",
      "              precision    recall  f1-score   support\n",
      "\n",
      "           0       0.82      0.89      0.85        81\n",
      "           1       0.80      0.69      0.74        52\n",
      "\n",
      "    accuracy                           0.81       133\n",
      "   macro avg       0.81      0.79      0.80       133\n",
      "weighted avg       0.81      0.81      0.81       133\n",
      "\n",
      "[[72  9]\n",
      " [16 36]]\n"
     ]
    }
   ],
   "source": [
    "train_model(rf, X, y)"
   ]
  },
  {
   "cell_type": "code",
   "execution_count": 43,
   "id": "ee90a9c9",
   "metadata": {
    "execution": {
     "iopub.execute_input": "2022-06-15T10:16:26.356477Z",
     "iopub.status.busy": "2022-06-15T10:16:26.355549Z",
     "iopub.status.idle": "2022-06-15T10:16:26.391898Z",
     "shell.execute_reply": "2022-06-15T10:16:26.390670Z"
    },
    "papermill": {
     "duration": 0.069917,
     "end_time": "2022-06-15T10:16:26.395259",
     "exception": false,
     "start_time": "2022-06-15T10:16:26.325342",
     "status": "completed"
    },
    "tags": []
   },
   "outputs": [
    {
     "name": "stdout",
     "output_type": "stream",
     "text": [
      "The model's score is: 72.93%\n",
      "              precision    recall  f1-score   support\n",
      "\n",
      "           0       0.72      0.90      0.80        81\n",
      "           1       0.75      0.46      0.57        52\n",
      "\n",
      "    accuracy                           0.73       133\n",
      "   macro avg       0.74      0.68      0.69       133\n",
      "weighted avg       0.73      0.73      0.71       133\n",
      "\n",
      "[[73  8]\n",
      " [28 24]]\n"
     ]
    }
   ],
   "source": [
    "train_model(knn, X, y)"
   ]
  },
  {
   "cell_type": "code",
   "execution_count": 44,
   "id": "e0d9cef7",
   "metadata": {
    "execution": {
     "iopub.execute_input": "2022-06-15T10:16:26.453637Z",
     "iopub.status.busy": "2022-06-15T10:16:26.452433Z",
     "iopub.status.idle": "2022-06-15T10:16:26.462492Z",
     "shell.execute_reply": "2022-06-15T10:16:26.461579Z"
    },
    "papermill": {
     "duration": 0.040935,
     "end_time": "2022-06-15T10:16:26.464589",
     "exception": false,
     "start_time": "2022-06-15T10:16:26.423654",
     "status": "completed"
    },
    "tags": []
   },
   "outputs": [
    {
     "name": "stdout",
     "output_type": "stream",
     "text": [
      "Column names: Index(['Q', 'S', 'female', 'male', 'Pclass', 'Age', 'SibSp', 'Parch', 'Fare'], dtype='object')\n"
     ]
    },
    {
     "data": {
      "text/plain": [
       "array([0.01896387, 0.03447864, 0.56162596, 0.        , 0.23579177,\n",
       "       0.03549081, 0.04532248, 0.02990145, 0.03842506], dtype=float32)"
      ]
     },
     "execution_count": 44,
     "metadata": {},
     "output_type": "execute_result"
    }
   ],
   "source": [
    "print(f\"Column names: {X.columns}\")\n",
    "xgb.feature_importances_"
   ]
  },
  {
   "cell_type": "code",
   "execution_count": 45,
   "id": "c1cfdaa7",
   "metadata": {
    "execution": {
     "iopub.execute_input": "2022-06-15T10:16:26.522282Z",
     "iopub.status.busy": "2022-06-15T10:16:26.521533Z",
     "iopub.status.idle": "2022-06-15T10:16:26.724939Z",
     "shell.execute_reply": "2022-06-15T10:16:26.723817Z"
    },
    "papermill": {
     "duration": 0.234731,
     "end_time": "2022-06-15T10:16:26.727076",
     "exception": false,
     "start_time": "2022-06-15T10:16:26.492345",
     "status": "completed"
    },
    "tags": []
   },
   "outputs": [
    {
     "data": {
      "text/plain": [
       "<AxesSubplot:xlabel='Survived', ylabel='male'>"
      ]
     },
     "execution_count": 45,
     "metadata": {},
     "output_type": "execute_result"
    },
    {
     "data": {
      "image/png": "[encoded data removed]",
      "text/plain": [
       "<Figure size 432x288 with 1 Axes>"
      ]
     },
     "metadata": {
      "needs_background": "light"
     },
     "output_type": "display_data"
    }
   ],
   "source": [
    "sns.violinplot(x=df['Survived'], y=df['male'])"
   ]
  },
  {
   "cell_type": "markdown",
   "id": "82c9edd0",
   "metadata": {
    "papermill": {
     "duration": 0.028288,
     "end_time": "2022-06-15T10:16:26.783828",
     "exception": false,
     "start_time": "2022-06-15T10:16:26.755540",
     "status": "completed"
    },
    "tags": []
   },
   "source": [
    "# Clearly, Random Forest Classifier performed the best. So we will use this for our predictions"
   ]
  },
  {
   "cell_type": "markdown",
   "id": "9835ae6a",
   "metadata": {
    "papermill": {
     "duration": 0.028924,
     "end_time": "2022-06-15T10:16:26.841186",
     "exception": false,
     "start_time": "2022-06-15T10:16:26.812262",
     "status": "completed"
    },
    "tags": []
   },
   "source": [
    "## DL model"
   ]
  },
  {
   "cell_type": "code",
   "execution_count": 46,
   "id": "9d101e3a",
   "metadata": {
    "execution": {
     "iopub.execute_input": "2022-06-15T10:16:26.900445Z",
     "iopub.status.busy": "2022-06-15T10:16:26.900075Z",
     "iopub.status.idle": "2022-06-15T10:16:26.903858Z",
     "shell.execute_reply": "2022-06-15T10:16:26.903009Z"
    },
    "papermill": {
     "duration": 0.035434,
     "end_time": "2022-06-15T10:16:26.905806",
     "exception": false,
     "start_time": "2022-06-15T10:16:26.870372",
     "status": "completed"
    },
    "tags": []
   },
   "outputs": [],
   "source": [
    "# X_train.shape"
   ]
  },
  {
   "cell_type": "code",
   "execution_count": 47,
   "id": "363ee494",
   "metadata": {
    "execution": {
     "iopub.execute_input": "2022-06-15T10:16:26.965276Z",
     "iopub.status.busy": "2022-06-15T10:16:26.964045Z",
     "iopub.status.idle": "2022-06-15T10:16:26.968960Z",
     "shell.execute_reply": "2022-06-15T10:16:26.968320Z"
    },
    "papermill": {
     "duration": 0.036637,
     "end_time": "2022-06-15T10:16:26.970824",
     "exception": false,
     "start_time": "2022-06-15T10:16:26.934187",
     "status": "completed"
    },
    "tags": []
   },
   "outputs": [],
   "source": [
    "# model = Sequential()\n",
    "\n",
    "# model.add(Dense(100, input_dim=X_train.shape[1], activation='relu'))\n",
    "# model.add(Dropout(0.3))\n",
    "# model.add(Dense(50, activation='relu'))\n",
    "# model.add(Dropout(0.3))\n",
    "# model.add(Dense(25, activation='relu'))\n",
    "# model.add(Dense(1, activation='softmax'))\n",
    "\n",
    "# model.compile(optimizer='adam', loss='binary_crossentropy', metrics=['accuracy'])\n",
    "\n",
    "# model.summary()\n"
   ]
  },
  {
   "cell_type": "code",
   "execution_count": 48,
   "id": "a4e849c1",
   "metadata": {
    "execution": {
     "iopub.execute_input": "2022-06-15T10:16:27.029789Z",
     "iopub.status.busy": "2022-06-15T10:16:27.029370Z",
     "iopub.status.idle": "2022-06-15T10:16:27.033488Z",
     "shell.execute_reply": "2022-06-15T10:16:27.032562Z"
    },
    "papermill": {
     "duration": 0.036044,
     "end_time": "2022-06-15T10:16:27.035374",
     "exception": false,
     "start_time": "2022-06-15T10:16:26.999330",
     "status": "completed"
    },
    "tags": []
   },
   "outputs": [],
   "source": [
    "# early_stop = EarlyStopping(patience=5, mode='min', monitor='val_loss')"
   ]
  },
  {
   "cell_type": "code",
   "execution_count": 49,
   "id": "5c094a2a",
   "metadata": {
    "execution": {
     "iopub.execute_input": "2022-06-15T10:16:27.095388Z",
     "iopub.status.busy": "2022-06-15T10:16:27.094994Z",
     "iopub.status.idle": "2022-06-15T10:16:27.098989Z",
     "shell.execute_reply": "2022-06-15T10:16:27.097924Z"
    },
    "papermill": {
     "duration": 0.0373,
     "end_time": "2022-06-15T10:16:27.101061",
     "exception": false,
     "start_time": "2022-06-15T10:16:27.063761",
     "status": "completed"
    },
    "tags": []
   },
   "outputs": [],
   "source": [
    "# model.fit(X_train, y_train, epochs=100, batch_size=32, callbacks=[early_stop], validation_data=(X_test, y_test))"
   ]
  },
  {
   "cell_type": "code",
   "execution_count": 50,
   "id": "cdd2a40d",
   "metadata": {
    "execution": {
     "iopub.execute_input": "2022-06-15T10:16:27.160062Z",
     "iopub.status.busy": "2022-06-15T10:16:27.159399Z",
     "iopub.status.idle": "2022-06-15T10:16:27.163075Z",
     "shell.execute_reply": "2022-06-15T10:16:27.162413Z"
    },
    "papermill": {
     "duration": 0.035174,
     "end_time": "2022-06-15T10:16:27.164965",
     "exception": false,
     "start_time": "2022-06-15T10:16:27.129791",
     "status": "completed"
    },
    "tags": []
   },
   "outputs": [],
   "source": [
    "# losses = pd.DataFrame(model.history.history)"
   ]
  },
  {
   "cell_type": "code",
   "execution_count": 51,
   "id": "28d66794",
   "metadata": {
    "execution": {
     "iopub.execute_input": "2022-06-15T10:16:27.224769Z",
     "iopub.status.busy": "2022-06-15T10:16:27.224116Z",
     "iopub.status.idle": "2022-06-15T10:16:27.227565Z",
     "shell.execute_reply": "2022-06-15T10:16:27.226884Z"
    },
    "papermill": {
     "duration": 0.035198,
     "end_time": "2022-06-15T10:16:27.229519",
     "exception": false,
     "start_time": "2022-06-15T10:16:27.194321",
     "status": "completed"
    },
    "tags": []
   },
   "outputs": [],
   "source": [
    "# losses.plot()"
   ]
  },
  {
   "cell_type": "code",
   "execution_count": 52,
   "id": "1a31bb89",
   "metadata": {
    "execution": {
     "iopub.execute_input": "2022-06-15T10:16:27.288835Z",
     "iopub.status.busy": "2022-06-15T10:16:27.288402Z",
     "iopub.status.idle": "2022-06-15T10:16:27.291966Z",
     "shell.execute_reply": "2022-06-15T10:16:27.291259Z"
    },
    "papermill": {
     "duration": 0.034992,
     "end_time": "2022-06-15T10:16:27.293622",
     "exception": false,
     "start_time": "2022-06-15T10:16:27.258630",
     "status": "completed"
    },
    "tags": []
   },
   "outputs": [],
   "source": [
    "# model.predict(X_test)"
   ]
  },
  {
   "cell_type": "code",
   "execution_count": 53,
   "id": "97ffe81b",
   "metadata": {
    "execution": {
     "iopub.execute_input": "2022-06-15T10:16:27.352601Z",
     "iopub.status.busy": "2022-06-15T10:16:27.351925Z",
     "iopub.status.idle": "2022-06-15T10:16:27.355681Z",
     "shell.execute_reply": "2022-06-15T10:16:27.354960Z"
    },
    "papermill": {
     "duration": 0.035641,
     "end_time": "2022-06-15T10:16:27.357646",
     "exception": false,
     "start_time": "2022-06-15T10:16:27.322005",
     "status": "completed"
    },
    "tags": []
   },
   "outputs": [],
   "source": [
    "# _, accuracy = model.evaluate(X_test, y_test)\n",
    "# print('Accuracy: %.2f' % (accuracy*100))"
   ]
  },
  {
   "cell_type": "markdown",
   "id": "cac51f54",
   "metadata": {
    "papermill": {
     "duration": 0.028027,
     "end_time": "2022-06-15T10:16:27.414382",
     "exception": false,
     "start_time": "2022-06-15T10:16:27.386355",
     "status": "completed"
    },
    "tags": []
   },
   "source": [
    "## Hyperparameter Tuning"
   ]
  },
  {
   "cell_type": "code",
   "execution_count": 54,
   "id": "ffadcf72",
   "metadata": {
    "execution": {
     "iopub.execute_input": "2022-06-15T10:16:27.472786Z",
     "iopub.status.busy": "2022-06-15T10:16:27.472158Z",
     "iopub.status.idle": "2022-06-15T10:16:27.476243Z",
     "shell.execute_reply": "2022-06-15T10:16:27.475560Z"
    },
    "papermill": {
     "duration": 0.035633,
     "end_time": "2022-06-15T10:16:27.478255",
     "exception": false,
     "start_time": "2022-06-15T10:16:27.442622",
     "status": "completed"
    },
    "tags": []
   },
   "outputs": [],
   "source": [
    "kfold_split = StratifiedKFold(n_splits=10, shuffle=True, random_state=42)"
   ]
  },
  {
   "cell_type": "code",
   "execution_count": 55,
   "id": "628959ae",
   "metadata": {
    "execution": {
     "iopub.execute_input": "2022-06-15T10:16:27.536775Z",
     "iopub.status.busy": "2022-06-15T10:16:27.536221Z",
     "iopub.status.idle": "2022-06-15T10:16:27.541597Z",
     "shell.execute_reply": "2022-06-15T10:16:27.540696Z"
    },
    "papermill": {
     "duration": 0.036899,
     "end_time": "2022-06-15T10:16:27.543562",
     "exception": false,
     "start_time": "2022-06-15T10:16:27.506663",
     "status": "completed"
    },
    "tags": []
   },
   "outputs": [
    {
     "data": {
      "text/plain": [
       "<generator object _BaseKFold.split at 0x7f17983fc1d0>"
      ]
     },
     "execution_count": 55,
     "metadata": {},
     "output_type": "execute_result"
    }
   ],
   "source": [
    "kfold_split.split(X, y)"
   ]
  },
  {
   "cell_type": "code",
   "execution_count": 56,
   "id": "edb65245",
   "metadata": {
    "execution": {
     "iopub.execute_input": "2022-06-15T10:16:27.604343Z",
     "iopub.status.busy": "2022-06-15T10:16:27.603630Z",
     "iopub.status.idle": "2022-06-15T10:16:27.608864Z",
     "shell.execute_reply": "2022-06-15T10:16:27.607904Z"
    },
    "papermill": {
     "duration": 0.038328,
     "end_time": "2022-06-15T10:16:27.611159",
     "exception": false,
     "start_time": "2022-06-15T10:16:27.572831",
     "status": "completed"
    },
    "tags": []
   },
   "outputs": [],
   "source": [
    "params = {\n",
    "    'n_estimators': range(50, 100, 5),\n",
    "    'max_depth': range(1, 25, 5)\n",
    "}"
   ]
  },
  {
   "cell_type": "code",
   "execution_count": 57,
   "id": "af2c5f40",
   "metadata": {
    "execution": {
     "iopub.execute_input": "2022-06-15T10:16:27.670465Z",
     "iopub.status.busy": "2022-06-15T10:16:27.669784Z",
     "iopub.status.idle": "2022-06-15T10:16:27.674788Z",
     "shell.execute_reply": "2022-06-15T10:16:27.674052Z"
    },
    "papermill": {
     "duration": 0.036962,
     "end_time": "2022-06-15T10:16:27.676788",
     "exception": false,
     "start_time": "2022-06-15T10:16:27.639826",
     "status": "completed"
    },
    "tags": []
   },
   "outputs": [],
   "source": [
    "gsearch = GridSearchCV(\n",
    "    estimator=RandomForestClassifier(), \n",
    "    param_grid=params, \n",
    "    cv = kfold_split, \n",
    "    verbose = 1\n",
    ")"
   ]
  },
  {
   "cell_type": "code",
   "execution_count": 58,
   "id": "71995de8",
   "metadata": {
    "execution": {
     "iopub.execute_input": "2022-06-15T10:16:27.736097Z",
     "iopub.status.busy": "2022-06-15T10:16:27.735096Z",
     "iopub.status.idle": "2022-06-15T10:17:47.246022Z",
     "shell.execute_reply": "2022-06-15T10:17:47.245301Z"
    },
    "papermill": {
     "duration": 79.575466,
     "end_time": "2022-06-15T10:17:47.280743",
     "exception": false,
     "start_time": "2022-06-15T10:16:27.705277",
     "status": "completed"
    },
    "tags": []
   },
   "outputs": [
    {
     "name": "stdout",
     "output_type": "stream",
     "text": [
      "Fitting 10 folds for each of 50 candidates, totalling 500 fits\n"
     ]
    },
    {
     "data": {
      "text/plain": [
       "GridSearchCV(cv=StratifiedKFold(n_splits=10, random_state=42, shuffle=True),\n",
       "             estimator=RandomForestClassifier(),\n",
       "             param_grid={'max_depth': range(1, 25, 5),\n",
       "                         'n_estimators': range(50, 100, 5)},\n",
       "             verbose=1)"
      ]
     },
     "execution_count": 58,
     "metadata": {},
     "output_type": "execute_result"
    }
   ],
   "source": [
    "gsearch.fit(X_train, y_train)"
   ]
  },
  {
   "cell_type": "code",
   "execution_count": 59,
   "id": "bed55e02",
   "metadata": {
    "execution": {
     "iopub.execute_input": "2022-06-15T10:17:47.340591Z",
     "iopub.status.busy": "2022-06-15T10:17:47.340058Z",
     "iopub.status.idle": "2022-06-15T10:17:47.346257Z",
     "shell.execute_reply": "2022-06-15T10:17:47.345367Z"
    },
    "papermill": {
     "duration": 0.03855,
     "end_time": "2022-06-15T10:17:47.348412",
     "exception": false,
     "start_time": "2022-06-15T10:17:47.309862",
     "status": "completed"
    },
    "tags": []
   },
   "outputs": [
    {
     "data": {
      "text/plain": [
       "({'max_depth': 11, 'n_estimators': 75}, 0.8381801801801801)"
      ]
     },
     "execution_count": 59,
     "metadata": {},
     "output_type": "execute_result"
    }
   ],
   "source": [
    "(gsearch.best_params_, gsearch.best_score_)"
   ]
  },
  {
   "cell_type": "code",
   "execution_count": null,
   "id": "d6fd9638",
   "metadata": {
    "execution": {
     "iopub.execute_input": "2022-06-13T15:46:33.423541Z",
     "iopub.status.busy": "2022-06-13T15:46:33.422356Z",
     "iopub.status.idle": "2022-06-13T15:46:33.430193Z",
     "shell.execute_reply": "2022-06-13T15:46:33.429497Z",
     "shell.execute_reply.started": "2022-06-13T15:46:33.423498Z"
    },
    "papermill": {
     "duration": 0.028825,
     "end_time": "2022-06-15T10:17:47.406189",
     "exception": false,
     "start_time": "2022-06-15T10:17:47.377364",
     "status": "completed"
    },
    "tags": []
   },
   "outputs": [],
   "source": []
  },
  {
   "cell_type": "code",
   "execution_count": null,
   "id": "0a204dc1",
   "metadata": {
    "papermill": {
     "duration": 0.028594,
     "end_time": "2022-06-15T10:17:47.463623",
     "exception": false,
     "start_time": "2022-06-15T10:17:47.435029",
     "status": "completed"
    },
    "tags": []
   },
   "outputs": [],
   "source": []
  },
  {
   "cell_type": "code",
   "execution_count": 60,
   "id": "eae43a92",
   "metadata": {
    "execution": {
     "iopub.execute_input": "2022-06-15T10:17:47.523560Z",
     "iopub.status.busy": "2022-06-15T10:17:47.523036Z",
     "iopub.status.idle": "2022-06-15T10:17:47.537032Z",
     "shell.execute_reply": "2022-06-15T10:17:47.535882Z"
    },
    "papermill": {
     "duration": 0.046568,
     "end_time": "2022-06-15T10:17:47.539209",
     "exception": false,
     "start_time": "2022-06-15T10:17:47.492641",
     "status": "completed"
    },
    "tags": []
   },
   "outputs": [
    {
     "data": {
      "text/html": [
       "<div>\n",
       "<style scoped>\n",
       "    .dataframe tbody tr th:only-of-type {\n",
       "        vertical-align: middle;\n",
       "    }\n",
       "\n",
       "    .dataframe tbody tr th {\n",
       "        vertical-align: top;\n",
       "    }\n",
       "\n",
       "    .dataframe thead th {\n",
       "        text-align: right;\n",
       "    }\n",
       "</style>\n",
       "<table border=\"1\" class=\"dataframe\">\n",
       "  <thead>\n",
       "    <tr style=\"text-align: right;\">\n",
       "      <th></th>\n",
       "      <th>Q</th>\n",
       "      <th>S</th>\n",
       "      <th>female</th>\n",
       "      <th>male</th>\n",
       "      <th>Pclass</th>\n",
       "      <th>Age</th>\n",
       "      <th>SibSp</th>\n",
       "      <th>Parch</th>\n",
       "      <th>Fare</th>\n",
       "    </tr>\n",
       "  </thead>\n",
       "  <tbody>\n",
       "    <tr>\n",
       "      <th>0</th>\n",
       "      <td>1</td>\n",
       "      <td>0</td>\n",
       "      <td>0</td>\n",
       "      <td>1</td>\n",
       "      <td>3</td>\n",
       "      <td>34.5</td>\n",
       "      <td>0</td>\n",
       "      <td>0</td>\n",
       "      <td>7.8292</td>\n",
       "    </tr>\n",
       "    <tr>\n",
       "      <th>1</th>\n",
       "      <td>0</td>\n",
       "      <td>1</td>\n",
       "      <td>1</td>\n",
       "      <td>0</td>\n",
       "      <td>3</td>\n",
       "      <td>47.0</td>\n",
       "      <td>1</td>\n",
       "      <td>0</td>\n",
       "      <td>7.0000</td>\n",
       "    </tr>\n",
       "    <tr>\n",
       "      <th>2</th>\n",
       "      <td>1</td>\n",
       "      <td>0</td>\n",
       "      <td>0</td>\n",
       "      <td>1</td>\n",
       "      <td>2</td>\n",
       "      <td>62.0</td>\n",
       "      <td>0</td>\n",
       "      <td>0</td>\n",
       "      <td>9.6875</td>\n",
       "    </tr>\n",
       "    <tr>\n",
       "      <th>3</th>\n",
       "      <td>0</td>\n",
       "      <td>1</td>\n",
       "      <td>0</td>\n",
       "      <td>1</td>\n",
       "      <td>3</td>\n",
       "      <td>27.0</td>\n",
       "      <td>0</td>\n",
       "      <td>0</td>\n",
       "      <td>8.6625</td>\n",
       "    </tr>\n",
       "    <tr>\n",
       "      <th>4</th>\n",
       "      <td>0</td>\n",
       "      <td>1</td>\n",
       "      <td>1</td>\n",
       "      <td>0</td>\n",
       "      <td>3</td>\n",
       "      <td>22.0</td>\n",
       "      <td>1</td>\n",
       "      <td>1</td>\n",
       "      <td>12.2875</td>\n",
       "    </tr>\n",
       "  </tbody>\n",
       "</table>\n",
       "</div>"
      ],
      "text/plain": [
       "   Q  S  female  male  Pclass   Age  SibSp  Parch     Fare\n",
       "0  1  0       0     1       3  34.5      0      0   7.8292\n",
       "1  0  1       1     0       3  47.0      1      0   7.0000\n",
       "2  1  0       0     1       2  62.0      0      0   9.6875\n",
       "3  0  1       0     1       3  27.0      0      0   8.6625\n",
       "4  0  1       1     0       3  22.0      1      1  12.2875"
      ]
     },
     "execution_count": 60,
     "metadata": {},
     "output_type": "execute_result"
    }
   ],
   "source": [
    "test_df.head()"
   ]
  },
  {
   "cell_type": "code",
   "execution_count": 61,
   "id": "8614ab64",
   "metadata": {
    "execution": {
     "iopub.execute_input": "2022-06-15T10:17:47.600877Z",
     "iopub.status.busy": "2022-06-15T10:17:47.600422Z",
     "iopub.status.idle": "2022-06-15T10:17:47.614768Z",
     "shell.execute_reply": "2022-06-15T10:17:47.613973Z"
    },
    "papermill": {
     "duration": 0.047945,
     "end_time": "2022-06-15T10:17:47.617356",
     "exception": false,
     "start_time": "2022-06-15T10:17:47.569411",
     "status": "completed"
    },
    "tags": []
   },
   "outputs": [],
   "source": [
    "predictions = xgb.predict(test_df)"
   ]
  },
  {
   "cell_type": "code",
   "execution_count": 62,
   "id": "ddc1c409",
   "metadata": {
    "execution": {
     "iopub.execute_input": "2022-06-15T10:17:47.679034Z",
     "iopub.status.busy": "2022-06-15T10:17:47.678653Z",
     "iopub.status.idle": "2022-06-15T10:17:47.689274Z",
     "shell.execute_reply": "2022-06-15T10:17:47.687996Z"
    },
    "papermill": {
     "duration": 0.043123,
     "end_time": "2022-06-15T10:17:47.691678",
     "exception": false,
     "start_time": "2022-06-15T10:17:47.648555",
     "status": "completed"
    },
    "tags": []
   },
   "outputs": [],
   "source": [
    "test_df = pd.read_csv('/kaggle/input/titanic/test.csv')"
   ]
  },
  {
   "cell_type": "code",
   "execution_count": 63,
   "id": "2f2540dd",
   "metadata": {
    "execution": {
     "iopub.execute_input": "2022-06-15T10:17:47.752220Z",
     "iopub.status.busy": "2022-06-15T10:17:47.751803Z",
     "iopub.status.idle": "2022-06-15T10:17:47.762415Z",
     "shell.execute_reply": "2022-06-15T10:17:47.761166Z"
    },
    "papermill": {
     "duration": 0.043424,
     "end_time": "2022-06-15T10:17:47.764701",
     "exception": false,
     "start_time": "2022-06-15T10:17:47.721277",
     "status": "completed"
    },
    "tags": []
   },
   "outputs": [
    {
     "name": "stdout",
     "output_type": "stream",
     "text": [
      "Your submission was successfully saved!\n"
     ]
    }
   ],
   "source": [
    "output = pd.DataFrame({'PassengerId': test_df.PassengerId, 'Survived': predictions})\n",
    "output.to_csv('submission.csv', index=False)\n",
    "print(\"Your submission was successfully saved!\")"
   ]
  },
  {
   "cell_type": "code",
   "execution_count": null,
   "id": "34a3bc04",
   "metadata": {
    "papermill": {
     "duration": 0.029197,
     "end_time": "2022-06-15T10:17:47.824032",
     "exception": false,
     "start_time": "2022-06-15T10:17:47.794835",
     "status": "completed"
    },
    "tags": []
   },
   "outputs": [],
   "source": []
  },
  {
   "cell_type": "code",
   "execution_count": null,
   "id": "99e1e7d0",
   "metadata": {
    "papermill": {
     "duration": 0.029037,
     "end_time": "2022-06-15T10:17:47.883085",
     "exception": false,
     "start_time": "2022-06-15T10:17:47.854048",
     "status": "completed"
    },
    "tags": []
   },
   "outputs": [],
   "source": []
  }
 ],
 "metadata": {
  "kernelspec": {
   "display_name": "Python 3",
   "language": "python",
   "name": "python3"
  },
  "language_info": {
   "codemirror_mode": {
    "name": "ipython",
    "version": 3
   },
   "file_extension": ".py",
   "mimetype": "text/x-python",
   "name": "python",
   "nbconvert_exporter": "python",
   "pygments_lexer": "ipython3",
   "version": "3.7.12"
  },
  "papermill": {
   "default_parameters": {},
   "duration": 115.719374,
   "end_time": "2022-06-15T10:17:50.899002",
   "environment_variables": {},
   "exception": null,
   "input_path": "__notebook__.ipynb",
   "output_path": "__notebook__.ipynb",
   "parameters": {},
   "start_time": "2022-06-15T10:15:55.179628",
   "version": "2.3.4"
  }
 },
 "nbformat": 4,
 "nbformat_minor": 5
}
